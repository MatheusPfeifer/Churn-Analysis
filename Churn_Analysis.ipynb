{
 "cells": [
  {
   "cell_type": "markdown",
   "id": "2a7f451c",
   "metadata": {},
   "source": [
    "# Churn Analysis"
   ]
  },
  {
   "cell_type": "markdown",
   "id": "001e2f96",
   "metadata": {},
   "source": [
    "Aqui iniciamos o processo de análise de churn para clientes do banco, todo o racional e os objetivos de ter uma análise de churn dentro uma empresa estão no ReadMe do projeto no githyb, então neste notebook concentraremos esforços para criar uma solução pra esse problema."
   ]
  },
  {
   "cell_type": "code",
   "execution_count": 1,
   "id": "b3878952",
   "metadata": {},
   "outputs": [],
   "source": [
    "# Importando as bibliotecas\n",
    "import pandas as pd\n",
    "import numpy as np\n",
    "import matplotlib.pyplot as plt\n",
    "import seaborn as sns\n",
    "import warnings\n",
    "warnings.filterwarnings('ignore')"
   ]
  },
  {
   "cell_type": "code",
   "execution_count": 2,
   "id": "f2309bf5",
   "metadata": {},
   "outputs": [
    {
     "data": {
      "text/html": [
       "<div>\n",
       "<style scoped>\n",
       "    .dataframe tbody tr th:only-of-type {\n",
       "        vertical-align: middle;\n",
       "    }\n",
       "\n",
       "    .dataframe tbody tr th {\n",
       "        vertical-align: top;\n",
       "    }\n",
       "\n",
       "    .dataframe thead th {\n",
       "        text-align: right;\n",
       "    }\n",
       "</style>\n",
       "<table border=\"1\" class=\"dataframe\">\n",
       "  <thead>\n",
       "    <tr style=\"text-align: right;\">\n",
       "      <th></th>\n",
       "      <th>RowNumber</th>\n",
       "      <th>CustomerId</th>\n",
       "      <th>Surname</th>\n",
       "      <th>CreditScore</th>\n",
       "      <th>Geography</th>\n",
       "      <th>Gender</th>\n",
       "      <th>Age</th>\n",
       "      <th>Tenure</th>\n",
       "      <th>Balance</th>\n",
       "      <th>NumOfProducts</th>\n",
       "      <th>HasCrCard</th>\n",
       "      <th>IsActiveMember</th>\n",
       "      <th>EstimatedSalary</th>\n",
       "      <th>Exited</th>\n",
       "    </tr>\n",
       "  </thead>\n",
       "  <tbody>\n",
       "    <tr>\n",
       "      <th>0</th>\n",
       "      <td>1</td>\n",
       "      <td>15634602</td>\n",
       "      <td>Hargrave</td>\n",
       "      <td>619</td>\n",
       "      <td>France</td>\n",
       "      <td>Female</td>\n",
       "      <td>42</td>\n",
       "      <td>2</td>\n",
       "      <td>0.00</td>\n",
       "      <td>1</td>\n",
       "      <td>1</td>\n",
       "      <td>1</td>\n",
       "      <td>101348.88</td>\n",
       "      <td>1</td>\n",
       "    </tr>\n",
       "    <tr>\n",
       "      <th>1</th>\n",
       "      <td>2</td>\n",
       "      <td>15647311</td>\n",
       "      <td>Hill</td>\n",
       "      <td>608</td>\n",
       "      <td>Spain</td>\n",
       "      <td>Female</td>\n",
       "      <td>41</td>\n",
       "      <td>1</td>\n",
       "      <td>83807.86</td>\n",
       "      <td>1</td>\n",
       "      <td>0</td>\n",
       "      <td>1</td>\n",
       "      <td>112542.58</td>\n",
       "      <td>0</td>\n",
       "    </tr>\n",
       "    <tr>\n",
       "      <th>2</th>\n",
       "      <td>3</td>\n",
       "      <td>15619304</td>\n",
       "      <td>Onio</td>\n",
       "      <td>502</td>\n",
       "      <td>France</td>\n",
       "      <td>Female</td>\n",
       "      <td>42</td>\n",
       "      <td>8</td>\n",
       "      <td>159660.80</td>\n",
       "      <td>3</td>\n",
       "      <td>1</td>\n",
       "      <td>0</td>\n",
       "      <td>113931.57</td>\n",
       "      <td>1</td>\n",
       "    </tr>\n",
       "    <tr>\n",
       "      <th>3</th>\n",
       "      <td>4</td>\n",
       "      <td>15701354</td>\n",
       "      <td>Boni</td>\n",
       "      <td>699</td>\n",
       "      <td>France</td>\n",
       "      <td>Female</td>\n",
       "      <td>39</td>\n",
       "      <td>1</td>\n",
       "      <td>0.00</td>\n",
       "      <td>2</td>\n",
       "      <td>0</td>\n",
       "      <td>0</td>\n",
       "      <td>93826.63</td>\n",
       "      <td>0</td>\n",
       "    </tr>\n",
       "    <tr>\n",
       "      <th>4</th>\n",
       "      <td>5</td>\n",
       "      <td>15737888</td>\n",
       "      <td>Mitchell</td>\n",
       "      <td>850</td>\n",
       "      <td>Spain</td>\n",
       "      <td>Female</td>\n",
       "      <td>43</td>\n",
       "      <td>2</td>\n",
       "      <td>125510.82</td>\n",
       "      <td>1</td>\n",
       "      <td>1</td>\n",
       "      <td>1</td>\n",
       "      <td>79084.10</td>\n",
       "      <td>0</td>\n",
       "    </tr>\n",
       "  </tbody>\n",
       "</table>\n",
       "</div>"
      ],
      "text/plain": [
       "   RowNumber  CustomerId   Surname  CreditScore Geography  Gender  Age  \\\n",
       "0          1    15634602  Hargrave          619    France  Female   42   \n",
       "1          2    15647311      Hill          608     Spain  Female   41   \n",
       "2          3    15619304      Onio          502    France  Female   42   \n",
       "3          4    15701354      Boni          699    France  Female   39   \n",
       "4          5    15737888  Mitchell          850     Spain  Female   43   \n",
       "\n",
       "   Tenure    Balance  NumOfProducts  HasCrCard  IsActiveMember  \\\n",
       "0       2       0.00              1          1               1   \n",
       "1       1   83807.86              1          0               1   \n",
       "2       8  159660.80              3          1               0   \n",
       "3       1       0.00              2          0               0   \n",
       "4       2  125510.82              1          1               1   \n",
       "\n",
       "   EstimatedSalary  Exited  \n",
       "0        101348.88       1  \n",
       "1        112542.58       0  \n",
       "2        113931.57       1  \n",
       "3         93826.63       0  \n",
       "4         79084.10       0  "
      ]
     },
     "execution_count": 2,
     "metadata": {},
     "output_type": "execute_result"
    }
   ],
   "source": [
    "# Importando os dados\n",
    "df = pd.read_csv('dados\\churn.csv')\n",
    "df.head()"
   ]
  },
  {
   "cell_type": "markdown",
   "id": "07acc152",
   "metadata": {},
   "source": [
    "# Análise Exploratória"
   ]
  },
  {
   "cell_type": "code",
   "execution_count": 3,
   "id": "343a2bef",
   "metadata": {},
   "outputs": [
    {
     "data": {
      "text/plain": [
       "(10000, 14)"
      ]
     },
     "execution_count": 3,
     "metadata": {},
     "output_type": "execute_result"
    }
   ],
   "source": [
    "# Shape do dataset\n",
    "df.shape"
   ]
  },
  {
   "cell_type": "code",
   "execution_count": 4,
   "id": "a2eaadb0",
   "metadata": {},
   "outputs": [
    {
     "name": "stdout",
     "output_type": "stream",
     "text": [
      "<class 'pandas.core.frame.DataFrame'>\n",
      "RangeIndex: 10000 entries, 0 to 9999\n",
      "Data columns (total 14 columns):\n",
      " #   Column           Non-Null Count  Dtype  \n",
      "---  ------           --------------  -----  \n",
      " 0   RowNumber        10000 non-null  int64  \n",
      " 1   CustomerId       10000 non-null  int64  \n",
      " 2   Surname          10000 non-null  object \n",
      " 3   CreditScore      10000 non-null  int64  \n",
      " 4   Geography        10000 non-null  object \n",
      " 5   Gender           10000 non-null  object \n",
      " 6   Age              10000 non-null  int64  \n",
      " 7   Tenure           10000 non-null  int64  \n",
      " 8   Balance          10000 non-null  float64\n",
      " 9   NumOfProducts    10000 non-null  int64  \n",
      " 10  HasCrCard        10000 non-null  int64  \n",
      " 11  IsActiveMember   10000 non-null  int64  \n",
      " 12  EstimatedSalary  10000 non-null  float64\n",
      " 13  Exited           10000 non-null  int64  \n",
      "dtypes: float64(2), int64(9), object(3)\n",
      "memory usage: 1.1+ MB\n"
     ]
    }
   ],
   "source": [
    "# Informação sobre o dataset\n",
    "df.info()"
   ]
  },
  {
   "cell_type": "markdown",
   "id": "cf2e4a48",
   "metadata": {},
   "source": [
    "Nesta primeira análise, verificamos que temos 3 tipos de variáveis. Tipo: float, int e object. Agora, podemos definir o que é variável categórica e numérica, para ser feito uma análise posteriormente.\n",
    "\n",
    "Variáveis numéricas: CreditScore, Age, Tenure, Balance, NumOfProducts, EstimatedSalary\n",
    "\n",
    "Variáveis categóricas: Geography, Gender, HasCrCard, IsActiveMember, Exited\n",
    "\n",
    "É importante ficar atento pois algumas variáveis categóricas são números, o que pode levar a pensar que é uma variável numérica quando na verdade não é."
   ]
  },
  {
   "cell_type": "markdown",
   "id": "f0d53a00",
   "metadata": {},
   "source": [
    "Verificando se os dataset não tem dados nulos, pelo resumo acima não tem, mas vamos verificar de novo usando os isnull() pra garantir "
   ]
  },
  {
   "cell_type": "code",
   "execution_count": 5,
   "id": "d1f486b3",
   "metadata": {},
   "outputs": [
    {
     "data": {
      "text/plain": [
       "RowNumber          0\n",
       "CustomerId         0\n",
       "Surname            0\n",
       "CreditScore        0\n",
       "Geography          0\n",
       "Gender             0\n",
       "Age                0\n",
       "Tenure             0\n",
       "Balance            0\n",
       "NumOfProducts      0\n",
       "HasCrCard          0\n",
       "IsActiveMember     0\n",
       "EstimatedSalary    0\n",
       "Exited             0\n",
       "dtype: int64"
      ]
     },
     "execution_count": 5,
     "metadata": {},
     "output_type": "execute_result"
    }
   ],
   "source": [
    "# Verificando valores nulos\n",
    "df.isnull().sum()"
   ]
  },
  {
   "cell_type": "markdown",
   "id": "04d9f345",
   "metadata": {},
   "source": [
    "Certo, o conjunto de dados não possui registros nulos, então não será necessário aplicar técnicas de imputação pelo que parece."
   ]
  },
  {
   "cell_type": "markdown",
   "id": "74db2958",
   "metadata": {},
   "source": [
    "Na próxima célula, será verificado a quantidade de valores únicos para cada coluna."
   ]
  },
  {
   "cell_type": "code",
   "execution_count": 6,
   "id": "072fdf77",
   "metadata": {},
   "outputs": [
    {
     "data": {
      "text/plain": [
       "RowNumber          10000\n",
       "CustomerId         10000\n",
       "Surname             2932\n",
       "CreditScore          460\n",
       "Geography              3\n",
       "Gender                 2\n",
       "Age                   70\n",
       "Tenure                11\n",
       "Balance             6382\n",
       "NumOfProducts          4\n",
       "HasCrCard              2\n",
       "IsActiveMember         2\n",
       "EstimatedSalary     9999\n",
       "Exited                 2\n",
       "dtype: int64"
      ]
     },
     "execution_count": 6,
     "metadata": {},
     "output_type": "execute_result"
    }
   ],
   "source": [
    "# Verificando valores únicos\n",
    "df.nunique()"
   ]
  },
  {
   "cell_type": "markdown",
   "id": "abe86198",
   "metadata": {},
   "source": [
    "Já identificamos o tipo de variáveis e também verificamos que não tem dados nulos, sendo assim podemos fazer uma análise mais aprofundada das variáveis para podermos entender o comportamento das mesmas"
   ]
  },
  {
   "cell_type": "code",
   "execution_count": 7,
   "id": "2b0f7f66",
   "metadata": {},
   "outputs": [],
   "source": [
    "# Variáveis numéricas\n",
    "var_num = ['CreditScore', 'Age', 'Tenure', 'Balance', 'NumOfProducts', 'EstimatedSalary']\n",
    "\n",
    "# Variáveis categóricas\n",
    "var_cat = ['Geography', 'Gender', 'HasCrCard', 'IsActiveMember', 'Exited']\n",
    "\n",
    "# Separando variáveis numéricas\n",
    "df_num = df[var_num]\n",
    "\n",
    "# Separando variáveis categóricas\n",
    "df_cat = df[var_cat]"
   ]
  },
  {
   "cell_type": "markdown",
   "id": "3bf01f06",
   "metadata": {},
   "source": [
    "Usando o describe, vamos verificar como estão distribuidas as variáveis numéricas. Este método fornece algumas medidas estatísticas dos dados, como média, mediana, desvio padrão, e também traz informações sobre os quartis, valores máximos e mínimos."
   ]
  },
  {
   "cell_type": "code",
   "execution_count": 8,
   "id": "9033b31f",
   "metadata": {},
   "outputs": [
    {
     "data": {
      "text/html": [
       "<div>\n",
       "<style scoped>\n",
       "    .dataframe tbody tr th:only-of-type {\n",
       "        vertical-align: middle;\n",
       "    }\n",
       "\n",
       "    .dataframe tbody tr th {\n",
       "        vertical-align: top;\n",
       "    }\n",
       "\n",
       "    .dataframe thead th {\n",
       "        text-align: right;\n",
       "    }\n",
       "</style>\n",
       "<table border=\"1\" class=\"dataframe\">\n",
       "  <thead>\n",
       "    <tr style=\"text-align: right;\">\n",
       "      <th></th>\n",
       "      <th>RowNumber</th>\n",
       "      <th>CustomerId</th>\n",
       "      <th>CreditScore</th>\n",
       "      <th>Age</th>\n",
       "      <th>Tenure</th>\n",
       "      <th>Balance</th>\n",
       "      <th>NumOfProducts</th>\n",
       "      <th>HasCrCard</th>\n",
       "      <th>IsActiveMember</th>\n",
       "      <th>EstimatedSalary</th>\n",
       "      <th>Exited</th>\n",
       "    </tr>\n",
       "  </thead>\n",
       "  <tbody>\n",
       "    <tr>\n",
       "      <th>count</th>\n",
       "      <td>10000.00000</td>\n",
       "      <td>1.000000e+04</td>\n",
       "      <td>10000.000000</td>\n",
       "      <td>10000.000000</td>\n",
       "      <td>10000.000000</td>\n",
       "      <td>10000.000000</td>\n",
       "      <td>10000.000000</td>\n",
       "      <td>10000.00000</td>\n",
       "      <td>10000.000000</td>\n",
       "      <td>10000.000000</td>\n",
       "      <td>10000.000000</td>\n",
       "    </tr>\n",
       "    <tr>\n",
       "      <th>mean</th>\n",
       "      <td>5000.50000</td>\n",
       "      <td>1.569094e+07</td>\n",
       "      <td>650.528800</td>\n",
       "      <td>38.921800</td>\n",
       "      <td>5.012800</td>\n",
       "      <td>76485.889288</td>\n",
       "      <td>1.530200</td>\n",
       "      <td>0.70550</td>\n",
       "      <td>0.515100</td>\n",
       "      <td>100090.239881</td>\n",
       "      <td>0.203700</td>\n",
       "    </tr>\n",
       "    <tr>\n",
       "      <th>std</th>\n",
       "      <td>2886.89568</td>\n",
       "      <td>7.193619e+04</td>\n",
       "      <td>96.653299</td>\n",
       "      <td>10.487806</td>\n",
       "      <td>2.892174</td>\n",
       "      <td>62397.405202</td>\n",
       "      <td>0.581654</td>\n",
       "      <td>0.45584</td>\n",
       "      <td>0.499797</td>\n",
       "      <td>57510.492818</td>\n",
       "      <td>0.402769</td>\n",
       "    </tr>\n",
       "    <tr>\n",
       "      <th>min</th>\n",
       "      <td>1.00000</td>\n",
       "      <td>1.556570e+07</td>\n",
       "      <td>350.000000</td>\n",
       "      <td>18.000000</td>\n",
       "      <td>0.000000</td>\n",
       "      <td>0.000000</td>\n",
       "      <td>1.000000</td>\n",
       "      <td>0.00000</td>\n",
       "      <td>0.000000</td>\n",
       "      <td>11.580000</td>\n",
       "      <td>0.000000</td>\n",
       "    </tr>\n",
       "    <tr>\n",
       "      <th>25%</th>\n",
       "      <td>2500.75000</td>\n",
       "      <td>1.562853e+07</td>\n",
       "      <td>584.000000</td>\n",
       "      <td>32.000000</td>\n",
       "      <td>3.000000</td>\n",
       "      <td>0.000000</td>\n",
       "      <td>1.000000</td>\n",
       "      <td>0.00000</td>\n",
       "      <td>0.000000</td>\n",
       "      <td>51002.110000</td>\n",
       "      <td>0.000000</td>\n",
       "    </tr>\n",
       "    <tr>\n",
       "      <th>50%</th>\n",
       "      <td>5000.50000</td>\n",
       "      <td>1.569074e+07</td>\n",
       "      <td>652.000000</td>\n",
       "      <td>37.000000</td>\n",
       "      <td>5.000000</td>\n",
       "      <td>97198.540000</td>\n",
       "      <td>1.000000</td>\n",
       "      <td>1.00000</td>\n",
       "      <td>1.000000</td>\n",
       "      <td>100193.915000</td>\n",
       "      <td>0.000000</td>\n",
       "    </tr>\n",
       "    <tr>\n",
       "      <th>75%</th>\n",
       "      <td>7500.25000</td>\n",
       "      <td>1.575323e+07</td>\n",
       "      <td>718.000000</td>\n",
       "      <td>44.000000</td>\n",
       "      <td>7.000000</td>\n",
       "      <td>127644.240000</td>\n",
       "      <td>2.000000</td>\n",
       "      <td>1.00000</td>\n",
       "      <td>1.000000</td>\n",
       "      <td>149388.247500</td>\n",
       "      <td>0.000000</td>\n",
       "    </tr>\n",
       "    <tr>\n",
       "      <th>max</th>\n",
       "      <td>10000.00000</td>\n",
       "      <td>1.581569e+07</td>\n",
       "      <td>850.000000</td>\n",
       "      <td>92.000000</td>\n",
       "      <td>10.000000</td>\n",
       "      <td>250898.090000</td>\n",
       "      <td>4.000000</td>\n",
       "      <td>1.00000</td>\n",
       "      <td>1.000000</td>\n",
       "      <td>199992.480000</td>\n",
       "      <td>1.000000</td>\n",
       "    </tr>\n",
       "  </tbody>\n",
       "</table>\n",
       "</div>"
      ],
      "text/plain": [
       "         RowNumber    CustomerId   CreditScore           Age        Tenure  \\\n",
       "count  10000.00000  1.000000e+04  10000.000000  10000.000000  10000.000000   \n",
       "mean    5000.50000  1.569094e+07    650.528800     38.921800      5.012800   \n",
       "std     2886.89568  7.193619e+04     96.653299     10.487806      2.892174   \n",
       "min        1.00000  1.556570e+07    350.000000     18.000000      0.000000   \n",
       "25%     2500.75000  1.562853e+07    584.000000     32.000000      3.000000   \n",
       "50%     5000.50000  1.569074e+07    652.000000     37.000000      5.000000   \n",
       "75%     7500.25000  1.575323e+07    718.000000     44.000000      7.000000   \n",
       "max    10000.00000  1.581569e+07    850.000000     92.000000     10.000000   \n",
       "\n",
       "             Balance  NumOfProducts    HasCrCard  IsActiveMember  \\\n",
       "count   10000.000000   10000.000000  10000.00000    10000.000000   \n",
       "mean    76485.889288       1.530200      0.70550        0.515100   \n",
       "std     62397.405202       0.581654      0.45584        0.499797   \n",
       "min         0.000000       1.000000      0.00000        0.000000   \n",
       "25%         0.000000       1.000000      0.00000        0.000000   \n",
       "50%     97198.540000       1.000000      1.00000        1.000000   \n",
       "75%    127644.240000       2.000000      1.00000        1.000000   \n",
       "max    250898.090000       4.000000      1.00000        1.000000   \n",
       "\n",
       "       EstimatedSalary        Exited  \n",
       "count     10000.000000  10000.000000  \n",
       "mean     100090.239881      0.203700  \n",
       "std       57510.492818      0.402769  \n",
       "min          11.580000      0.000000  \n",
       "25%       51002.110000      0.000000  \n",
       "50%      100193.915000      0.000000  \n",
       "75%      149388.247500      0.000000  \n",
       "max      199992.480000      1.000000  "
      ]
     },
     "execution_count": 8,
     "metadata": {},
     "output_type": "execute_result"
    }
   ],
   "source": [
    "# Explorando variáveis\n",
    "df.describe()"
   ]
  },
  {
   "cell_type": "markdown",
   "id": "95d83dfa",
   "metadata": {},
   "source": [
    "Através dessa análise, é possível verificar que:\n",
    "- Os cliente possuem em média 39 anos de idade, temos clientes de 18 a 92 anos de idade.\n",
    "- Em média, o score de crédito está em 652, como valor máximo de 850 e mínimo de 350.\n",
    "- O tempo médio que o cliente permanece ativo, é de 5 anos.\n",
    "- O salário médio dos clientes é de 100.000 dólares por ano.\n",
    "- Os clientes têm em média 76.000 dólares na conta bancária.\n",
    "- O número de produtos que são consumidos é de 1,5 em média.\n",
    "- 70% dos clientes possuem cartão de crédito.\n",
    "- 51,5% são membros ativos do banco.\n",
    "- 20% deixaram de ser clientes do banco."
   ]
  },
  {
   "cell_type": "markdown",
   "id": "ada2ff3c",
   "metadata": {},
   "source": [
    "## Análise Univariada"
   ]
  },
  {
   "cell_type": "markdown",
   "id": "22565261",
   "metadata": {},
   "source": [
    "Agora, vamos analisar variável a variável para entendermos melhor a distribuição de cada uma. Posteriormente, vamos analisar as variáveis relacionando com a variável alvo, que é a taxa de churn.\n",
    "\n",
    "Esta etapa é importante para entender a base de dados em si, pode ser entendida com a etapa de Data Quality Report. "
   ]
  },
  {
   "cell_type": "markdown",
   "id": "fb349178",
   "metadata": {},
   "source": [
    "**Credit Score**"
   ]
  },
  {
   "cell_type": "code",
   "execution_count": 9,
   "id": "776208d5",
   "metadata": {},
   "outputs": [
    {
     "data": {
      "text/plain": [
       "Text(0.5, 0, 'CreditScore')"
      ]
     },
     "execution_count": 9,
     "metadata": {},
     "output_type": "execute_result"
    },
    {
     "data": {
      "image/png": "[encoded data removed]",
      "text/plain": [
       "<Figure size 864x432 with 2 Axes>"
      ]
     },
     "metadata": {
      "needs_background": "light"
     },
     "output_type": "display_data"
    }
   ],
   "source": [
    "# Credit Score\n",
    "fig, axes = plt.subplots(1, 2, figsize = (12,6))\n",
    "fig.suptitle('Credit Score - Analysis')\n",
    "sns.set_theme(style = 'whitegrid')\n",
    "\n",
    "# Boxplot\n",
    "sns.boxplot(ax = axes[0], x = df['CreditScore'])\n",
    "axes[0].set_title('Boxplot')\n",
    "\n",
    "# Displot\n",
    "sns.histplot(ax = axes[1], x = df['CreditScore'], kde = True)\n",
    "axes[1].set_title('Distribuição')\n",
    "axes[1].set_xlabel('CreditScore')"
   ]
  },
  {
   "cell_type": "code",
   "execution_count": 10,
   "id": "ec854304",
   "metadata": {},
   "outputs": [
    {
     "data": {
      "text/plain": [
       "-0.07160660820092675"
      ]
     },
     "execution_count": 10,
     "metadata": {},
     "output_type": "execute_result"
    }
   ],
   "source": [
    "# Verificando assimetria com o skewness\n",
    "df['CreditScore'].skew()"
   ]
  },
  {
   "cell_type": "markdown",
   "id": "c87f32f1",
   "metadata": {},
   "source": [
    "Na variável CreditScore, podemos perceber uma leve assimetria para a direita, o que indica que os clientes possuem um score mais elevado.\n",
    "O valor de skewness(assimetria) é um pouco menor que 0, ou seja, apresenta uma cauda a esquerda que também é verificado no histograma."
   ]
  },
  {
   "cell_type": "markdown",
   "id": "4abda47a",
   "metadata": {},
   "source": [
    "**Age (Idade)**"
   ]
  },
  {
   "cell_type": "code",
   "execution_count": 11,
   "id": "9311f217",
   "metadata": {},
   "outputs": [
    {
     "data": {
      "text/plain": [
       "Text(0.5, 0, 'Age')"
      ]
     },
     "execution_count": 11,
     "metadata": {},
     "output_type": "execute_result"
    },
    {
     "data": {
      "image/png": "[encoded data removed]",
      "text/plain": [
       "<Figure size 864x432 with 2 Axes>"
      ]
     },
     "metadata": {},
     "output_type": "display_data"
    }
   ],
   "source": [
    "# Age\n",
    "fig, axes = plt.subplots(1, 2, figsize = (12,6))\n",
    "fig.suptitle('Age - Analysis')\n",
    "sns.set_theme(style = 'whitegrid')\n",
    "\n",
    "# Boxplot\n",
    "sns.boxplot(ax = axes[0], x = df['Age'])\n",
    "axes[0].set_title('Boxplot')\n",
    "\n",
    "# Displot\n",
    "sns.histplot(ax = axes[1], x = df['Age'], kde = True)\n",
    "axes[1].set_title('Distribuição')\n",
    "axes[1].set_xlabel('Age')"
   ]
  },
  {
   "cell_type": "code",
   "execution_count": 12,
   "id": "a9cdd7c2",
   "metadata": {},
   "outputs": [
    {
     "data": {
      "text/plain": [
       "1.0113202630234552"
      ]
     },
     "execution_count": 12,
     "metadata": {},
     "output_type": "execute_result"
    }
   ],
   "source": [
    "# Verificando assimetria a direita com o skewness\n",
    "df.Age.skew()"
   ]
  },
  {
   "cell_type": "markdown",
   "id": "bceb048f",
   "metadata": {},
   "source": [
    "Observando os gráficos e também o cálculo de skewness, podemos perceber uma assimetria a esqueda, com uma cauda na direita. Isso representa que grande partes dos clientes tem uma idade menor, mais especificamente entre 20 e 60 anos."
   ]
  },
  {
   "cell_type": "markdown",
   "id": "dedc393c",
   "metadata": {},
   "source": [
    "**Tenure**"
   ]
  },
  {
   "cell_type": "code",
   "execution_count": 13,
   "id": "cdf051fd",
   "metadata": {},
   "outputs": [
    {
     "data": {
      "text/plain": [
       "Text(0.5, 0, 'Tenure')"
      ]
     },
     "execution_count": 13,
     "metadata": {},
     "output_type": "execute_result"
    },
    {
     "data": {
      "image/png": "[encoded data removed]",
      "text/plain": [
       "<Figure size 864x432 with 2 Axes>"
      ]
     },
     "metadata": {},
     "output_type": "display_data"
    }
   ],
   "source": [
    "# Tenure\n",
    "fig, axes = plt.subplots(1, 2, figsize = (12,6))\n",
    "fig.suptitle('Tenure - Analysis')\n",
    "sns.set_theme(style = 'whitegrid')\n",
    "\n",
    "# Boxplot\n",
    "sns.boxplot(ax = axes[0], x = df['Tenure'])\n",
    "axes[0].set_title('Boxplot')\n",
    "\n",
    "# Displot\n",
    "df.Tenure.hist(ax = axes[1])\n",
    "axes[1].set_title('Distribuição')\n",
    "axes[1].set_xlabel('Tenure')"
   ]
  },
  {
   "cell_type": "markdown",
   "id": "b89b3a64",
   "metadata": {},
   "source": [
    "A variável Tenure representa o tempo que o cliente está no banco. Podemos ver temos uma alta frequência em 10, que representa um alto número de clientes que estão no banco a mais tempo, e uma baixa frequência em 0."
   ]
  },
  {
   "cell_type": "markdown",
   "id": "026e436a",
   "metadata": {},
   "source": [
    "**Num of Products**"
   ]
  },
  {
   "cell_type": "code",
   "execution_count": 14,
   "id": "95515ac6",
   "metadata": {},
   "outputs": [
    {
     "data": {
      "text/plain": [
       "Text(0.5, 0, 'NumOfProducts')"
      ]
     },
     "execution_count": 14,
     "metadata": {},
     "output_type": "execute_result"
    },
    {
     "data": {
      "image/png": "[encoded data removed]",
      "text/plain": [
       "<Figure size 864x432 with 2 Axes>"
      ]
     },
     "metadata": {},
     "output_type": "display_data"
    }
   ],
   "source": [
    "# Num of Product\n",
    "fig, axes = plt.subplots(1, 2, figsize = (12,6))\n",
    "fig.suptitle('NumOfProducts - Analysis')\n",
    "sns.set_theme(style = 'whitegrid')\n",
    "\n",
    "# Boxplot\n",
    "sns.boxplot(ax = axes[0], x = df['NumOfProducts'])\n",
    "axes[0].set_title('Boxplot')\n",
    "\n",
    "# Displot\n",
    "df['NumOfProducts'].hist(ax = axes[1])\n",
    "axes[1].set_title('Distribuição')\n",
    "axes[1].set_xlabel('NumOfProducts')"
   ]
  },
  {
   "cell_type": "markdown",
   "id": "8bba5403",
   "metadata": {},
   "source": [
    "Esta variável tem um comportamento interessante, podemos ver que a grande maioria dos clientes adquirem 1 ou 2 produtos do banco. Enquanto, menos de 10% dos clientes adquirem mais de 2 produtos."
   ]
  },
  {
   "cell_type": "markdown",
   "id": "f683a3d4",
   "metadata": {},
   "source": [
    "**Balance**"
   ]
  },
  {
   "cell_type": "code",
   "execution_count": 15,
   "id": "0921498d",
   "metadata": {},
   "outputs": [
    {
     "data": {
      "text/plain": [
       "Text(0.5, 0, 'Balance')"
      ]
     },
     "execution_count": 15,
     "metadata": {},
     "output_type": "execute_result"
    },
    {
     "data": {
      "image/png": "[encoded data removed]",
      "text/plain": [
       "<Figure size 864x432 with 2 Axes>"
      ]
     },
     "metadata": {},
     "output_type": "display_data"
    }
   ],
   "source": [
    "# Balance\n",
    "fig, axes = plt.subplots(1, 2, figsize = (12,6))\n",
    "fig.suptitle('Balance - Analysis')\n",
    "sns.set_theme(style = 'whitegrid')\n",
    "\n",
    "# Boxplot\n",
    "sns.boxplot(ax = axes[0], x = df['Balance'])\n",
    "axes[0].set_title('Boxplot')\n",
    "\n",
    "# Displot\n",
    "df['Balance'].hist(ax = axes[1])\n",
    "axes[1].set_title('Distribuição')\n",
    "axes[1].set_xlabel('Balance')"
   ]
  },
  {
   "cell_type": "markdown",
   "id": "9f117a4b",
   "metadata": {},
   "source": [
    "Podemos ver que grande parte dos cliente não possuem dinheiro na conta, então talvez este seja um fator a ser observado. Tirando os clientes que tem saldo 0, a distribuição de 'Balance' é praticamente normal."
   ]
  },
  {
   "cell_type": "markdown",
   "id": "6fd2a7c0",
   "metadata": {},
   "source": [
    "**Estimated Salary**"
   ]
  },
  {
   "cell_type": "code",
   "execution_count": 16,
   "id": "1b5acfa5",
   "metadata": {},
   "outputs": [
    {
     "data": {
      "text/plain": [
       "Text(0.5, 0, 'EstimatedSalary')"
      ]
     },
     "execution_count": 16,
     "metadata": {},
     "output_type": "execute_result"
    },
    {
     "data": {
      "image/png": "[encoded data removed]",
      "text/plain": [
       "<Figure size 864x432 with 2 Axes>"
      ]
     },
     "metadata": {},
     "output_type": "display_data"
    }
   ],
   "source": [
    "# EstimatedSalary\n",
    "fig, axes = plt.subplots(1, 2, figsize = (12,6))\n",
    "fig.suptitle('EstimatedSalary - Analysis')\n",
    "sns.set_theme(style = 'whitegrid')\n",
    "\n",
    "# Boxplot\n",
    "sns.boxplot(ax = axes[0], x = df['EstimatedSalary'])\n",
    "axes[0].set_title('Boxplot')\n",
    "\n",
    "# Displot\n",
    "df['EstimatedSalary'].hist(ax = axes[1])\n",
    "axes[1].set_title('Distribuição')\n",
    "axes[1].set_xlabel('EstimatedSalary')"
   ]
  },
  {
   "cell_type": "markdown",
   "id": "ccccef52",
   "metadata": {},
   "source": [
    "Observando o salário estimado, verificamos que tem uma distribuição uniforme, ou seja, tem praticamente a mesma quantidade de clientes para cada faixa de salário."
   ]
  },
  {
   "cell_type": "markdown",
   "id": "d9eaef7b",
   "metadata": {},
   "source": [
    "**HasCrCard**"
   ]
  },
  {
   "cell_type": "code",
   "execution_count": 17,
   "id": "aa4e62e5",
   "metadata": {},
   "outputs": [
    {
     "data": {
      "text/plain": [
       "Text(0.5, 1.0, 'HasCrCard - Analysis')"
      ]
     },
     "execution_count": 17,
     "metadata": {},
     "output_type": "execute_result"
    },
    {
     "data": {
      "image/png": "[encoded data removed]",
      "text/plain": [
       "<Figure size 432x288 with 1 Axes>"
      ]
     },
     "metadata": {},
     "output_type": "display_data"
    }
   ],
   "source": [
    "sns.set_theme(style = 'whitegrid')\n",
    "sns.countplot(df['HasCrCard']).set_title('HasCrCard - Analysis')"
   ]
  },
  {
   "cell_type": "markdown",
   "id": "92ae8096",
   "metadata": {},
   "source": [
    "Através do gráfico acima, observa-se que grande parte dos clientes possuem cartão de crédito. Cerca de 70%."
   ]
  },
  {
   "cell_type": "markdown",
   "id": "68aa2664",
   "metadata": {},
   "source": [
    "**Geography**"
   ]
  },
  {
   "cell_type": "code",
   "execution_count": 18,
   "id": "5213a703",
   "metadata": {},
   "outputs": [
    {
     "data": {
      "text/plain": [
       "Text(0.5, 1.0, 'Geography - Analysis')"
      ]
     },
     "execution_count": 18,
     "metadata": {},
     "output_type": "execute_result"
    },
    {
     "data": {
      "image/png": "[encoded data removed]",
      "text/plain": [
       "<Figure size 432x288 with 1 Axes>"
      ]
     },
     "metadata": {},
     "output_type": "display_data"
    }
   ],
   "source": [
    "sns.set_theme(style = 'whitegrid')\n",
    "sns.countplot(df['Geography']).set_title('Geography - Analysis')"
   ]
  },
  {
   "cell_type": "markdown",
   "id": "b9edfeb6",
   "metadata": {},
   "source": [
    "Em relação aos países, a maior quantidade dos clientes são provinientes da França"
   ]
  },
  {
   "cell_type": "markdown",
   "id": "b9c1dfe8",
   "metadata": {},
   "source": [
    "**Gender**"
   ]
  },
  {
   "cell_type": "code",
   "execution_count": 19,
   "id": "a457dbd3",
   "metadata": {},
   "outputs": [
    {
     "data": {
      "text/plain": [
       "Text(0.5, 1.0, 'Gender - Analysis')"
      ]
     },
     "execution_count": 19,
     "metadata": {},
     "output_type": "execute_result"
    },
    {
     "data": {
      "image/png": "[encoded data removed]",
      "text/plain": [
       "<Figure size 432x288 with 1 Axes>"
      ]
     },
     "metadata": {},
     "output_type": "display_data"
    }
   ],
   "source": [
    "sns.set_theme(style = 'whitegrid')\n",
    "sns.countplot(df['Gender']).set_title('Gender - Analysis')"
   ]
  },
  {
   "cell_type": "markdown",
   "id": "364d1f45",
   "metadata": {},
   "source": [
    "Quanto ao gênero dos clientes, tem mais homens do que mulheres."
   ]
  },
  {
   "cell_type": "markdown",
   "id": "5bcb2345",
   "metadata": {},
   "source": [
    "**IsActiveMember**"
   ]
  },
  {
   "cell_type": "code",
   "execution_count": 20,
   "id": "7d7a3c2b",
   "metadata": {},
   "outputs": [
    {
     "data": {
      "text/plain": [
       "Text(0.5, 1.0, 'IsActiveMember - Analysis')"
      ]
     },
     "execution_count": 20,
     "metadata": {},
     "output_type": "execute_result"
    },
    {
     "data": {
      "image/png": "[encoded data removed]",
      "text/plain": [
       "<Figure size 432x288 with 1 Axes>"
      ]
     },
     "metadata": {},
     "output_type": "display_data"
    }
   ],
   "source": [
    "sns.set_theme(style = 'whitegrid')\n",
    "sns.countplot(df['IsActiveMember']).set_title('IsActiveMember - Analysis')"
   ]
  },
  {
   "cell_type": "markdown",
   "id": "bbd9a1a8",
   "metadata": {},
   "source": [
    "Em relação aos membros ativos, podemos ver que está bem próximo a quantidade de membros ativos e inativos"
   ]
  },
  {
   "cell_type": "markdown",
   "id": "b0c0d0b7",
   "metadata": {},
   "source": [
    "**Exited**"
   ]
  },
  {
   "cell_type": "code",
   "execution_count": 21,
   "id": "a0dcb4bd",
   "metadata": {},
   "outputs": [
    {
     "data": {
      "text/plain": [
       "Text(0.5, 1.0, 'Exited - Analysis')"
      ]
     },
     "execution_count": 21,
     "metadata": {},
     "output_type": "execute_result"
    },
    {
     "data": {
      "image/png": "[encoded data removed]",
      "text/plain": [
       "<Figure size 432x288 with 1 Axes>"
      ]
     },
     "metadata": {},
     "output_type": "display_data"
    }
   ],
   "source": [
    "sns.set_theme(style = 'whitegrid')\n",
    "sns.countplot(df['Exited']).set_title('Exited - Analysis')"
   ]
  },
  {
   "cell_type": "code",
   "execution_count": 148,
   "id": "6585fa2b",
   "metadata": {},
   "outputs": [
    {
     "data": {
      "text/plain": [
       "0    7963\n",
       "1    2037\n",
       "Name: Exited, dtype: int64"
      ]
     },
     "execution_count": 148,
     "metadata": {},
     "output_type": "execute_result"
    }
   ],
   "source": [
    "df['Exited'].value_counts()"
   ]
  },
  {
   "cell_type": "markdown",
   "id": "f0ae4ee6",
   "metadata": {},
   "source": [
    "Por fim, a variável mais importante, que é a quantidade de clientes que sairam do banco. Como foi mostrando anteriormente, o banco teve um Churn de aproximadamente 20%."
   ]
  },
  {
   "cell_type": "markdown",
   "id": "002c8167",
   "metadata": {},
   "source": [
    "## Correlação entre variáveis numéricas"
   ]
  },
  {
   "cell_type": "code",
   "execution_count": 22,
   "id": "fa65f1f2",
   "metadata": {},
   "outputs": [
    {
     "data": {
      "text/plain": [
       "<AxesSubplot:>"
      ]
     },
     "execution_count": 22,
     "metadata": {},
     "output_type": "execute_result"
    },
    {
     "data": {
      "image/png": "[encoded data removed]",
      "text/plain": [
       "<Figure size 720x720 with 2 Axes>"
      ]
     },
     "metadata": {},
     "output_type": "display_data"
    }
   ],
   "source": [
    "# Tamanho da figura\n",
    "plt.figure(figsize = (10, 10))\n",
    "\n",
    "# HeatMap\n",
    "sns.heatmap(df_num.corr(), vmax = 1, annot = True, square = True, cmap=\"YlGnBu\")"
   ]
  },
  {
   "cell_type": "markdown",
   "id": "608d85a4",
   "metadata": {},
   "source": [
    "Podemos ver que as variáveis apresentam baixa correlação entre si, com exceção das variáveis Balance e NumOfProducts, que apresentam uma correlação de -0,3. Como é uma correlação negativa, indica que quanto maior o número de produtos do cliente, menor o seu saldo bancário."
   ]
  },
  {
   "cell_type": "markdown",
   "id": "18e42dc1",
   "metadata": {},
   "source": [
    "## Análise das variáveis em relação a variável Churn"
   ]
  },
  {
   "cell_type": "markdown",
   "id": "3079268b",
   "metadata": {},
   "source": [
    "A etapa posterior da etapa de entedimento dos dados separadamente é analisar como as variáveis estão com a variável Churn. iremos comparar a variável Churn com as variáveis categóricas e numéricas, e obter insights sobre o perfil dos clientes que entraram ou não em Churn."
   ]
  },
  {
   "cell_type": "markdown",
   "id": "9123e1cb",
   "metadata": {},
   "source": [
    "Para ficar melhor visualmente, vamos mudar a variável Churn para: 0 = Não e 1 = Sim."
   ]
  },
  {
   "cell_type": "code",
   "execution_count": 23,
   "id": "6d12da40",
   "metadata": {},
   "outputs": [],
   "source": [
    "df['Exited_cat']=df['Exited'].replace([0,1],['Não','Sim'])"
   ]
  },
  {
   "cell_type": "markdown",
   "id": "cd9632a5",
   "metadata": {},
   "source": [
    "### Variáveis categóricas"
   ]
  },
  {
   "cell_type": "markdown",
   "id": "f2e303d2",
   "metadata": {},
   "source": [
    "### Gender"
   ]
  },
  {
   "cell_type": "code",
   "execution_count": 24,
   "id": "e7f7f5e0",
   "metadata": {},
   "outputs": [
    {
     "data": {
      "text/html": [
       "<div>\n",
       "<style scoped>\n",
       "    .dataframe tbody tr th:only-of-type {\n",
       "        vertical-align: middle;\n",
       "    }\n",
       "\n",
       "    .dataframe tbody tr th {\n",
       "        vertical-align: top;\n",
       "    }\n",
       "\n",
       "    .dataframe thead th {\n",
       "        text-align: right;\n",
       "    }\n",
       "</style>\n",
       "<table border=\"1\" class=\"dataframe\">\n",
       "  <thead>\n",
       "    <tr style=\"text-align: right;\">\n",
       "      <th></th>\n",
       "      <th>Gender</th>\n",
       "      <th>Exited</th>\n",
       "    </tr>\n",
       "  </thead>\n",
       "  <tbody>\n",
       "    <tr>\n",
       "      <th>0</th>\n",
       "      <td>Female</td>\n",
       "      <td>0.250715</td>\n",
       "    </tr>\n",
       "    <tr>\n",
       "      <th>1</th>\n",
       "      <td>Male</td>\n",
       "      <td>0.164559</td>\n",
       "    </tr>\n",
       "  </tbody>\n",
       "</table>\n",
       "</div>"
      ],
      "text/plain": [
       "   Gender    Exited\n",
       "0  Female  0.250715\n",
       "1    Male  0.164559"
      ]
     },
     "execution_count": 24,
     "metadata": {},
     "output_type": "execute_result"
    }
   ],
   "source": [
    "# Gender\n",
    "plot_gender = df.groupby('Gender').Exited.mean().reset_index()\n",
    "plot_gender"
   ]
  },
  {
   "cell_type": "code",
   "execution_count": 25,
   "id": "cab31cc6",
   "metadata": {},
   "outputs": [
    {
     "data": {
      "text/plain": [
       "Text(0, 0.5, '% Churn')"
      ]
     },
     "execution_count": 25,
     "metadata": {},
     "output_type": "execute_result"
    },
    {
     "data": {
      "image/png": "[encoded data removed]",
      "text/plain": [
       "<Figure size 432x288 with 1 Axes>"
      ]
     },
     "metadata": {},
     "output_type": "display_data"
    }
   ],
   "source": [
    "# Criando o gráfico para ficar mais visível\n",
    "x = plot_gender['Gender']\n",
    "y = plot_gender['Exited']\n",
    "plt.bar(x, y, color = ['red', 'blue'])\n",
    "plt.title('Churn por Gênero')\n",
    "plt.ylabel('% Churn')"
   ]
  },
  {
   "cell_type": "markdown",
   "id": "bbb6912a",
   "metadata": {},
   "source": [
    "Segundo o gráfico acima, as mulheres apresentam maior churn do que os homens."
   ]
  },
  {
   "cell_type": "markdown",
   "id": "9197acf7",
   "metadata": {},
   "source": [
    "### País"
   ]
  },
  {
   "cell_type": "code",
   "execution_count": 26,
   "id": "d0a32d1d",
   "metadata": {},
   "outputs": [
    {
     "data": {
      "text/html": [
       "<div>\n",
       "<style scoped>\n",
       "    .dataframe tbody tr th:only-of-type {\n",
       "        vertical-align: middle;\n",
       "    }\n",
       "\n",
       "    .dataframe tbody tr th {\n",
       "        vertical-align: top;\n",
       "    }\n",
       "\n",
       "    .dataframe thead th {\n",
       "        text-align: right;\n",
       "    }\n",
       "</style>\n",
       "<table border=\"1\" class=\"dataframe\">\n",
       "  <thead>\n",
       "    <tr style=\"text-align: right;\">\n",
       "      <th></th>\n",
       "      <th>Geography</th>\n",
       "      <th>Exited</th>\n",
       "    </tr>\n",
       "  </thead>\n",
       "  <tbody>\n",
       "    <tr>\n",
       "      <th>1</th>\n",
       "      <td>Germany</td>\n",
       "      <td>0.324432</td>\n",
       "    </tr>\n",
       "    <tr>\n",
       "      <th>2</th>\n",
       "      <td>Spain</td>\n",
       "      <td>0.166734</td>\n",
       "    </tr>\n",
       "    <tr>\n",
       "      <th>0</th>\n",
       "      <td>France</td>\n",
       "      <td>0.161548</td>\n",
       "    </tr>\n",
       "  </tbody>\n",
       "</table>\n",
       "</div>"
      ],
      "text/plain": [
       "  Geography    Exited\n",
       "1   Germany  0.324432\n",
       "2     Spain  0.166734\n",
       "0    France  0.161548"
      ]
     },
     "execution_count": 26,
     "metadata": {},
     "output_type": "execute_result"
    }
   ],
   "source": [
    "pais_plot = df.groupby('Geography').Exited.mean().reset_index().sort_values(by = ['Exited'], ascending = False)\n",
    "pais_plot"
   ]
  },
  {
   "cell_type": "code",
   "execution_count": 27,
   "id": "eb2d1662",
   "metadata": {},
   "outputs": [
    {
     "data": {
      "text/plain": [
       "Text(0.5, 0, 'País')"
      ]
     },
     "execution_count": 27,
     "metadata": {},
     "output_type": "execute_result"
    },
    {
     "data": {
      "image/png": "[encoded data removed]",
      "text/plain": [
       "<Figure size 432x288 with 1 Axes>"
      ]
     },
     "metadata": {},
     "output_type": "display_data"
    }
   ],
   "source": [
    "# Criando o gráfico\n",
    "x = pais_plot['Geography']\n",
    "y = pais_plot['Exited']\n",
    "plt.bar(x, y , color = ['red', 'blue', 'green'])\n",
    "plt.title('Churn por país')\n",
    "plt.ylabel('% Churn')\n",
    "plt.xlabel('País')"
   ]
  },
  {
   "cell_type": "markdown",
   "id": "a11d6f51",
   "metadata": {},
   "source": [
    "Segundo o gráfico acima, a Alemanha é o país que apresenta maior churn, seguindo por Espanha e França"
   ]
  },
  {
   "cell_type": "markdown",
   "id": "6ff20be9",
   "metadata": {},
   "source": [
    "### HasCrCard"
   ]
  },
  {
   "cell_type": "code",
   "execution_count": 28,
   "id": "77481cf0",
   "metadata": {},
   "outputs": [
    {
     "data": {
      "text/html": [
       "<div>\n",
       "<style scoped>\n",
       "    .dataframe tbody tr th:only-of-type {\n",
       "        vertical-align: middle;\n",
       "    }\n",
       "\n",
       "    .dataframe tbody tr th {\n",
       "        vertical-align: top;\n",
       "    }\n",
       "\n",
       "    .dataframe thead th {\n",
       "        text-align: right;\n",
       "    }\n",
       "</style>\n",
       "<table border=\"1\" class=\"dataframe\">\n",
       "  <thead>\n",
       "    <tr style=\"text-align: right;\">\n",
       "      <th></th>\n",
       "      <th>HasCrCard</th>\n",
       "      <th>Exited</th>\n",
       "    </tr>\n",
       "  </thead>\n",
       "  <tbody>\n",
       "    <tr>\n",
       "      <th>0</th>\n",
       "      <td>Não</td>\n",
       "      <td>0.208149</td>\n",
       "    </tr>\n",
       "    <tr>\n",
       "      <th>1</th>\n",
       "      <td>Sim</td>\n",
       "      <td>0.201843</td>\n",
       "    </tr>\n",
       "  </tbody>\n",
       "</table>\n",
       "</div>"
      ],
      "text/plain": [
       "  HasCrCard    Exited\n",
       "0       Não  0.208149\n",
       "1       Sim  0.201843"
      ]
     },
     "execution_count": 28,
     "metadata": {},
     "output_type": "execute_result"
    }
   ],
   "source": [
    "plot_card = df.groupby('HasCrCard').Exited.mean().reset_index()\n",
    "plot_card\n",
    "\n",
    "# Transformando 0 para não e 1 para sim\n",
    "plot_card['HasCrCard'] = plot_card['HasCrCard'].replace([0,1],['Não', 'Sim'])\n",
    "plot_card"
   ]
  },
  {
   "cell_type": "code",
   "execution_count": 29,
   "id": "57a3239d",
   "metadata": {},
   "outputs": [
    {
     "data": {
      "text/plain": [
       "Text(0.5, 0, 'Tem cartão')"
      ]
     },
     "execution_count": 29,
     "metadata": {},
     "output_type": "execute_result"
    },
    {
     "data": {
      "image/png": "[encoded data removed]",
      "text/plain": [
       "<Figure size 432x288 with 1 Axes>"
      ]
     },
     "metadata": {},
     "output_type": "display_data"
    }
   ],
   "source": [
    "# Criando o gráfico\n",
    "x = plot_card['HasCrCard']\n",
    "y = plot_card['Exited']\n",
    "plt.bar(x, y, color = ['red', 'blue'])\n",
    "plt.title('Churn por cartão')\n",
    "plt.ylabel('% Churn')\n",
    "plt.xlabel('Tem cartão')"
   ]
  },
  {
   "cell_type": "markdown",
   "id": "458ed19a",
   "metadata": {},
   "source": [
    "O cliente ter cartão ou não praticamente não afeta a porcentagem do Churn"
   ]
  },
  {
   "cell_type": "markdown",
   "id": "7d44b7ed",
   "metadata": {},
   "source": [
    "### Active Member"
   ]
  },
  {
   "cell_type": "code",
   "execution_count": 30,
   "id": "f709818e",
   "metadata": {},
   "outputs": [
    {
     "data": {
      "text/html": [
       "<div>\n",
       "<style scoped>\n",
       "    .dataframe tbody tr th:only-of-type {\n",
       "        vertical-align: middle;\n",
       "    }\n",
       "\n",
       "    .dataframe tbody tr th {\n",
       "        vertical-align: top;\n",
       "    }\n",
       "\n",
       "    .dataframe thead th {\n",
       "        text-align: right;\n",
       "    }\n",
       "</style>\n",
       "<table border=\"1\" class=\"dataframe\">\n",
       "  <thead>\n",
       "    <tr style=\"text-align: right;\">\n",
       "      <th></th>\n",
       "      <th>IsActiveMember</th>\n",
       "      <th>Exited</th>\n",
       "    </tr>\n",
       "  </thead>\n",
       "  <tbody>\n",
       "    <tr>\n",
       "      <th>0</th>\n",
       "      <td>Não</td>\n",
       "      <td>0.268509</td>\n",
       "    </tr>\n",
       "    <tr>\n",
       "      <th>1</th>\n",
       "      <td>Sim</td>\n",
       "      <td>0.142691</td>\n",
       "    </tr>\n",
       "  </tbody>\n",
       "</table>\n",
       "</div>"
      ],
      "text/plain": [
       "  IsActiveMember    Exited\n",
       "0            Não  0.268509\n",
       "1            Sim  0.142691"
      ]
     },
     "execution_count": 30,
     "metadata": {},
     "output_type": "execute_result"
    }
   ],
   "source": [
    "mem_plot = df.groupby('IsActiveMember').Exited.mean().reset_index()\n",
    "mem_plot\n",
    "\n",
    "# Transformando o 0 para não e 1 para sim\n",
    "mem_plot['IsActiveMember'] = mem_plot['IsActiveMember'].replace([0,1], ['Não', 'Sim'])\n",
    "mem_plot"
   ]
  },
  {
   "cell_type": "code",
   "execution_count": 31,
   "id": "f1e81f19",
   "metadata": {},
   "outputs": [
    {
     "data": {
      "text/plain": [
       "Text(0.5, 0, 'Membro ativo ou não')"
      ]
     },
     "execution_count": 31,
     "metadata": {},
     "output_type": "execute_result"
    },
    {
     "data": {
      "image/png": "[encoded data removed]",
      "text/plain": [
       "<Figure size 432x288 with 1 Axes>"
      ]
     },
     "metadata": {},
     "output_type": "display_data"
    }
   ],
   "source": [
    "# Plotando o gráfico\n",
    "x = mem_plot['IsActiveMember']\n",
    "y = mem_plot['Exited']\n",
    "plt.bar(x, y, color = ['red', 'blue'])\n",
    "plt.title('Churn por Membros Ativos')\n",
    "plt.ylabel('% Churn')\n",
    "plt.xlabel('Membro ativo ou não')\n"
   ]
  },
  {
   "cell_type": "markdown",
   "id": "6d631b99",
   "metadata": {},
   "source": [
    "Portanto, podemos perceber que os membros que não são ativos em movimentações de conta, possuem uma maior taxa de churn."
   ]
  },
  {
   "cell_type": "markdown",
   "id": "65902ea0",
   "metadata": {},
   "source": [
    "### Variável número de produtos"
   ]
  },
  {
   "cell_type": "code",
   "execution_count": 32,
   "id": "3e5867e5",
   "metadata": {},
   "outputs": [
    {
     "data": {
      "text/html": [
       "<div>\n",
       "<style scoped>\n",
       "    .dataframe tbody tr th:only-of-type {\n",
       "        vertical-align: middle;\n",
       "    }\n",
       "\n",
       "    .dataframe tbody tr th {\n",
       "        vertical-align: top;\n",
       "    }\n",
       "\n",
       "    .dataframe thead th {\n",
       "        text-align: right;\n",
       "    }\n",
       "</style>\n",
       "<table border=\"1\" class=\"dataframe\">\n",
       "  <thead>\n",
       "    <tr style=\"text-align: right;\">\n",
       "      <th></th>\n",
       "      <th>NumOfProducts</th>\n",
       "      <th>Exited</th>\n",
       "    </tr>\n",
       "  </thead>\n",
       "  <tbody>\n",
       "    <tr>\n",
       "      <th>0</th>\n",
       "      <td>1</td>\n",
       "      <td>0.277144</td>\n",
       "    </tr>\n",
       "    <tr>\n",
       "      <th>1</th>\n",
       "      <td>2</td>\n",
       "      <td>0.075817</td>\n",
       "    </tr>\n",
       "    <tr>\n",
       "      <th>2</th>\n",
       "      <td>3</td>\n",
       "      <td>0.827068</td>\n",
       "    </tr>\n",
       "    <tr>\n",
       "      <th>3</th>\n",
       "      <td>4</td>\n",
       "      <td>1.000000</td>\n",
       "    </tr>\n",
       "  </tbody>\n",
       "</table>\n",
       "</div>"
      ],
      "text/plain": [
       "   NumOfProducts    Exited\n",
       "0              1  0.277144\n",
       "1              2  0.075817\n",
       "2              3  0.827068\n",
       "3              4  1.000000"
      ]
     },
     "execution_count": 32,
     "metadata": {},
     "output_type": "execute_result"
    }
   ],
   "source": [
    "prod_plot = df.groupby('NumOfProducts').Exited.mean().reset_index()\n",
    "prod_plot"
   ]
  },
  {
   "cell_type": "code",
   "execution_count": 33,
   "id": "74fbf93e",
   "metadata": {},
   "outputs": [
    {
     "data": {
      "image/png": "[encoded data removed]",
      "text/plain": [
       "<Figure size 432x288 with 1 Axes>"
      ]
     },
     "metadata": {},
     "output_type": "display_data"
    }
   ],
   "source": [
    "# Plotando o gráfico\n",
    "x = prod_plot['NumOfProducts']\n",
    "y = prod_plot['Exited']\n",
    "plt.bar(x, y)\n",
    "plt.title('Churn por número de produtos')\n",
    "plt.ylabel('% Churn')\n",
    "plt.xlabel('Número de produtos')\n",
    "plt.xticks(x, (1,2,3,4));"
   ]
  },
  {
   "cell_type": "markdown",
   "id": "9cc5ae91",
   "metadata": {},
   "source": [
    "Muito interessante este gráfico, pois mostra que a porcentagem de Churn aumenta para as pessoas com maior número de produtos chegando a 100% no caso da pessoa com 4 produtos adquiridos."
   ]
  },
  {
   "cell_type": "markdown",
   "id": "d313c9bc",
   "metadata": {},
   "source": [
    "### Tenure"
   ]
  },
  {
   "cell_type": "code",
   "execution_count": 34,
   "id": "b0bde093",
   "metadata": {},
   "outputs": [
    {
     "data": {
      "text/html": [
       "<div>\n",
       "<style scoped>\n",
       "    .dataframe tbody tr th:only-of-type {\n",
       "        vertical-align: middle;\n",
       "    }\n",
       "\n",
       "    .dataframe tbody tr th {\n",
       "        vertical-align: top;\n",
       "    }\n",
       "\n",
       "    .dataframe thead th {\n",
       "        text-align: right;\n",
       "    }\n",
       "</style>\n",
       "<table border=\"1\" class=\"dataframe\">\n",
       "  <thead>\n",
       "    <tr style=\"text-align: right;\">\n",
       "      <th></th>\n",
       "      <th>Tenure</th>\n",
       "      <th>Exited</th>\n",
       "    </tr>\n",
       "  </thead>\n",
       "  <tbody>\n",
       "    <tr>\n",
       "      <th>0</th>\n",
       "      <td>0</td>\n",
       "      <td>0.230024</td>\n",
       "    </tr>\n",
       "    <tr>\n",
       "      <th>1</th>\n",
       "      <td>1</td>\n",
       "      <td>0.224155</td>\n",
       "    </tr>\n",
       "    <tr>\n",
       "      <th>2</th>\n",
       "      <td>2</td>\n",
       "      <td>0.191794</td>\n",
       "    </tr>\n",
       "    <tr>\n",
       "      <th>3</th>\n",
       "      <td>3</td>\n",
       "      <td>0.211100</td>\n",
       "    </tr>\n",
       "    <tr>\n",
       "      <th>4</th>\n",
       "      <td>4</td>\n",
       "      <td>0.205258</td>\n",
       "    </tr>\n",
       "    <tr>\n",
       "      <th>5</th>\n",
       "      <td>5</td>\n",
       "      <td>0.206522</td>\n",
       "    </tr>\n",
       "    <tr>\n",
       "      <th>6</th>\n",
       "      <td>6</td>\n",
       "      <td>0.202689</td>\n",
       "    </tr>\n",
       "    <tr>\n",
       "      <th>7</th>\n",
       "      <td>7</td>\n",
       "      <td>0.172179</td>\n",
       "    </tr>\n",
       "    <tr>\n",
       "      <th>8</th>\n",
       "      <td>8</td>\n",
       "      <td>0.192195</td>\n",
       "    </tr>\n",
       "    <tr>\n",
       "      <th>9</th>\n",
       "      <td>9</td>\n",
       "      <td>0.216463</td>\n",
       "    </tr>\n",
       "    <tr>\n",
       "      <th>10</th>\n",
       "      <td>10</td>\n",
       "      <td>0.206122</td>\n",
       "    </tr>\n",
       "  </tbody>\n",
       "</table>\n",
       "</div>"
      ],
      "text/plain": [
       "    Tenure    Exited\n",
       "0        0  0.230024\n",
       "1        1  0.224155\n",
       "2        2  0.191794\n",
       "3        3  0.211100\n",
       "4        4  0.205258\n",
       "5        5  0.206522\n",
       "6        6  0.202689\n",
       "7        7  0.172179\n",
       "8        8  0.192195\n",
       "9        9  0.216463\n",
       "10      10  0.206122"
      ]
     },
     "execution_count": 34,
     "metadata": {},
     "output_type": "execute_result"
    }
   ],
   "source": [
    "ten_plot = df.groupby('Tenure').Exited.mean().reset_index()\n",
    "ten_plot"
   ]
  },
  {
   "cell_type": "code",
   "execution_count": 35,
   "id": "b0fbca35",
   "metadata": {},
   "outputs": [
    {
     "data": {
      "image/png": "[encoded data removed]",
      "text/plain": [
       "<Figure size 432x288 with 1 Axes>"
      ]
     },
     "metadata": {},
     "output_type": "display_data"
    }
   ],
   "source": [
    "x = ten_plot['Tenure']\n",
    "y = ten_plot['Exited']\n",
    "plt.bar(x, y)\n",
    "plt.title('Churn por tempo de permanência com o serviço')\n",
    "plt.ylabel('% Churn')\n",
    "plt.xlabel('Anos')\n",
    "plt.xticks(x, (0,1,2,3,4,5,6,7,8,9,10));"
   ]
  },
  {
   "cell_type": "markdown",
   "id": "363e58fc",
   "metadata": {},
   "source": [
    "A taxa de Churn para o tempo de permanência com o serviço não parece variar bastante exceto para cliente com 1 ano ou menos."
   ]
  },
  {
   "cell_type": "markdown",
   "id": "41d1ca12",
   "metadata": {},
   "source": [
    "### Balance"
   ]
  },
  {
   "cell_type": "code",
   "execution_count": 36,
   "id": "b981b421",
   "metadata": {},
   "outputs": [
    {
     "data": {
      "text/html": [
       "<div>\n",
       "<style scoped>\n",
       "    .dataframe tbody tr th:only-of-type {\n",
       "        vertical-align: middle;\n",
       "    }\n",
       "\n",
       "    .dataframe tbody tr th {\n",
       "        vertical-align: top;\n",
       "    }\n",
       "\n",
       "    .dataframe thead th {\n",
       "        text-align: right;\n",
       "    }\n",
       "</style>\n",
       "<table border=\"1\" class=\"dataframe\">\n",
       "  <thead>\n",
       "    <tr style=\"text-align: right;\">\n",
       "      <th></th>\n",
       "      <th>Exited</th>\n",
       "      <th>Balance</th>\n",
       "    </tr>\n",
       "  </thead>\n",
       "  <tbody>\n",
       "    <tr>\n",
       "      <th>0</th>\n",
       "      <td>Não</td>\n",
       "      <td>72745.296779</td>\n",
       "    </tr>\n",
       "    <tr>\n",
       "      <th>1</th>\n",
       "      <td>Sim</td>\n",
       "      <td>91108.539337</td>\n",
       "    </tr>\n",
       "  </tbody>\n",
       "</table>\n",
       "</div>"
      ],
      "text/plain": [
       "  Exited       Balance\n",
       "0    Não  72745.296779\n",
       "1    Sim  91108.539337"
      ]
     },
     "execution_count": 36,
     "metadata": {},
     "output_type": "execute_result"
    }
   ],
   "source": [
    "bal_plot = df.groupby('Exited').Balance.mean().reset_index()\n",
    "bal_plot\n",
    "\n",
    "# Transformando a variável Exited\n",
    "bal_plot['Exited'] = bal_plot['Exited'].replace([0,1], ['Não', 'Sim'])\n",
    "bal_plot"
   ]
  },
  {
   "cell_type": "code",
   "execution_count": 37,
   "id": "8823e0ac",
   "metadata": {},
   "outputs": [
    {
     "data": {
      "text/plain": [
       "Text(0.5, 1.0, 'Boxplot de Balance por Churn')"
      ]
     },
     "execution_count": 37,
     "metadata": {},
     "output_type": "execute_result"
    },
    {
     "data": {
      "image/png": "[encoded data removed]",
      "text/plain": [
       "<Figure size 432x288 with 1 Axes>"
      ]
     },
     "metadata": {},
     "output_type": "display_data"
    }
   ],
   "source": [
    "# Criando o gráfico\n",
    "bal_plot2 = df.copy()\n",
    "bal_plot2['Exited'] = bal_plot2['Exited'].replace([0,1], ['Não', 'Sim'])\n",
    "bal_plot2\n",
    "\n",
    "sns.boxplot(x = bal_plot2['Exited'], y = bal_plot2['Balance']).set_title('Boxplot de Balance por Churn')\n"
   ]
  },
  {
   "cell_type": "markdown",
   "id": "dbb9e459",
   "metadata": {},
   "source": [
    "Analisando o boxplot de balanço, podemos perceber que o clientes que não sairam possuem em média um balanço menor na conta do que quem saiu."
   ]
  },
  {
   "cell_type": "markdown",
   "id": "e44d2eb6",
   "metadata": {},
   "source": [
    "### Estimated Salary"
   ]
  },
  {
   "cell_type": "code",
   "execution_count": 38,
   "id": "7f112031",
   "metadata": {},
   "outputs": [
    {
     "data": {
      "text/plain": [
       "Text(0.5, 1.0, 'Churn por Salário Estimado')"
      ]
     },
     "execution_count": 38,
     "metadata": {},
     "output_type": "execute_result"
    },
    {
     "data": {
      "image/png": "[encoded data removed]",
      "text/plain": [
       "<Figure size 432x288 with 1 Axes>"
      ]
     },
     "metadata": {},
     "output_type": "display_data"
    }
   ],
   "source": [
    "sns.boxplot(x = df['Exited_cat'], y = df['EstimatedSalary']).set_title('Churn por Salário Estimado')"
   ]
  },
  {
   "cell_type": "markdown",
   "id": "3e79fa67",
   "metadata": {},
   "source": [
    "Segundo o gráfico acima, o salário estimado não parece ter uma grande influência no churn, visto que apresentam valores bem próximos para caso de cliente ter saido ou não."
   ]
  },
  {
   "cell_type": "markdown",
   "id": "6b889152",
   "metadata": {},
   "source": [
    "### Age"
   ]
  },
  {
   "cell_type": "code",
   "execution_count": 39,
   "id": "514a79e9",
   "metadata": {},
   "outputs": [
    {
     "data": {
      "text/html": [
       "<div>\n",
       "<style scoped>\n",
       "    .dataframe tbody tr th:only-of-type {\n",
       "        vertical-align: middle;\n",
       "    }\n",
       "\n",
       "    .dataframe tbody tr th {\n",
       "        vertical-align: top;\n",
       "    }\n",
       "\n",
       "    .dataframe thead th {\n",
       "        text-align: right;\n",
       "    }\n",
       "</style>\n",
       "<table border=\"1\" class=\"dataframe\">\n",
       "  <thead>\n",
       "    <tr style=\"text-align: right;\">\n",
       "      <th></th>\n",
       "      <th>Age</th>\n",
       "      <th>Exited</th>\n",
       "    </tr>\n",
       "  </thead>\n",
       "  <tbody>\n",
       "    <tr>\n",
       "      <th>0</th>\n",
       "      <td>18</td>\n",
       "      <td>0.090909</td>\n",
       "    </tr>\n",
       "    <tr>\n",
       "      <th>1</th>\n",
       "      <td>19</td>\n",
       "      <td>0.037037</td>\n",
       "    </tr>\n",
       "    <tr>\n",
       "      <th>2</th>\n",
       "      <td>20</td>\n",
       "      <td>0.050000</td>\n",
       "    </tr>\n",
       "    <tr>\n",
       "      <th>3</th>\n",
       "      <td>21</td>\n",
       "      <td>0.056604</td>\n",
       "    </tr>\n",
       "    <tr>\n",
       "      <th>4</th>\n",
       "      <td>22</td>\n",
       "      <td>0.142857</td>\n",
       "    </tr>\n",
       "    <tr>\n",
       "      <th>...</th>\n",
       "      <td>...</td>\n",
       "      <td>...</td>\n",
       "    </tr>\n",
       "    <tr>\n",
       "      <th>65</th>\n",
       "      <td>83</td>\n",
       "      <td>0.000000</td>\n",
       "    </tr>\n",
       "    <tr>\n",
       "      <th>66</th>\n",
       "      <td>84</td>\n",
       "      <td>0.500000</td>\n",
       "    </tr>\n",
       "    <tr>\n",
       "      <th>67</th>\n",
       "      <td>85</td>\n",
       "      <td>0.000000</td>\n",
       "    </tr>\n",
       "    <tr>\n",
       "      <th>68</th>\n",
       "      <td>88</td>\n",
       "      <td>0.000000</td>\n",
       "    </tr>\n",
       "    <tr>\n",
       "      <th>69</th>\n",
       "      <td>92</td>\n",
       "      <td>0.000000</td>\n",
       "    </tr>\n",
       "  </tbody>\n",
       "</table>\n",
       "<p>70 rows × 2 columns</p>\n",
       "</div>"
      ],
      "text/plain": [
       "    Age    Exited\n",
       "0    18  0.090909\n",
       "1    19  0.037037\n",
       "2    20  0.050000\n",
       "3    21  0.056604\n",
       "4    22  0.142857\n",
       "..  ...       ...\n",
       "65   83  0.000000\n",
       "66   84  0.500000\n",
       "67   85  0.000000\n",
       "68   88  0.000000\n",
       "69   92  0.000000\n",
       "\n",
       "[70 rows x 2 columns]"
      ]
     },
     "execution_count": 39,
     "metadata": {},
     "output_type": "execute_result"
    }
   ],
   "source": [
    "age_plot = df.groupby('Age').Exited.mean().reset_index()\n",
    "age_plot"
   ]
  },
  {
   "cell_type": "code",
   "execution_count": 40,
   "id": "f491061c",
   "metadata": {},
   "outputs": [
    {
     "data": {
      "image/png": "[encoded data removed]",
      "text/plain": [
       "<Figure size 432x288 with 1 Axes>"
      ]
     },
     "metadata": {},
     "output_type": "display_data"
    }
   ],
   "source": [
    "# ScatterPlot\n",
    "x = age_plot['Age']\n",
    "y = age_plot['Exited']\n",
    "plt.scatter(x, y)\n",
    "plt.title('Distribuição de Idade por taxa de churn')\n",
    "plt.ylabel('% Churn')\n",
    "plt.xlabel('Idade');"
   ]
  },
  {
   "cell_type": "code",
   "execution_count": 41,
   "id": "30fc7ca5",
   "metadata": {},
   "outputs": [
    {
     "data": {
      "image/png": "[encoded data removed]",
      "text/plain": [
       "<Figure size 432x288 with 1 Axes>"
      ]
     },
     "metadata": {},
     "output_type": "display_data"
    }
   ],
   "source": [
    "# BoxPlot\n",
    "sns.boxplot(x = df['Exited_cat'], y = df['Age'])\n",
    "plt.title('BoxPlot Churn por Idade');"
   ]
  },
  {
   "cell_type": "markdown",
   "id": "4e6f011a",
   "metadata": {},
   "source": [
    "Podemos observar através do gráfico de dispersão, que o grupo entre 50 e 60 anos apresentam uma alta taxa de churn em relação a outros grupos.\n",
    "\n",
    "E através do boxplot, que a idade média de quem entra em churn é maior do que quem não entrou em churn"
   ]
  },
  {
   "cell_type": "markdown",
   "id": "28573597",
   "metadata": {},
   "source": [
    "### Score de Crédito"
   ]
  },
  {
   "cell_type": "code",
   "execution_count": 42,
   "id": "b15e9f03",
   "metadata": {},
   "outputs": [
    {
     "data": {
      "text/html": [
       "<div>\n",
       "<style scoped>\n",
       "    .dataframe tbody tr th:only-of-type {\n",
       "        vertical-align: middle;\n",
       "    }\n",
       "\n",
       "    .dataframe tbody tr th {\n",
       "        vertical-align: top;\n",
       "    }\n",
       "\n",
       "    .dataframe thead th {\n",
       "        text-align: right;\n",
       "    }\n",
       "</style>\n",
       "<table border=\"1\" class=\"dataframe\">\n",
       "  <thead>\n",
       "    <tr style=\"text-align: right;\">\n",
       "      <th></th>\n",
       "      <th>CreditScore</th>\n",
       "      <th>Exited</th>\n",
       "    </tr>\n",
       "  </thead>\n",
       "  <tbody>\n",
       "    <tr>\n",
       "      <th>0</th>\n",
       "      <td>350</td>\n",
       "      <td>1.000000</td>\n",
       "    </tr>\n",
       "    <tr>\n",
       "      <th>1</th>\n",
       "      <td>351</td>\n",
       "      <td>1.000000</td>\n",
       "    </tr>\n",
       "    <tr>\n",
       "      <th>2</th>\n",
       "      <td>358</td>\n",
       "      <td>1.000000</td>\n",
       "    </tr>\n",
       "    <tr>\n",
       "      <th>3</th>\n",
       "      <td>359</td>\n",
       "      <td>1.000000</td>\n",
       "    </tr>\n",
       "    <tr>\n",
       "      <th>4</th>\n",
       "      <td>363</td>\n",
       "      <td>1.000000</td>\n",
       "    </tr>\n",
       "    <tr>\n",
       "      <th>...</th>\n",
       "      <td>...</td>\n",
       "      <td>...</td>\n",
       "    </tr>\n",
       "    <tr>\n",
       "      <th>455</th>\n",
       "      <td>846</td>\n",
       "      <td>0.400000</td>\n",
       "    </tr>\n",
       "    <tr>\n",
       "      <th>456</th>\n",
       "      <td>847</td>\n",
       "      <td>0.333333</td>\n",
       "    </tr>\n",
       "    <tr>\n",
       "      <th>457</th>\n",
       "      <td>848</td>\n",
       "      <td>0.000000</td>\n",
       "    </tr>\n",
       "    <tr>\n",
       "      <th>458</th>\n",
       "      <td>849</td>\n",
       "      <td>0.250000</td>\n",
       "    </tr>\n",
       "    <tr>\n",
       "      <th>459</th>\n",
       "      <td>850</td>\n",
       "      <td>0.184549</td>\n",
       "    </tr>\n",
       "  </tbody>\n",
       "</table>\n",
       "<p>460 rows × 2 columns</p>\n",
       "</div>"
      ],
      "text/plain": [
       "     CreditScore    Exited\n",
       "0            350  1.000000\n",
       "1            351  1.000000\n",
       "2            358  1.000000\n",
       "3            359  1.000000\n",
       "4            363  1.000000\n",
       "..           ...       ...\n",
       "455          846  0.400000\n",
       "456          847  0.333333\n",
       "457          848  0.000000\n",
       "458          849  0.250000\n",
       "459          850  0.184549\n",
       "\n",
       "[460 rows x 2 columns]"
      ]
     },
     "execution_count": 42,
     "metadata": {},
     "output_type": "execute_result"
    }
   ],
   "source": [
    "score_plot = df.groupby('CreditScore').Exited.mean().reset_index()\n",
    "score_plot"
   ]
  },
  {
   "cell_type": "code",
   "execution_count": 43,
   "id": "93cfe0a5",
   "metadata": {},
   "outputs": [
    {
     "data": {
      "text/plain": [
       "Text(0.5, 1.0, 'Boxplot Score de Crédito por Churn')"
      ]
     },
     "execution_count": 43,
     "metadata": {},
     "output_type": "execute_result"
    },
    {
     "data": {
      "image/png": "[encoded data removed]",
      "text/plain": [
       "<Figure size 432x288 with 1 Axes>"
      ]
     },
     "metadata": {},
     "output_type": "display_data"
    }
   ],
   "source": [
    "sns.boxplot(x = df['Exited_cat'], y = df['CreditScore'])\n",
    "plt.title('Boxplot Score de Crédito por Churn')"
   ]
  },
  {
   "cell_type": "code",
   "execution_count": 44,
   "id": "5ea3e6eb",
   "metadata": {},
   "outputs": [
    {
     "data": {
      "text/plain": [
       "Text(0.5, 1.0, 'Taxa de Churn por Score de Crédito')"
      ]
     },
     "execution_count": 44,
     "metadata": {},
     "output_type": "execute_result"
    },
    {
     "data": {
      "image/png": "[encoded data removed]",
      "text/plain": [
       "<Figure size 432x288 with 1 Axes>"
      ]
     },
     "metadata": {},
     "output_type": "display_data"
    }
   ],
   "source": [
    "x = score_plot['CreditScore']\n",
    "y = score_plot['Exited']\n",
    "plt.scatter(x, y)\n",
    "plt.xlabel('Score de Crédito')\n",
    "plt.ylabel('% Churn')\n",
    "plt.title('Taxa de Churn por Score de Crédito')"
   ]
  },
  {
   "cell_type": "markdown",
   "id": "2b9076ad",
   "metadata": {},
   "source": [
    "Através dos gráficos, primeiramente podemos perceber que não há diferença na média dos scores de quem entrou em churn para quem não entrou em churn. Porém, no boxplot pode-se perceber que possuem alguns outliers no caso dos clientes que entraram em churn.\n",
    "\n",
    "E quando olhamos no segundo gráfico, o gráfico de dispersão, podemos ver um quantidade até que alta de clientes que tinham um baixo score de crédito entrar em churn. Sendo assim, percebemos um impacto do score na taxa de churn."
   ]
  },
  {
   "cell_type": "markdown",
   "id": "22c3f04a",
   "metadata": {},
   "source": [
    "# Baseline e pré-processamento dos dados"
   ]
  },
  {
   "cell_type": "markdown",
   "id": "6e04a382",
   "metadata": {},
   "source": [
    "Após a extensa tarefa de exploração dos dados, onde foi possível obter diversos insights sobre o perfil dos clientes que entraram ou não em churn, vamos entrar na etapa de pré-processamento dos dados.\n",
    "\n",
    "Mas, antes de fazer qualquer alteração nos dados, vou criar alguns modelos de Machine Learning para estes modelos servirem como baseline. Sendo assim, após qualquer alteração no conjunto de dados iremos reavaliar como esta alteração afetou a criação do modelo."
   ]
  },
  {
   "cell_type": "markdown",
   "id": "378fd35d",
   "metadata": {},
   "source": [
    "### Removendo variáveis irrelevantes"
   ]
  },
  {
   "cell_type": "markdown",
   "id": "8ea9f918",
   "metadata": {},
   "source": [
    "Antes de treinar o modelo, serão removidas variáveis que não fazem sentido o modelo tentar aprender. São as variáveis RowNumber, CustomerId, Surname."
   ]
  },
  {
   "cell_type": "code",
   "execution_count": 45,
   "id": "8ceec74c",
   "metadata": {},
   "outputs": [
    {
     "data": {
      "text/html": [
       "<div>\n",
       "<style scoped>\n",
       "    .dataframe tbody tr th:only-of-type {\n",
       "        vertical-align: middle;\n",
       "    }\n",
       "\n",
       "    .dataframe tbody tr th {\n",
       "        vertical-align: top;\n",
       "    }\n",
       "\n",
       "    .dataframe thead th {\n",
       "        text-align: right;\n",
       "    }\n",
       "</style>\n",
       "<table border=\"1\" class=\"dataframe\">\n",
       "  <thead>\n",
       "    <tr style=\"text-align: right;\">\n",
       "      <th></th>\n",
       "      <th>CreditScore</th>\n",
       "      <th>Geography</th>\n",
       "      <th>Gender</th>\n",
       "      <th>Age</th>\n",
       "      <th>Tenure</th>\n",
       "      <th>Balance</th>\n",
       "      <th>NumOfProducts</th>\n",
       "      <th>HasCrCard</th>\n",
       "      <th>IsActiveMember</th>\n",
       "      <th>EstimatedSalary</th>\n",
       "      <th>Exited</th>\n",
       "    </tr>\n",
       "  </thead>\n",
       "  <tbody>\n",
       "    <tr>\n",
       "      <th>0</th>\n",
       "      <td>619</td>\n",
       "      <td>France</td>\n",
       "      <td>Female</td>\n",
       "      <td>42</td>\n",
       "      <td>2</td>\n",
       "      <td>0.00</td>\n",
       "      <td>1</td>\n",
       "      <td>1</td>\n",
       "      <td>1</td>\n",
       "      <td>101348.88</td>\n",
       "      <td>1</td>\n",
       "    </tr>\n",
       "    <tr>\n",
       "      <th>1</th>\n",
       "      <td>608</td>\n",
       "      <td>Spain</td>\n",
       "      <td>Female</td>\n",
       "      <td>41</td>\n",
       "      <td>1</td>\n",
       "      <td>83807.86</td>\n",
       "      <td>1</td>\n",
       "      <td>0</td>\n",
       "      <td>1</td>\n",
       "      <td>112542.58</td>\n",
       "      <td>0</td>\n",
       "    </tr>\n",
       "    <tr>\n",
       "      <th>2</th>\n",
       "      <td>502</td>\n",
       "      <td>France</td>\n",
       "      <td>Female</td>\n",
       "      <td>42</td>\n",
       "      <td>8</td>\n",
       "      <td>159660.80</td>\n",
       "      <td>3</td>\n",
       "      <td>1</td>\n",
       "      <td>0</td>\n",
       "      <td>113931.57</td>\n",
       "      <td>1</td>\n",
       "    </tr>\n",
       "    <tr>\n",
       "      <th>3</th>\n",
       "      <td>699</td>\n",
       "      <td>France</td>\n",
       "      <td>Female</td>\n",
       "      <td>39</td>\n",
       "      <td>1</td>\n",
       "      <td>0.00</td>\n",
       "      <td>2</td>\n",
       "      <td>0</td>\n",
       "      <td>0</td>\n",
       "      <td>93826.63</td>\n",
       "      <td>0</td>\n",
       "    </tr>\n",
       "    <tr>\n",
       "      <th>4</th>\n",
       "      <td>850</td>\n",
       "      <td>Spain</td>\n",
       "      <td>Female</td>\n",
       "      <td>43</td>\n",
       "      <td>2</td>\n",
       "      <td>125510.82</td>\n",
       "      <td>1</td>\n",
       "      <td>1</td>\n",
       "      <td>1</td>\n",
       "      <td>79084.10</td>\n",
       "      <td>0</td>\n",
       "    </tr>\n",
       "  </tbody>\n",
       "</table>\n",
       "</div>"
      ],
      "text/plain": [
       "   CreditScore Geography  Gender  Age  Tenure    Balance  NumOfProducts  \\\n",
       "0          619    France  Female   42       2       0.00              1   \n",
       "1          608     Spain  Female   41       1   83807.86              1   \n",
       "2          502    France  Female   42       8  159660.80              3   \n",
       "3          699    France  Female   39       1       0.00              2   \n",
       "4          850     Spain  Female   43       2  125510.82              1   \n",
       "\n",
       "   HasCrCard  IsActiveMember  EstimatedSalary  Exited  \n",
       "0          1               1        101348.88       1  \n",
       "1          0               1        112542.58       0  \n",
       "2          1               0        113931.57       1  \n",
       "3          0               0         93826.63       0  \n",
       "4          1               1         79084.10       0  "
      ]
     },
     "execution_count": 45,
     "metadata": {},
     "output_type": "execute_result"
    }
   ],
   "source": [
    "# Criando uma cópia do df\n",
    "df1 = df.copy()\n",
    "\n",
    "# Excluindo as variáveis (por slicing mesmo)\n",
    "df1 = df.iloc[:, 3:14]\n",
    "df1.head()"
   ]
  },
  {
   "cell_type": "markdown",
   "id": "8b908385",
   "metadata": {},
   "source": [
    "### Passando as variáveis string para numérico"
   ]
  },
  {
   "cell_type": "markdown",
   "id": "1ef4d3c3",
   "metadata": {},
   "source": [
    "Uma etapa importante a se fazer no processo de criação de modelos de ML, é transformar as variáveis do tipo string para o tipo numérico. Grandes parte dos modelos só aceitam variáveis numéricas e também muita das vezes tem um melhor desempenho com variáveis numéricas."
   ]
  },
  {
   "cell_type": "code",
   "execution_count": 46,
   "id": "40ac4ee8",
   "metadata": {},
   "outputs": [
    {
     "data": {
      "text/html": [
       "<div>\n",
       "<style scoped>\n",
       "    .dataframe tbody tr th:only-of-type {\n",
       "        vertical-align: middle;\n",
       "    }\n",
       "\n",
       "    .dataframe tbody tr th {\n",
       "        vertical-align: top;\n",
       "    }\n",
       "\n",
       "    .dataframe thead th {\n",
       "        text-align: right;\n",
       "    }\n",
       "</style>\n",
       "<table border=\"1\" class=\"dataframe\">\n",
       "  <thead>\n",
       "    <tr style=\"text-align: right;\">\n",
       "      <th></th>\n",
       "      <th>CreditScore</th>\n",
       "      <th>Geography</th>\n",
       "      <th>Gender</th>\n",
       "      <th>Age</th>\n",
       "      <th>Tenure</th>\n",
       "      <th>Balance</th>\n",
       "      <th>NumOfProducts</th>\n",
       "      <th>HasCrCard</th>\n",
       "      <th>IsActiveMember</th>\n",
       "      <th>EstimatedSalary</th>\n",
       "      <th>Exited</th>\n",
       "    </tr>\n",
       "  </thead>\n",
       "  <tbody>\n",
       "    <tr>\n",
       "      <th>9995</th>\n",
       "      <td>771</td>\n",
       "      <td>0</td>\n",
       "      <td>1</td>\n",
       "      <td>39</td>\n",
       "      <td>5</td>\n",
       "      <td>0.00</td>\n",
       "      <td>2</td>\n",
       "      <td>1</td>\n",
       "      <td>0</td>\n",
       "      <td>96270.64</td>\n",
       "      <td>0</td>\n",
       "    </tr>\n",
       "    <tr>\n",
       "      <th>9996</th>\n",
       "      <td>516</td>\n",
       "      <td>0</td>\n",
       "      <td>1</td>\n",
       "      <td>35</td>\n",
       "      <td>10</td>\n",
       "      <td>57369.61</td>\n",
       "      <td>1</td>\n",
       "      <td>1</td>\n",
       "      <td>1</td>\n",
       "      <td>101699.77</td>\n",
       "      <td>0</td>\n",
       "    </tr>\n",
       "    <tr>\n",
       "      <th>9997</th>\n",
       "      <td>709</td>\n",
       "      <td>0</td>\n",
       "      <td>0</td>\n",
       "      <td>36</td>\n",
       "      <td>7</td>\n",
       "      <td>0.00</td>\n",
       "      <td>1</td>\n",
       "      <td>0</td>\n",
       "      <td>1</td>\n",
       "      <td>42085.58</td>\n",
       "      <td>1</td>\n",
       "    </tr>\n",
       "    <tr>\n",
       "      <th>9998</th>\n",
       "      <td>772</td>\n",
       "      <td>1</td>\n",
       "      <td>1</td>\n",
       "      <td>42</td>\n",
       "      <td>3</td>\n",
       "      <td>75075.31</td>\n",
       "      <td>2</td>\n",
       "      <td>1</td>\n",
       "      <td>0</td>\n",
       "      <td>92888.52</td>\n",
       "      <td>1</td>\n",
       "    </tr>\n",
       "    <tr>\n",
       "      <th>9999</th>\n",
       "      <td>792</td>\n",
       "      <td>0</td>\n",
       "      <td>0</td>\n",
       "      <td>28</td>\n",
       "      <td>4</td>\n",
       "      <td>130142.79</td>\n",
       "      <td>1</td>\n",
       "      <td>1</td>\n",
       "      <td>0</td>\n",
       "      <td>38190.78</td>\n",
       "      <td>0</td>\n",
       "    </tr>\n",
       "  </tbody>\n",
       "</table>\n",
       "</div>"
      ],
      "text/plain": [
       "      CreditScore  Geography  Gender  Age  Tenure    Balance  NumOfProducts  \\\n",
       "9995          771          0       1   39       5       0.00              2   \n",
       "9996          516          0       1   35      10   57369.61              1   \n",
       "9997          709          0       0   36       7       0.00              1   \n",
       "9998          772          1       1   42       3   75075.31              2   \n",
       "9999          792          0       0   28       4  130142.79              1   \n",
       "\n",
       "      HasCrCard  IsActiveMember  EstimatedSalary  Exited  \n",
       "9995          1               0         96270.64       0  \n",
       "9996          1               1        101699.77       0  \n",
       "9997          0               1         42085.58       1  \n",
       "9998          1               0         92888.52       1  \n",
       "9999          1               0         38190.78       0  "
      ]
     },
     "execution_count": 46,
     "metadata": {},
     "output_type": "execute_result"
    }
   ],
   "source": [
    "# Variável Gender\n",
    "df1['Gender'] = df1['Gender'].replace(['Female', 'Male'], [0, 1])\n",
    "\n",
    "# Variável Geography\n",
    "df1['Geography'] = df1['Geography'].replace(['France', 'Germany', 'Spain'], [0, 1, 2])\n",
    "\n",
    "df1.tail()"
   ]
  },
  {
   "cell_type": "markdown",
   "id": "bf6525e8",
   "metadata": {},
   "source": [
    "### Separando os dados em treino e teste"
   ]
  },
  {
   "cell_type": "code",
   "execution_count": 47,
   "id": "16ab284c",
   "metadata": {},
   "outputs": [],
   "source": [
    "from sklearn.model_selection import train_test_split\n",
    "\n",
    "# Separando as variáveis preditoras e target\n",
    "X = df1.iloc[:, 0:10]\n",
    "y = df1.iloc[:, 10]\n",
    "\n",
    "# Definindo o tamanho do conjunto de dados\n",
    "teste_size = 0.33\n",
    "seed = 7\n",
    "\n",
    "# Dividindo os dados em treino e teste\n",
    "X_treino, X_teste, Y_treino, Y_teste = train_test_split(X, y, test_size = teste_size, random_state = seed)"
   ]
  },
  {
   "cell_type": "code",
   "execution_count": 48,
   "id": "0f77c59d",
   "metadata": {},
   "outputs": [
    {
     "name": "stdout",
     "output_type": "stream",
     "text": [
      "Tamanho dos dados de treino das variáveis preditoras (6700, 10)\n",
      "Tamanho dos dados de teste das variáveis preditoras (3300, 10)\n",
      "Tamanho dos dados de treino da variável target (6700,)\n",
      "Tamanho dos dados de treino da variável target (3300,)\n"
     ]
    }
   ],
   "source": [
    "# Resumo da amostra de dados\n",
    "print(f'Tamanho dos dados de treino das variáveis preditoras {X_treino.shape}')\n",
    "print(f'Tamanho dos dados de teste das variáveis preditoras {X_teste.shape}')\n",
    "print(f'Tamanho dos dados de treino da variável target {Y_treino.shape}')\n",
    "print(f'Tamanho dos dados de treino da variável target {Y_teste.shape}')"
   ]
  },
  {
   "cell_type": "markdown",
   "id": "0392080a",
   "metadata": {},
   "source": [
    "### Criação do modelo de baseline - Regressão Logística"
   ]
  },
  {
   "cell_type": "markdown",
   "id": "b1154ef6",
   "metadata": {},
   "source": [
    "Para o modelo de classificação base, escolhi o modelo de regressão logística, que é um ótimo modelo classificador. Porém, como mencionado anteriormente não irei fazer nenhuma alteração nos dados. "
   ]
  },
  {
   "cell_type": "code",
   "execution_count": 49,
   "id": "437de5c9",
   "metadata": {},
   "outputs": [
    {
     "name": "stdout",
     "output_type": "stream",
     "text": [
      "              precision    recall  f1-score   support\n",
      "\n",
      "           0       0.81      0.98      0.88      2641\n",
      "           1       0.37      0.05      0.10       659\n",
      "\n",
      "    accuracy                           0.79      3300\n",
      "   macro avg       0.59      0.52      0.49      3300\n",
      "weighted avg       0.72      0.79      0.73      3300\n",
      "\n",
      "[[2580   61]\n",
      " [ 623   36]]\n"
     ]
    },
    {
     "data": {
      "image/png": "[encoded data removed]",
      "text/plain": [
       "<Figure size 432x288 with 2 Axes>"
      ]
     },
     "metadata": {},
     "output_type": "display_data"
    }
   ],
   "source": [
    "from sklearn.linear_model import LogisticRegression\n",
    "from sklearn.metrics import classification_report\n",
    "from sklearn.metrics import confusion_matrix\n",
    "from sklearn.metrics import plot_confusion_matrix\n",
    "\n",
    "# Criando o modelo\n",
    "modelo = LogisticRegression(max_iter = 300)\n",
    "modelo.fit(X_treino, Y_treino)\n",
    "\n",
    "# Fazendo as previsões e construindo o relatório\n",
    "previsoes = modelo.predict(X_teste)\n",
    "report = classification_report(Y_teste, previsoes)\n",
    "\n",
    "# Imprimindo o relatório\n",
    "print(report)\n",
    "\n",
    "# Imprimindo matrix de confusão\n",
    "conf_mat = confusion_matrix(Y_teste, previsoes)\n",
    "print(conf_mat)\n",
    "\n",
    "# Plotando graficamente a matriz de confusão\n",
    "plot_confusion_matrix(modelo, X_teste, Y_teste,\n",
    "                                 cmap=plt.cm.Blues)\n",
    "plt.show()"
   ]
  },
  {
   "cell_type": "markdown",
   "id": "220dc28b",
   "metadata": {},
   "source": [
    "No modelo de baseline, teve-se uma acurácia 79%, o que é relativamente bom para um primeiro modelo. Porém, quando olhamos para a classe 1, que são os clientes que entraram em Churn, o modelo acertou apenas 36/639, ou seja, o modelo acertou 5% dos casos apenas.\n",
    "\n",
    "Isso já era esperado porque os dados da variável target estão desbalanceados, sendo assim o modelo vai aprender mais de uma classe do que outra. Portanto, será necessário balancear a classe."
   ]
  },
  {
   "cell_type": "markdown",
   "id": "20a24380",
   "metadata": {},
   "source": [
    "### Balanceamento de classes"
   ]
  },
  {
   "cell_type": "markdown",
   "id": "bfc38bf2",
   "metadata": {},
   "source": [
    "Quando se fala em balanceamento de classe, posso ter duas abordagens. A primeira é fazer um subsampling do dados, que é diminuir os dados da classe que tem maior número de observações, e o oversampling que é aumentar o número de amostras da classe que tem menos observações.\n",
    "\n",
    "Neste problema, vou adotar a técnica de oversampling SMOTE, porque temos um conjunto de dados relativamente pequenos então se fosse aplicar o subsampling diminuiria ainda mais o conjunto de dados. No caso do balanceamento de classe, não preciso aplicar nos dados de teste, somente nos dados de treino que serão usados para o modelo aprender."
   ]
  },
  {
   "cell_type": "code",
   "execution_count": 50,
   "id": "478304c2",
   "metadata": {},
   "outputs": [],
   "source": [
    "# Importa a função\n",
    "from imblearn.over_sampling import SMOTE\n",
    "\n",
    "# Cria o balanceador SMOTE\n",
    "smote_bal = SMOTE()\n",
    "\n",
    "# Aplica o balanceador\n",
    "X_treino_bal, Y_treino_bal = smote_bal.fit_resample(X_treino, Y_treino)"
   ]
  },
  {
   "cell_type": "code",
   "execution_count": 51,
   "id": "3d8968b3",
   "metadata": {},
   "outputs": [
    {
     "name": "stdout",
     "output_type": "stream",
     "text": [
      "Antes do balanceamento:\n",
      "Dados de treino X: (6700, 10)\n",
      "Dados de treino Y: (6700,)\n",
      "\n",
      "Depois do balanceamento:\n",
      "Dados de treino X: (10644, 10)\n",
      "Dados de treino Y: (10644,)\n"
     ]
    }
   ],
   "source": [
    "# Verificando como ficou os dados balanceados\n",
    "\n",
    "print('Antes do balanceamento:')\n",
    "print(f'Dados de treino X: {X_treino.shape}')\n",
    "print(f'Dados de treino Y: {Y_treino.shape}\\n')\n",
    "\n",
    "print('Depois do balanceamento:')\n",
    "print(f'Dados de treino X: {X_treino_bal.shape}')\n",
    "print(f'Dados de treino Y: {Y_treino_bal.shape}')"
   ]
  },
  {
   "cell_type": "code",
   "execution_count": 52,
   "id": "4a3e0d22",
   "metadata": {},
   "outputs": [
    {
     "data": {
      "text/plain": [
       "<AxesSubplot:xlabel='Exited', ylabel='count'>"
      ]
     },
     "execution_count": 52,
     "metadata": {},
     "output_type": "execute_result"
    },
    {
     "data": {
      "image/png": "[encoded data removed]",
      "text/plain": [
       "<Figure size 864x432 with 2 Axes>"
      ]
     },
     "metadata": {},
     "output_type": "display_data"
    }
   ],
   "source": [
    "# Plotando os gráficos antes e depois do balanceamento\n",
    "fig, ax = plt.subplots(1, 2, figsize = (12,6))\n",
    "\n",
    "sns.countplot(ax = ax[0], x = df['Exited'])\n",
    "\n",
    "sns.countplot(ax = ax[1], x = Y_treino_bal)"
   ]
  },
  {
   "cell_type": "markdown",
   "id": "07658498",
   "metadata": {},
   "source": [
    "Com os dados balanceados, podemos partir para a versão 2 do modelo de Regressão Logística"
   ]
  },
  {
   "cell_type": "markdown",
   "id": "88f065e0",
   "metadata": {},
   "source": [
    "### Versão 2 do modelo"
   ]
  },
  {
   "cell_type": "code",
   "execution_count": 53,
   "id": "efb523c5",
   "metadata": {},
   "outputs": [
    {
     "name": "stdout",
     "output_type": "stream",
     "text": [
      "              precision    recall  f1-score   support\n",
      "\n",
      "           0       0.89      0.65      0.75      2641\n",
      "           1       0.33      0.69      0.44       659\n",
      "\n",
      "    accuracy                           0.66      3300\n",
      "   macro avg       0.61      0.67      0.60      3300\n",
      "weighted avg       0.78      0.66      0.69      3300\n",
      "\n"
     ]
    },
    {
     "data": {
      "image/png": "[encoded data removed]",
      "text/plain": [
       "<Figure size 432x288 with 2 Axes>"
      ]
     },
     "metadata": {},
     "output_type": "display_data"
    }
   ],
   "source": [
    "# Criando o modelo\n",
    "modelo2 = LogisticRegression(max_iter = 300)\n",
    "modelo2.fit(X_treino_bal, Y_treino_bal)\n",
    "\n",
    "# Fazendo as previsões e construindo o relatório\n",
    "previsoes = modelo2.predict(X_teste)\n",
    "report = classification_report(Y_teste, previsoes)\n",
    "\n",
    "# Imprimindo o relatório\n",
    "print(report)\n",
    "\n",
    "# Plotando graficamente a matriz de confusão\n",
    "plot_confusion_matrix(modelo2, X_teste, Y_teste,\n",
    "                                 cmap=plt.cm.Blues)\n",
    "plt.show()"
   ]
  },
  {
   "cell_type": "markdown",
   "id": "918e2866",
   "metadata": {},
   "source": [
    "Na versão 2 do modelo, conseguimos aumentar a quantidade de vezes que o modelo acertou a classe de Churn, antes o modelo tinha acertado 5%, agora ele acertou 452/659, ou seja 69%. É uma grande melhora no modelo. Porém, se formos ver na acurária geral no modelo, ela caiu de 79% para 66%, o que é uma perda grande também.\n",
    "\n",
    "A próxima etapa, será aplicar padronização nos dados, para avaliar o comportamento do modelo."
   ]
  },
  {
   "cell_type": "markdown",
   "id": "ba8b9cd0",
   "metadata": {},
   "source": [
    "### Padronização dos dados"
   ]
  },
  {
   "cell_type": "code",
   "execution_count": 54,
   "id": "52b44b74",
   "metadata": {},
   "outputs": [],
   "source": [
    "# Padronização\n",
    "from sklearn.preprocessing import StandardScaler\n",
    "\n",
    "# Criando o padronizador\n",
    "sc = StandardScaler()\n",
    "\n",
    "# Aplicando aos dados de treino e teste\n",
    "X_treino_bal_scaled = sc.fit_transform(X_treino_bal)\n",
    "X_teste_scaled = sc.transform(X_teste)"
   ]
  },
  {
   "cell_type": "markdown",
   "id": "1e098baa",
   "metadata": {},
   "source": [
    "### Versão 3 do modelo"
   ]
  },
  {
   "cell_type": "code",
   "execution_count": 55,
   "id": "7a8ec45b",
   "metadata": {},
   "outputs": [
    {
     "name": "stdout",
     "output_type": "stream",
     "text": [
      "              precision    recall  f1-score   support\n",
      "\n",
      "           0       0.88      0.75      0.81      2641\n",
      "           1       0.37      0.58      0.45       659\n",
      "\n",
      "    accuracy                           0.72      3300\n",
      "   macro avg       0.62      0.67      0.63      3300\n",
      "weighted avg       0.78      0.72      0.74      3300\n",
      "\n"
     ]
    },
    {
     "data": {
      "image/png": "[encoded data removed]",
      "text/plain": [
       "<Figure size 432x288 with 2 Axes>"
      ]
     },
     "metadata": {},
     "output_type": "display_data"
    }
   ],
   "source": [
    "# Criando o modelo\n",
    "modelo3 = LogisticRegression(max_iter = 300)\n",
    "modelo3.fit(X_treino_bal_scaled, Y_treino_bal)\n",
    "\n",
    "# Fazendo as previsões e construindo o relatório\n",
    "previsoes = modelo3.predict(X_teste_scaled)\n",
    "report = classification_report(Y_teste, previsoes)\n",
    "\n",
    "# Imprimindo o relatório\n",
    "print(report)\n",
    "\n",
    "# Plotando graficamente a matriz de confusão\n",
    "plot_confusion_matrix(modelo3, X_teste_scaled, Y_teste,\n",
    "                                 cmap=plt.cm.Blues)\n",
    "plt.show()"
   ]
  },
  {
   "cell_type": "markdown",
   "id": "2ca2e503",
   "metadata": {},
   "source": [
    "Pontos a observar sobre a padronização dos dados. Primeiro, conseguimos aumentar a acurácia do modelo de 66% para 72%, porém diminuiu a performance nos dados dos clientes com churn para 59%. Eu poderia tentar melhorar o modelo, fazendo uma otimização de parâmetros com Grid ou RandomSearch, mas antes disso vou tentar novos modelos antes. \n",
    "\n",
    "Vou testar como se comportam 2 algoritmos de ML Ensemble, que é o Random Forest e o XGboost."
   ]
  },
  {
   "cell_type": "markdown",
   "id": "22f5c20d",
   "metadata": {},
   "source": [
    "### Random Forest"
   ]
  },
  {
   "cell_type": "code",
   "execution_count": 56,
   "id": "8d759a9f",
   "metadata": {},
   "outputs": [
    {
     "name": "stdout",
     "output_type": "stream",
     "text": [
      "              precision    recall  f1-score   support\n",
      "\n",
      "           0       0.90      0.86      0.88      2641\n",
      "           1       0.52      0.63      0.57       659\n",
      "\n",
      "    accuracy                           0.81      3300\n",
      "   macro avg       0.71      0.75      0.73      3300\n",
      "weighted avg       0.83      0.81      0.82      3300\n",
      "\n"
     ]
    },
    {
     "data": {
      "image/png": "[encoded data removed]",
      "text/plain": [
       "<Figure size 432x288 with 2 Axes>"
      ]
     },
     "metadata": {},
     "output_type": "display_data"
    }
   ],
   "source": [
    "# Import Library\n",
    "from sklearn.ensemble import RandomForestClassifier\n",
    "\n",
    "# Criando o objeto Random Forest \n",
    "RF = RandomForestClassifier()\n",
    "\n",
    "RF.fit(X_treino_bal_scaled, Y_treino_bal)\n",
    "\n",
    "# Fazendo as previsões e construindo o relatório\n",
    "previsoes = RF.predict(X_teste_scaled)\n",
    "report = classification_report(Y_teste, previsoes)\n",
    "\n",
    "# Imprimindo o relatório\n",
    "print(report)\n",
    "\n",
    "# Plotando graficamente a matriz de confusão\n",
    "plot_confusion_matrix(RF, X_teste_scaled, Y_teste,\n",
    "                                 cmap=plt.cm.Blues)\n",
    "plt.show()"
   ]
  },
  {
   "cell_type": "code",
   "execution_count": 57,
   "id": "94cbf73f",
   "metadata": {},
   "outputs": [
    {
     "data": {
      "text/plain": [
       "array([0.11225801, 0.04683858, 0.06447998, 0.22255621, 0.07211891,\n",
       "       0.12554869, 0.1064007 , 0.0201564 , 0.10887786, 0.12076465])"
      ]
     },
     "execution_count": 57,
     "metadata": {},
     "output_type": "execute_result"
    }
   ],
   "source": [
    "RF.feature_importances_"
   ]
  },
  {
   "cell_type": "markdown",
   "id": "dbf3b841",
   "metadata": {},
   "source": [
    "O modelo de Random Forest apresentou melhor comportamento do que o modelo de Regressão Logística, apresentou uma acurácia de 81% e para a variável Churn, apresentou acurácia de 62%."
   ]
  },
  {
   "cell_type": "markdown",
   "id": "74ac7673",
   "metadata": {},
   "source": [
    "### XGboost"
   ]
  },
  {
   "cell_type": "code",
   "execution_count": 58,
   "id": "687e1ce7",
   "metadata": {},
   "outputs": [
    {
     "name": "stdout",
     "output_type": "stream",
     "text": [
      "[08:54:44] WARNING: C:/Users/Administrator/workspace/xgboost-win64_release_1.4.0/src/learner.cc:1095: Starting in XGBoost 1.3.0, the default evaluation metric used with the objective 'binary:logistic' was changed from 'error' to 'logloss'. Explicitly set eval_metric if you'd like to restore the old behavior.\n",
      "              precision    recall  f1-score   support\n",
      "\n",
      "           0       0.91      0.85      0.88      2641\n",
      "           1       0.52      0.64      0.58       659\n",
      "\n",
      "    accuracy                           0.81      3300\n",
      "   macro avg       0.71      0.75      0.73      3300\n",
      "weighted avg       0.83      0.81      0.82      3300\n",
      "\n"
     ]
    },
    {
     "data": {
      "image/png": "[encoded data removed]",
      "text/plain": [
       "<Figure size 432x288 with 2 Axes>"
      ]
     },
     "metadata": {},
     "output_type": "display_data"
    }
   ],
   "source": [
    "from xgboost import XGBClassifier\n",
    "\n",
    "# Criando o modelo\n",
    "xgb = XGBClassifier()\n",
    "\n",
    "# Treinando o modelo\n",
    "xgb.fit(X_treino_bal_scaled, Y_treino_bal)\n",
    "\n",
    "# Fazendo as previsões e construindo o relatório\n",
    "previsoes = xgb.predict(X_teste_scaled)\n",
    "report = classification_report(Y_teste, previsoes)\n",
    "\n",
    "# Imprimindo o relatório\n",
    "print(report)\n",
    "\n",
    "# Plotando graficamente a matriz de confusão\n",
    "plot_confusion_matrix(xgb, X_teste_scaled, Y_teste,\n",
    "                                 cmap=plt.cm.Blues)\n",
    "plt.show()"
   ]
  },
  {
   "cell_type": "code",
   "execution_count": 59,
   "id": "a7d481a9",
   "metadata": {},
   "outputs": [
    {
     "data": {
      "text/plain": [
       "<AxesSubplot:title={'center':'Feature importance'}, xlabel='F score', ylabel='Features'>"
      ]
     },
     "execution_count": 59,
     "metadata": {},
     "output_type": "execute_result"
    },
    {
     "data": {
      "image/png": "[encoded data removed]",
      "text/plain": [
       "<Figure size 720x576 with 1 Axes>"
      ]
     },
     "metadata": {},
     "output_type": "display_data"
    }
   ],
   "source": [
    "import matplotlib.pyplot as plt \n",
    "from xgboost import plot_importance\n",
    "fig, ax = plt.subplots(figsize=(10,8))\n",
    "plot_importance(xgb, ax=ax)"
   ]
  },
  {
   "cell_type": "markdown",
   "id": "a49cf49f",
   "metadata": {},
   "source": [
    "Os resultados do XGBooost, foram bem próximos ao do Random Forest, com uma melhora de 1% nos casos de Churn."
   ]
  },
  {
   "cell_type": "markdown",
   "id": "f5f484f6",
   "metadata": {},
   "source": [
    "### AutoML"
   ]
  },
  {
   "cell_type": "markdown",
   "id": "cd2e2b6e",
   "metadata": {},
   "source": [
    "Para melhorar a performance do modelo, poderíamos voltar aos dados e melhorar o pré-processamento, por exemplo criando variáveis dummies. Porém, vou tentar uma abordagem utilizando o PyCaret para obter uma maior variedade de modelos e posteriormente fazer a otimização do modelo que apresentar a melhor performance. "
   ]
  },
  {
   "cell_type": "markdown",
   "id": "a49b5b55",
   "metadata": {},
   "source": [
    "Primeiramente, vamos setar o setup do nosso treinamento. Como pode ser visto abaixo, o caret já permite aplicar normalização e balanceamento das classes podendo trazer mais eficiência ao processo. \n",
    "\n",
    "Definimos as variáveis numéricas e categóricas do modelo, também é fornecido ao setup a variável target."
   ]
  },
  {
   "cell_type": "code",
   "execution_count": 76,
   "id": "8397c3c5",
   "metadata": {},
   "outputs": [
    {
     "data": {
      "text/html": [
       "<style  type=\"text/css\" >\n",
       "#T_06b94_row29_col1,#T_06b94_row44_col1,#T_06b94_row58_col1{\n",
       "            background-color:  lightgreen;\n",
       "        }</style><table id=\"T_06b94_\" ><thead>    <tr>        <th class=\"blank level0\" ></th>        <th class=\"col_heading level0 col0\" >Description</th>        <th class=\"col_heading level0 col1\" >Value</th>    </tr></thead><tbody>\n",
       "                <tr>\n",
       "                        <th id=\"T_06b94_level0_row0\" class=\"row_heading level0 row0\" >0</th>\n",
       "                        <td id=\"T_06b94_row0_col0\" class=\"data row0 col0\" >session_id</td>\n",
       "                        <td id=\"T_06b94_row0_col1\" class=\"data row0 col1\" >123</td>\n",
       "            </tr>\n",
       "            <tr>\n",
       "                        <th id=\"T_06b94_level0_row1\" class=\"row_heading level0 row1\" >1</th>\n",
       "                        <td id=\"T_06b94_row1_col0\" class=\"data row1 col0\" >Target</td>\n",
       "                        <td id=\"T_06b94_row1_col1\" class=\"data row1 col1\" >Exited</td>\n",
       "            </tr>\n",
       "            <tr>\n",
       "                        <th id=\"T_06b94_level0_row2\" class=\"row_heading level0 row2\" >2</th>\n",
       "                        <td id=\"T_06b94_row2_col0\" class=\"data row2 col0\" >Target Type</td>\n",
       "                        <td id=\"T_06b94_row2_col1\" class=\"data row2 col1\" >Binary</td>\n",
       "            </tr>\n",
       "            <tr>\n",
       "                        <th id=\"T_06b94_level0_row3\" class=\"row_heading level0 row3\" >3</th>\n",
       "                        <td id=\"T_06b94_row3_col0\" class=\"data row3 col0\" >Label Encoded</td>\n",
       "                        <td id=\"T_06b94_row3_col1\" class=\"data row3 col1\" >0: 0, 1: 1</td>\n",
       "            </tr>\n",
       "            <tr>\n",
       "                        <th id=\"T_06b94_level0_row4\" class=\"row_heading level0 row4\" >4</th>\n",
       "                        <td id=\"T_06b94_row4_col0\" class=\"data row4 col0\" >Original Data</td>\n",
       "                        <td id=\"T_06b94_row4_col1\" class=\"data row4 col1\" >(10000, 11)</td>\n",
       "            </tr>\n",
       "            <tr>\n",
       "                        <th id=\"T_06b94_level0_row5\" class=\"row_heading level0 row5\" >5</th>\n",
       "                        <td id=\"T_06b94_row5_col0\" class=\"data row5 col0\" >Missing Values</td>\n",
       "                        <td id=\"T_06b94_row5_col1\" class=\"data row5 col1\" >False</td>\n",
       "            </tr>\n",
       "            <tr>\n",
       "                        <th id=\"T_06b94_level0_row6\" class=\"row_heading level0 row6\" >6</th>\n",
       "                        <td id=\"T_06b94_row6_col0\" class=\"data row6 col0\" >Numeric Features</td>\n",
       "                        <td id=\"T_06b94_row6_col1\" class=\"data row6 col1\" >5</td>\n",
       "            </tr>\n",
       "            <tr>\n",
       "                        <th id=\"T_06b94_level0_row7\" class=\"row_heading level0 row7\" >7</th>\n",
       "                        <td id=\"T_06b94_row7_col0\" class=\"data row7 col0\" >Categorical Features</td>\n",
       "                        <td id=\"T_06b94_row7_col1\" class=\"data row7 col1\" >5</td>\n",
       "            </tr>\n",
       "            <tr>\n",
       "                        <th id=\"T_06b94_level0_row8\" class=\"row_heading level0 row8\" >8</th>\n",
       "                        <td id=\"T_06b94_row8_col0\" class=\"data row8 col0\" >Ordinal Features</td>\n",
       "                        <td id=\"T_06b94_row8_col1\" class=\"data row8 col1\" >False</td>\n",
       "            </tr>\n",
       "            <tr>\n",
       "                        <th id=\"T_06b94_level0_row9\" class=\"row_heading level0 row9\" >9</th>\n",
       "                        <td id=\"T_06b94_row9_col0\" class=\"data row9 col0\" >High Cardinality Features</td>\n",
       "                        <td id=\"T_06b94_row9_col1\" class=\"data row9 col1\" >False</td>\n",
       "            </tr>\n",
       "            <tr>\n",
       "                        <th id=\"T_06b94_level0_row10\" class=\"row_heading level0 row10\" >10</th>\n",
       "                        <td id=\"T_06b94_row10_col0\" class=\"data row10 col0\" >High Cardinality Method</td>\n",
       "                        <td id=\"T_06b94_row10_col1\" class=\"data row10 col1\" >None</td>\n",
       "            </tr>\n",
       "            <tr>\n",
       "                        <th id=\"T_06b94_level0_row11\" class=\"row_heading level0 row11\" >11</th>\n",
       "                        <td id=\"T_06b94_row11_col0\" class=\"data row11 col0\" >Transformed Train Set</td>\n",
       "                        <td id=\"T_06b94_row11_col1\" class=\"data row11 col1\" >(6999, 15)</td>\n",
       "            </tr>\n",
       "            <tr>\n",
       "                        <th id=\"T_06b94_level0_row12\" class=\"row_heading level0 row12\" >12</th>\n",
       "                        <td id=\"T_06b94_row12_col0\" class=\"data row12 col0\" >Transformed Test Set</td>\n",
       "                        <td id=\"T_06b94_row12_col1\" class=\"data row12 col1\" >(3001, 15)</td>\n",
       "            </tr>\n",
       "            <tr>\n",
       "                        <th id=\"T_06b94_level0_row13\" class=\"row_heading level0 row13\" >13</th>\n",
       "                        <td id=\"T_06b94_row13_col0\" class=\"data row13 col0\" >Shuffle Train-Test</td>\n",
       "                        <td id=\"T_06b94_row13_col1\" class=\"data row13 col1\" >True</td>\n",
       "            </tr>\n",
       "            <tr>\n",
       "                        <th id=\"T_06b94_level0_row14\" class=\"row_heading level0 row14\" >14</th>\n",
       "                        <td id=\"T_06b94_row14_col0\" class=\"data row14 col0\" >Stratify Train-Test</td>\n",
       "                        <td id=\"T_06b94_row14_col1\" class=\"data row14 col1\" >False</td>\n",
       "            </tr>\n",
       "            <tr>\n",
       "                        <th id=\"T_06b94_level0_row15\" class=\"row_heading level0 row15\" >15</th>\n",
       "                        <td id=\"T_06b94_row15_col0\" class=\"data row15 col0\" >Fold Generator</td>\n",
       "                        <td id=\"T_06b94_row15_col1\" class=\"data row15 col1\" >StratifiedKFold</td>\n",
       "            </tr>\n",
       "            <tr>\n",
       "                        <th id=\"T_06b94_level0_row16\" class=\"row_heading level0 row16\" >16</th>\n",
       "                        <td id=\"T_06b94_row16_col0\" class=\"data row16 col0\" >Fold Number</td>\n",
       "                        <td id=\"T_06b94_row16_col1\" class=\"data row16 col1\" >10</td>\n",
       "            </tr>\n",
       "            <tr>\n",
       "                        <th id=\"T_06b94_level0_row17\" class=\"row_heading level0 row17\" >17</th>\n",
       "                        <td id=\"T_06b94_row17_col0\" class=\"data row17 col0\" >CPU Jobs</td>\n",
       "                        <td id=\"T_06b94_row17_col1\" class=\"data row17 col1\" >-1</td>\n",
       "            </tr>\n",
       "            <tr>\n",
       "                        <th id=\"T_06b94_level0_row18\" class=\"row_heading level0 row18\" >18</th>\n",
       "                        <td id=\"T_06b94_row18_col0\" class=\"data row18 col0\" >Use GPU</td>\n",
       "                        <td id=\"T_06b94_row18_col1\" class=\"data row18 col1\" >False</td>\n",
       "            </tr>\n",
       "            <tr>\n",
       "                        <th id=\"T_06b94_level0_row19\" class=\"row_heading level0 row19\" >19</th>\n",
       "                        <td id=\"T_06b94_row19_col0\" class=\"data row19 col0\" >Log Experiment</td>\n",
       "                        <td id=\"T_06b94_row19_col1\" class=\"data row19 col1\" >False</td>\n",
       "            </tr>\n",
       "            <tr>\n",
       "                        <th id=\"T_06b94_level0_row20\" class=\"row_heading level0 row20\" >20</th>\n",
       "                        <td id=\"T_06b94_row20_col0\" class=\"data row20 col0\" >Experiment Name</td>\n",
       "                        <td id=\"T_06b94_row20_col1\" class=\"data row20 col1\" >clf-default-name</td>\n",
       "            </tr>\n",
       "            <tr>\n",
       "                        <th id=\"T_06b94_level0_row21\" class=\"row_heading level0 row21\" >21</th>\n",
       "                        <td id=\"T_06b94_row21_col0\" class=\"data row21 col0\" >USI</td>\n",
       "                        <td id=\"T_06b94_row21_col1\" class=\"data row21 col1\" >bc5e</td>\n",
       "            </tr>\n",
       "            <tr>\n",
       "                        <th id=\"T_06b94_level0_row22\" class=\"row_heading level0 row22\" >22</th>\n",
       "                        <td id=\"T_06b94_row22_col0\" class=\"data row22 col0\" >Imputation Type</td>\n",
       "                        <td id=\"T_06b94_row22_col1\" class=\"data row22 col1\" >simple</td>\n",
       "            </tr>\n",
       "            <tr>\n",
       "                        <th id=\"T_06b94_level0_row23\" class=\"row_heading level0 row23\" >23</th>\n",
       "                        <td id=\"T_06b94_row23_col0\" class=\"data row23 col0\" >Iterative Imputation Iteration</td>\n",
       "                        <td id=\"T_06b94_row23_col1\" class=\"data row23 col1\" >None</td>\n",
       "            </tr>\n",
       "            <tr>\n",
       "                        <th id=\"T_06b94_level0_row24\" class=\"row_heading level0 row24\" >24</th>\n",
       "                        <td id=\"T_06b94_row24_col0\" class=\"data row24 col0\" >Numeric Imputer</td>\n",
       "                        <td id=\"T_06b94_row24_col1\" class=\"data row24 col1\" >mean</td>\n",
       "            </tr>\n",
       "            <tr>\n",
       "                        <th id=\"T_06b94_level0_row25\" class=\"row_heading level0 row25\" >25</th>\n",
       "                        <td id=\"T_06b94_row25_col0\" class=\"data row25 col0\" >Iterative Imputation Numeric Model</td>\n",
       "                        <td id=\"T_06b94_row25_col1\" class=\"data row25 col1\" >None</td>\n",
       "            </tr>\n",
       "            <tr>\n",
       "                        <th id=\"T_06b94_level0_row26\" class=\"row_heading level0 row26\" >26</th>\n",
       "                        <td id=\"T_06b94_row26_col0\" class=\"data row26 col0\" >Categorical Imputer</td>\n",
       "                        <td id=\"T_06b94_row26_col1\" class=\"data row26 col1\" >constant</td>\n",
       "            </tr>\n",
       "            <tr>\n",
       "                        <th id=\"T_06b94_level0_row27\" class=\"row_heading level0 row27\" >27</th>\n",
       "                        <td id=\"T_06b94_row27_col0\" class=\"data row27 col0\" >Iterative Imputation Categorical Model</td>\n",
       "                        <td id=\"T_06b94_row27_col1\" class=\"data row27 col1\" >None</td>\n",
       "            </tr>\n",
       "            <tr>\n",
       "                        <th id=\"T_06b94_level0_row28\" class=\"row_heading level0 row28\" >28</th>\n",
       "                        <td id=\"T_06b94_row28_col0\" class=\"data row28 col0\" >Unknown Categoricals Handling</td>\n",
       "                        <td id=\"T_06b94_row28_col1\" class=\"data row28 col1\" >least_frequent</td>\n",
       "            </tr>\n",
       "            <tr>\n",
       "                        <th id=\"T_06b94_level0_row29\" class=\"row_heading level0 row29\" >29</th>\n",
       "                        <td id=\"T_06b94_row29_col0\" class=\"data row29 col0\" >Normalize</td>\n",
       "                        <td id=\"T_06b94_row29_col1\" class=\"data row29 col1\" >True</td>\n",
       "            </tr>\n",
       "            <tr>\n",
       "                        <th id=\"T_06b94_level0_row30\" class=\"row_heading level0 row30\" >30</th>\n",
       "                        <td id=\"T_06b94_row30_col0\" class=\"data row30 col0\" >Normalize Method</td>\n",
       "                        <td id=\"T_06b94_row30_col1\" class=\"data row30 col1\" >zscore</td>\n",
       "            </tr>\n",
       "            <tr>\n",
       "                        <th id=\"T_06b94_level0_row31\" class=\"row_heading level0 row31\" >31</th>\n",
       "                        <td id=\"T_06b94_row31_col0\" class=\"data row31 col0\" >Transformation</td>\n",
       "                        <td id=\"T_06b94_row31_col1\" class=\"data row31 col1\" >False</td>\n",
       "            </tr>\n",
       "            <tr>\n",
       "                        <th id=\"T_06b94_level0_row32\" class=\"row_heading level0 row32\" >32</th>\n",
       "                        <td id=\"T_06b94_row32_col0\" class=\"data row32 col0\" >Transformation Method</td>\n",
       "                        <td id=\"T_06b94_row32_col1\" class=\"data row32 col1\" >None</td>\n",
       "            </tr>\n",
       "            <tr>\n",
       "                        <th id=\"T_06b94_level0_row33\" class=\"row_heading level0 row33\" >33</th>\n",
       "                        <td id=\"T_06b94_row33_col0\" class=\"data row33 col0\" >PCA</td>\n",
       "                        <td id=\"T_06b94_row33_col1\" class=\"data row33 col1\" >False</td>\n",
       "            </tr>\n",
       "            <tr>\n",
       "                        <th id=\"T_06b94_level0_row34\" class=\"row_heading level0 row34\" >34</th>\n",
       "                        <td id=\"T_06b94_row34_col0\" class=\"data row34 col0\" >PCA Method</td>\n",
       "                        <td id=\"T_06b94_row34_col1\" class=\"data row34 col1\" >None</td>\n",
       "            </tr>\n",
       "            <tr>\n",
       "                        <th id=\"T_06b94_level0_row35\" class=\"row_heading level0 row35\" >35</th>\n",
       "                        <td id=\"T_06b94_row35_col0\" class=\"data row35 col0\" >PCA Components</td>\n",
       "                        <td id=\"T_06b94_row35_col1\" class=\"data row35 col1\" >None</td>\n",
       "            </tr>\n",
       "            <tr>\n",
       "                        <th id=\"T_06b94_level0_row36\" class=\"row_heading level0 row36\" >36</th>\n",
       "                        <td id=\"T_06b94_row36_col0\" class=\"data row36 col0\" >Ignore Low Variance</td>\n",
       "                        <td id=\"T_06b94_row36_col1\" class=\"data row36 col1\" >False</td>\n",
       "            </tr>\n",
       "            <tr>\n",
       "                        <th id=\"T_06b94_level0_row37\" class=\"row_heading level0 row37\" >37</th>\n",
       "                        <td id=\"T_06b94_row37_col0\" class=\"data row37 col0\" >Combine Rare Levels</td>\n",
       "                        <td id=\"T_06b94_row37_col1\" class=\"data row37 col1\" >False</td>\n",
       "            </tr>\n",
       "            <tr>\n",
       "                        <th id=\"T_06b94_level0_row38\" class=\"row_heading level0 row38\" >38</th>\n",
       "                        <td id=\"T_06b94_row38_col0\" class=\"data row38 col0\" >Rare Level Threshold</td>\n",
       "                        <td id=\"T_06b94_row38_col1\" class=\"data row38 col1\" >None</td>\n",
       "            </tr>\n",
       "            <tr>\n",
       "                        <th id=\"T_06b94_level0_row39\" class=\"row_heading level0 row39\" >39</th>\n",
       "                        <td id=\"T_06b94_row39_col0\" class=\"data row39 col0\" >Numeric Binning</td>\n",
       "                        <td id=\"T_06b94_row39_col1\" class=\"data row39 col1\" >False</td>\n",
       "            </tr>\n",
       "            <tr>\n",
       "                        <th id=\"T_06b94_level0_row40\" class=\"row_heading level0 row40\" >40</th>\n",
       "                        <td id=\"T_06b94_row40_col0\" class=\"data row40 col0\" >Remove Outliers</td>\n",
       "                        <td id=\"T_06b94_row40_col1\" class=\"data row40 col1\" >False</td>\n",
       "            </tr>\n",
       "            <tr>\n",
       "                        <th id=\"T_06b94_level0_row41\" class=\"row_heading level0 row41\" >41</th>\n",
       "                        <td id=\"T_06b94_row41_col0\" class=\"data row41 col0\" >Outliers Threshold</td>\n",
       "                        <td id=\"T_06b94_row41_col1\" class=\"data row41 col1\" >None</td>\n",
       "            </tr>\n",
       "            <tr>\n",
       "                        <th id=\"T_06b94_level0_row42\" class=\"row_heading level0 row42\" >42</th>\n",
       "                        <td id=\"T_06b94_row42_col0\" class=\"data row42 col0\" >Remove Multicollinearity</td>\n",
       "                        <td id=\"T_06b94_row42_col1\" class=\"data row42 col1\" >False</td>\n",
       "            </tr>\n",
       "            <tr>\n",
       "                        <th id=\"T_06b94_level0_row43\" class=\"row_heading level0 row43\" >43</th>\n",
       "                        <td id=\"T_06b94_row43_col0\" class=\"data row43 col0\" >Multicollinearity Threshold</td>\n",
       "                        <td id=\"T_06b94_row43_col1\" class=\"data row43 col1\" >None</td>\n",
       "            </tr>\n",
       "            <tr>\n",
       "                        <th id=\"T_06b94_level0_row44\" class=\"row_heading level0 row44\" >44</th>\n",
       "                        <td id=\"T_06b94_row44_col0\" class=\"data row44 col0\" >Remove Perfect Collinearity</td>\n",
       "                        <td id=\"T_06b94_row44_col1\" class=\"data row44 col1\" >True</td>\n",
       "            </tr>\n",
       "            <tr>\n",
       "                        <th id=\"T_06b94_level0_row45\" class=\"row_heading level0 row45\" >45</th>\n",
       "                        <td id=\"T_06b94_row45_col0\" class=\"data row45 col0\" >Clustering</td>\n",
       "                        <td id=\"T_06b94_row45_col1\" class=\"data row45 col1\" >False</td>\n",
       "            </tr>\n",
       "            <tr>\n",
       "                        <th id=\"T_06b94_level0_row46\" class=\"row_heading level0 row46\" >46</th>\n",
       "                        <td id=\"T_06b94_row46_col0\" class=\"data row46 col0\" >Clustering Iteration</td>\n",
       "                        <td id=\"T_06b94_row46_col1\" class=\"data row46 col1\" >None</td>\n",
       "            </tr>\n",
       "            <tr>\n",
       "                        <th id=\"T_06b94_level0_row47\" class=\"row_heading level0 row47\" >47</th>\n",
       "                        <td id=\"T_06b94_row47_col0\" class=\"data row47 col0\" >Polynomial Features</td>\n",
       "                        <td id=\"T_06b94_row47_col1\" class=\"data row47 col1\" >False</td>\n",
       "            </tr>\n",
       "            <tr>\n",
       "                        <th id=\"T_06b94_level0_row48\" class=\"row_heading level0 row48\" >48</th>\n",
       "                        <td id=\"T_06b94_row48_col0\" class=\"data row48 col0\" >Polynomial Degree</td>\n",
       "                        <td id=\"T_06b94_row48_col1\" class=\"data row48 col1\" >None</td>\n",
       "            </tr>\n",
       "            <tr>\n",
       "                        <th id=\"T_06b94_level0_row49\" class=\"row_heading level0 row49\" >49</th>\n",
       "                        <td id=\"T_06b94_row49_col0\" class=\"data row49 col0\" >Trignometry Features</td>\n",
       "                        <td id=\"T_06b94_row49_col1\" class=\"data row49 col1\" >False</td>\n",
       "            </tr>\n",
       "            <tr>\n",
       "                        <th id=\"T_06b94_level0_row50\" class=\"row_heading level0 row50\" >50</th>\n",
       "                        <td id=\"T_06b94_row50_col0\" class=\"data row50 col0\" >Polynomial Threshold</td>\n",
       "                        <td id=\"T_06b94_row50_col1\" class=\"data row50 col1\" >None</td>\n",
       "            </tr>\n",
       "            <tr>\n",
       "                        <th id=\"T_06b94_level0_row51\" class=\"row_heading level0 row51\" >51</th>\n",
       "                        <td id=\"T_06b94_row51_col0\" class=\"data row51 col0\" >Group Features</td>\n",
       "                        <td id=\"T_06b94_row51_col1\" class=\"data row51 col1\" >False</td>\n",
       "            </tr>\n",
       "            <tr>\n",
       "                        <th id=\"T_06b94_level0_row52\" class=\"row_heading level0 row52\" >52</th>\n",
       "                        <td id=\"T_06b94_row52_col0\" class=\"data row52 col0\" >Feature Selection</td>\n",
       "                        <td id=\"T_06b94_row52_col1\" class=\"data row52 col1\" >False</td>\n",
       "            </tr>\n",
       "            <tr>\n",
       "                        <th id=\"T_06b94_level0_row53\" class=\"row_heading level0 row53\" >53</th>\n",
       "                        <td id=\"T_06b94_row53_col0\" class=\"data row53 col0\" >Feature Selection Method</td>\n",
       "                        <td id=\"T_06b94_row53_col1\" class=\"data row53 col1\" >classic</td>\n",
       "            </tr>\n",
       "            <tr>\n",
       "                        <th id=\"T_06b94_level0_row54\" class=\"row_heading level0 row54\" >54</th>\n",
       "                        <td id=\"T_06b94_row54_col0\" class=\"data row54 col0\" >Features Selection Threshold</td>\n",
       "                        <td id=\"T_06b94_row54_col1\" class=\"data row54 col1\" >None</td>\n",
       "            </tr>\n",
       "            <tr>\n",
       "                        <th id=\"T_06b94_level0_row55\" class=\"row_heading level0 row55\" >55</th>\n",
       "                        <td id=\"T_06b94_row55_col0\" class=\"data row55 col0\" >Feature Interaction</td>\n",
       "                        <td id=\"T_06b94_row55_col1\" class=\"data row55 col1\" >False</td>\n",
       "            </tr>\n",
       "            <tr>\n",
       "                        <th id=\"T_06b94_level0_row56\" class=\"row_heading level0 row56\" >56</th>\n",
       "                        <td id=\"T_06b94_row56_col0\" class=\"data row56 col0\" >Feature Ratio</td>\n",
       "                        <td id=\"T_06b94_row56_col1\" class=\"data row56 col1\" >False</td>\n",
       "            </tr>\n",
       "            <tr>\n",
       "                        <th id=\"T_06b94_level0_row57\" class=\"row_heading level0 row57\" >57</th>\n",
       "                        <td id=\"T_06b94_row57_col0\" class=\"data row57 col0\" >Interaction Threshold</td>\n",
       "                        <td id=\"T_06b94_row57_col1\" class=\"data row57 col1\" >None</td>\n",
       "            </tr>\n",
       "            <tr>\n",
       "                        <th id=\"T_06b94_level0_row58\" class=\"row_heading level0 row58\" >58</th>\n",
       "                        <td id=\"T_06b94_row58_col0\" class=\"data row58 col0\" >Fix Imbalance</td>\n",
       "                        <td id=\"T_06b94_row58_col1\" class=\"data row58 col1\" >True</td>\n",
       "            </tr>\n",
       "            <tr>\n",
       "                        <th id=\"T_06b94_level0_row59\" class=\"row_heading level0 row59\" >59</th>\n",
       "                        <td id=\"T_06b94_row59_col0\" class=\"data row59 col0\" >Fix Imbalance Method</td>\n",
       "                        <td id=\"T_06b94_row59_col1\" class=\"data row59 col1\" >SMOTE</td>\n",
       "            </tr>\n",
       "    </tbody></table>"
      ],
      "text/plain": [
       "<pandas.io.formats.style.Styler at 0x23fcbb70bb0>"
      ]
     },
     "metadata": {},
     "output_type": "display_data"
    }
   ],
   "source": [
    "# Importando o módulo do caret, que trazer os algoritmos de classificação\n",
    "from pycaret.classification import *\n",
    "\n",
    "# Setando o setup de treinamento\n",
    "clf = setup(data = df1, \n",
    "            normalize = True,\n",
    "            numeric_features = ['CreditScore', 'EstimatedSalary', 'Age', 'Tenure', 'Balance'],\n",
    "            categorical_features = ['Geography', 'Gender', 'NumOfProducts', 'HasCrCard', 'IsActiveMember'],\n",
    "            target = 'Exited',\n",
    "            fix_imbalance = True,\n",
    "            session_id=123)"
   ]
  },
  {
   "cell_type": "markdown",
   "id": "0ad0ec20",
   "metadata": {},
   "source": [
    "A célula abaixo faz o treinamento de vários modelos de ML de forma automatizada, por isso AutoMl, e retorna algumas métricas que servirão de avaliação do modelo."
   ]
  },
  {
   "cell_type": "code",
   "execution_count": 77,
   "id": "912b2cde",
   "metadata": {},
   "outputs": [
    {
     "data": {
      "text/html": [
       "<style  type=\"text/css\" >\n",
       "    #T_59684_ th {\n",
       "          text-align: left;\n",
       "    }#T_59684_row0_col0,#T_59684_row0_col2,#T_59684_row0_col3,#T_59684_row0_col4,#T_59684_row0_col5,#T_59684_row0_col6,#T_59684_row1_col0,#T_59684_row1_col1,#T_59684_row1_col2,#T_59684_row1_col3,#T_59684_row1_col4,#T_59684_row1_col5,#T_59684_row1_col6,#T_59684_row1_col7,#T_59684_row2_col0,#T_59684_row2_col1,#T_59684_row2_col2,#T_59684_row2_col3,#T_59684_row2_col4,#T_59684_row2_col5,#T_59684_row2_col6,#T_59684_row2_col7,#T_59684_row3_col0,#T_59684_row3_col1,#T_59684_row3_col2,#T_59684_row3_col3,#T_59684_row3_col4,#T_59684_row3_col5,#T_59684_row3_col6,#T_59684_row3_col7,#T_59684_row4_col0,#T_59684_row4_col1,#T_59684_row4_col2,#T_59684_row4_col3,#T_59684_row4_col4,#T_59684_row4_col5,#T_59684_row4_col6,#T_59684_row4_col7,#T_59684_row5_col0,#T_59684_row5_col1,#T_59684_row5_col3,#T_59684_row5_col4,#T_59684_row5_col7,#T_59684_row6_col0,#T_59684_row6_col1,#T_59684_row6_col2,#T_59684_row6_col3,#T_59684_row6_col5,#T_59684_row6_col6,#T_59684_row6_col7,#T_59684_row7_col0,#T_59684_row7_col1,#T_59684_row7_col2,#T_59684_row7_col3,#T_59684_row7_col4,#T_59684_row7_col5,#T_59684_row7_col6,#T_59684_row7_col7,#T_59684_row8_col0,#T_59684_row8_col1,#T_59684_row8_col2,#T_59684_row8_col3,#T_59684_row8_col4,#T_59684_row8_col5,#T_59684_row8_col6,#T_59684_row8_col7,#T_59684_row9_col0,#T_59684_row9_col1,#T_59684_row9_col2,#T_59684_row9_col3,#T_59684_row9_col4,#T_59684_row9_col5,#T_59684_row9_col6,#T_59684_row9_col7,#T_59684_row10_col0,#T_59684_row10_col1,#T_59684_row10_col2,#T_59684_row10_col3,#T_59684_row10_col4,#T_59684_row10_col5,#T_59684_row10_col6,#T_59684_row10_col7,#T_59684_row11_col0,#T_59684_row11_col1,#T_59684_row11_col2,#T_59684_row11_col4,#T_59684_row11_col5,#T_59684_row11_col6,#T_59684_row11_col7,#T_59684_row12_col0,#T_59684_row12_col1,#T_59684_row12_col2,#T_59684_row12_col4,#T_59684_row12_col5,#T_59684_row12_col6,#T_59684_row12_col7,#T_59684_row13_col0,#T_59684_row13_col1,#T_59684_row13_col2,#T_59684_row13_col3,#T_59684_row13_col4,#T_59684_row13_col5,#T_59684_row13_col6,#T_59684_row13_col7,#T_59684_row14_col0,#T_59684_row14_col1,#T_59684_row14_col2,#T_59684_row14_col3,#T_59684_row14_col4,#T_59684_row14_col5,#T_59684_row14_col6,#T_59684_row14_col7{\n",
       "            text-align:  left;\n",
       "            text-align:  left;\n",
       "        }#T_59684_row0_col1,#T_59684_row0_col7,#T_59684_row5_col2,#T_59684_row5_col5,#T_59684_row5_col6,#T_59684_row6_col4,#T_59684_row11_col3,#T_59684_row12_col3{\n",
       "            text-align:  left;\n",
       "            text-align:  left;\n",
       "            background-color:  yellow;\n",
       "        }#T_59684_row0_col8,#T_59684_row1_col8,#T_59684_row2_col8,#T_59684_row3_col8,#T_59684_row4_col8,#T_59684_row5_col8,#T_59684_row7_col8,#T_59684_row8_col8,#T_59684_row9_col8,#T_59684_row10_col8,#T_59684_row11_col8,#T_59684_row12_col8,#T_59684_row13_col8,#T_59684_row14_col8{\n",
       "            text-align:  left;\n",
       "            text-align:  left;\n",
       "            background-color:  lightgrey;\n",
       "        }#T_59684_row6_col8{\n",
       "            text-align:  left;\n",
       "            text-align:  left;\n",
       "            background-color:  yellow;\n",
       "            background-color:  lightgrey;\n",
       "        }</style><table id=\"T_59684_\" ><thead>    <tr>        <th class=\"blank level0\" ></th>        <th class=\"col_heading level0 col0\" >Model</th>        <th class=\"col_heading level0 col1\" >Accuracy</th>        <th class=\"col_heading level0 col2\" >AUC</th>        <th class=\"col_heading level0 col3\" >Recall</th>        <th class=\"col_heading level0 col4\" >Prec.</th>        <th class=\"col_heading level0 col5\" >F1</th>        <th class=\"col_heading level0 col6\" >Kappa</th>        <th class=\"col_heading level0 col7\" >MCC</th>        <th class=\"col_heading level0 col8\" >TT (Sec)</th>    </tr></thead><tbody>\n",
       "                <tr>\n",
       "                        <th id=\"T_59684_level0_row0\" class=\"row_heading level0 row0\" >catboost</th>\n",
       "                        <td id=\"T_59684_row0_col0\" class=\"data row0 col0\" >CatBoost Classifier</td>\n",
       "                        <td id=\"T_59684_row0_col1\" class=\"data row0 col1\" >0.8543</td>\n",
       "                        <td id=\"T_59684_row0_col2\" class=\"data row0 col2\" >0.8547</td>\n",
       "                        <td id=\"T_59684_row0_col3\" class=\"data row0 col3\" >0.5342</td>\n",
       "                        <td id=\"T_59684_row0_col4\" class=\"data row0 col4\" >0.6846</td>\n",
       "                        <td id=\"T_59684_row0_col5\" class=\"data row0 col5\" >0.5985</td>\n",
       "                        <td id=\"T_59684_row0_col6\" class=\"data row0 col6\" >0.5115</td>\n",
       "                        <td id=\"T_59684_row0_col7\" class=\"data row0 col7\" >0.5182</td>\n",
       "                        <td id=\"T_59684_row0_col8\" class=\"data row0 col8\" >6.6830</td>\n",
       "            </tr>\n",
       "            <tr>\n",
       "                        <th id=\"T_59684_level0_row1\" class=\"row_heading level0 row1\" >lightgbm</th>\n",
       "                        <td id=\"T_59684_row1_col0\" class=\"data row1 col0\" >Light Gradient Boosting Machine</td>\n",
       "                        <td id=\"T_59684_row1_col1\" class=\"data row1 col1\" >0.8517</td>\n",
       "                        <td id=\"T_59684_row1_col2\" class=\"data row1 col2\" >0.8526</td>\n",
       "                        <td id=\"T_59684_row1_col3\" class=\"data row1 col3\" >0.5454</td>\n",
       "                        <td id=\"T_59684_row1_col4\" class=\"data row1 col4\" >0.6707</td>\n",
       "                        <td id=\"T_59684_row1_col5\" class=\"data row1 col5\" >0.6005</td>\n",
       "                        <td id=\"T_59684_row1_col6\" class=\"data row1 col6\" >0.5108</td>\n",
       "                        <td id=\"T_59684_row1_col7\" class=\"data row1 col7\" >0.5155</td>\n",
       "                        <td id=\"T_59684_row1_col8\" class=\"data row1 col8\" >0.3580</td>\n",
       "            </tr>\n",
       "            <tr>\n",
       "                        <th id=\"T_59684_level0_row2\" class=\"row_heading level0 row2\" >xgboost</th>\n",
       "                        <td id=\"T_59684_row2_col0\" class=\"data row2 col0\" >Extreme Gradient Boosting</td>\n",
       "                        <td id=\"T_59684_row2_col1\" class=\"data row2 col1\" >0.8458</td>\n",
       "                        <td id=\"T_59684_row2_col2\" class=\"data row2 col2\" >0.8390</td>\n",
       "                        <td id=\"T_59684_row2_col3\" class=\"data row2 col3\" >0.5146</td>\n",
       "                        <td id=\"T_59684_row2_col4\" class=\"data row2 col4\" >0.6595</td>\n",
       "                        <td id=\"T_59684_row2_col5\" class=\"data row2 col5\" >0.5767</td>\n",
       "                        <td id=\"T_59684_row2_col6\" class=\"data row2 col6\" >0.4844</td>\n",
       "                        <td id=\"T_59684_row2_col7\" class=\"data row2 col7\" >0.4908</td>\n",
       "                        <td id=\"T_59684_row2_col8\" class=\"data row2 col8\" >1.0740</td>\n",
       "            </tr>\n",
       "            <tr>\n",
       "                        <th id=\"T_59684_level0_row3\" class=\"row_heading level0 row3\" >et</th>\n",
       "                        <td id=\"T_59684_row3_col0\" class=\"data row3 col0\" >Extra Trees Classifier</td>\n",
       "                        <td id=\"T_59684_row3_col1\" class=\"data row3 col1\" >0.8438</td>\n",
       "                        <td id=\"T_59684_row3_col2\" class=\"data row3 col2\" >0.8389</td>\n",
       "                        <td id=\"T_59684_row3_col3\" class=\"data row3 col3\" >0.5265</td>\n",
       "                        <td id=\"T_59684_row3_col4\" class=\"data row3 col4\" >0.6442</td>\n",
       "                        <td id=\"T_59684_row3_col5\" class=\"data row3 col5\" >0.5792</td>\n",
       "                        <td id=\"T_59684_row3_col6\" class=\"data row3 col6\" >0.4846</td>\n",
       "                        <td id=\"T_59684_row3_col7\" class=\"data row3 col7\" >0.4884</td>\n",
       "                        <td id=\"T_59684_row3_col8\" class=\"data row3 col8\" >0.5230</td>\n",
       "            </tr>\n",
       "            <tr>\n",
       "                        <th id=\"T_59684_level0_row4\" class=\"row_heading level0 row4\" >rf</th>\n",
       "                        <td id=\"T_59684_row4_col0\" class=\"data row4 col0\" >Random Forest Classifier</td>\n",
       "                        <td id=\"T_59684_row4_col1\" class=\"data row4 col1\" >0.8411</td>\n",
       "                        <td id=\"T_59684_row4_col2\" class=\"data row4 col2\" >0.8422</td>\n",
       "                        <td id=\"T_59684_row4_col3\" class=\"data row4 col3\" >0.5565</td>\n",
       "                        <td id=\"T_59684_row4_col4\" class=\"data row4 col4\" >0.6270</td>\n",
       "                        <td id=\"T_59684_row4_col5\" class=\"data row4 col5\" >0.5889</td>\n",
       "                        <td id=\"T_59684_row4_col6\" class=\"data row4 col6\" >0.4910</td>\n",
       "                        <td id=\"T_59684_row4_col7\" class=\"data row4 col7\" >0.4928</td>\n",
       "                        <td id=\"T_59684_row4_col8\" class=\"data row4 col8\" >0.8740</td>\n",
       "            </tr>\n",
       "            <tr>\n",
       "                        <th id=\"T_59684_level0_row5\" class=\"row_heading level0 row5\" >gbc</th>\n",
       "                        <td id=\"T_59684_row5_col0\" class=\"data row5 col0\" >Gradient Boosting Classifier</td>\n",
       "                        <td id=\"T_59684_row5_col1\" class=\"data row5 col1\" >0.8371</td>\n",
       "                        <td id=\"T_59684_row5_col2\" class=\"data row5 col2\" >0.8569</td>\n",
       "                        <td id=\"T_59684_row5_col3\" class=\"data row5 col3\" >0.6389</td>\n",
       "                        <td id=\"T_59684_row5_col4\" class=\"data row5 col4\" >0.5962</td>\n",
       "                        <td id=\"T_59684_row5_col5\" class=\"data row5 col5\" >0.6161</td>\n",
       "                        <td id=\"T_59684_row5_col6\" class=\"data row5 col6\" >0.5130</td>\n",
       "                        <td id=\"T_59684_row5_col7\" class=\"data row5 col7\" >0.5140</td>\n",
       "                        <td id=\"T_59684_row5_col8\" class=\"data row5 col8\" >1.0910</td>\n",
       "            </tr>\n",
       "            <tr>\n",
       "                        <th id=\"T_59684_level0_row6\" class=\"row_heading level0 row6\" >nb</th>\n",
       "                        <td id=\"T_59684_row6_col0\" class=\"data row6 col0\" >Naive Bayes</td>\n",
       "                        <td id=\"T_59684_row6_col1\" class=\"data row6 col1\" >0.8177</td>\n",
       "                        <td id=\"T_59684_row6_col2\" class=\"data row6 col2\" >0.8026</td>\n",
       "                        <td id=\"T_59684_row6_col3\" class=\"data row6 col3\" >0.1355</td>\n",
       "                        <td id=\"T_59684_row6_col4\" class=\"data row6 col4\" >0.8415</td>\n",
       "                        <td id=\"T_59684_row6_col5\" class=\"data row6 col5\" >0.2332</td>\n",
       "                        <td id=\"T_59684_row6_col6\" class=\"data row6 col6\" >0.1868</td>\n",
       "                        <td id=\"T_59684_row6_col7\" class=\"data row6 col7\" >0.2908</td>\n",
       "                        <td id=\"T_59684_row6_col8\" class=\"data row6 col8\" >0.0480</td>\n",
       "            </tr>\n",
       "            <tr>\n",
       "                        <th id=\"T_59684_level0_row7\" class=\"row_heading level0 row7\" >ada</th>\n",
       "                        <td id=\"T_59684_row7_col0\" class=\"data row7 col0\" >Ada Boost Classifier</td>\n",
       "                        <td id=\"T_59684_row7_col1\" class=\"data row7 col1\" >0.8077</td>\n",
       "                        <td id=\"T_59684_row7_col2\" class=\"data row7 col2\" >0.8368</td>\n",
       "                        <td id=\"T_59684_row7_col3\" class=\"data row7 col3\" >0.6606</td>\n",
       "                        <td id=\"T_59684_row7_col4\" class=\"data row7 col4\" >0.5242</td>\n",
       "                        <td id=\"T_59684_row7_col5\" class=\"data row7 col5\" >0.5841</td>\n",
       "                        <td id=\"T_59684_row7_col6\" class=\"data row7 col6\" >0.4613</td>\n",
       "                        <td id=\"T_59684_row7_col7\" class=\"data row7 col7\" >0.4668</td>\n",
       "                        <td id=\"T_59684_row7_col8\" class=\"data row7 col8\" >0.4100</td>\n",
       "            </tr>\n",
       "            <tr>\n",
       "                        <th id=\"T_59684_level0_row8\" class=\"row_heading level0 row8\" >qda</th>\n",
       "                        <td id=\"T_59684_row8_col0\" class=\"data row8 col0\" >Quadratic Discriminant Analysis</td>\n",
       "                        <td id=\"T_59684_row8_col1\" class=\"data row8 col1\" >0.7954</td>\n",
       "                        <td id=\"T_59684_row8_col2\" class=\"data row8 col2\" >0.0000</td>\n",
       "                        <td id=\"T_59684_row8_col3\" class=\"data row8 col3\" >0.0000</td>\n",
       "                        <td id=\"T_59684_row8_col4\" class=\"data row8 col4\" >0.0000</td>\n",
       "                        <td id=\"T_59684_row8_col5\" class=\"data row8 col5\" >0.0000</td>\n",
       "                        <td id=\"T_59684_row8_col6\" class=\"data row8 col6\" >0.0000</td>\n",
       "                        <td id=\"T_59684_row8_col7\" class=\"data row8 col7\" >0.0000</td>\n",
       "                        <td id=\"T_59684_row8_col8\" class=\"data row8 col8\" >0.0750</td>\n",
       "            </tr>\n",
       "            <tr>\n",
       "                        <th id=\"T_59684_level0_row9\" class=\"row_heading level0 row9\" >dt</th>\n",
       "                        <td id=\"T_59684_row9_col0\" class=\"data row9 col0\" >Decision Tree Classifier</td>\n",
       "                        <td id=\"T_59684_row9_col1\" class=\"data row9 col1\" >0.7830</td>\n",
       "                        <td id=\"T_59684_row9_col2\" class=\"data row9 col2\" >0.6973</td>\n",
       "                        <td id=\"T_59684_row9_col3\" class=\"data row9 col3\" >0.5523</td>\n",
       "                        <td id=\"T_59684_row9_col4\" class=\"data row9 col4\" >0.4740</td>\n",
       "                        <td id=\"T_59684_row9_col5\" class=\"data row9 col5\" >0.5096</td>\n",
       "                        <td id=\"T_59684_row9_col6\" class=\"data row9 col6\" >0.3714</td>\n",
       "                        <td id=\"T_59684_row9_col7\" class=\"data row9 col7\" >0.3736</td>\n",
       "                        <td id=\"T_59684_row9_col8\" class=\"data row9 col8\" >0.1030</td>\n",
       "            </tr>\n",
       "            <tr>\n",
       "                        <th id=\"T_59684_level0_row10\" class=\"row_heading level0 row10\" >lr</th>\n",
       "                        <td id=\"T_59684_row10_col0\" class=\"data row10 col0\" >Logistic Regression</td>\n",
       "                        <td id=\"T_59684_row10_col1\" class=\"data row10 col1\" >0.7598</td>\n",
       "                        <td id=\"T_59684_row10_col2\" class=\"data row10 col2\" >0.8251</td>\n",
       "                        <td id=\"T_59684_row10_col3\" class=\"data row10 col3\" >0.7353</td>\n",
       "                        <td id=\"T_59684_row10_col4\" class=\"data row10 col4\" >0.4475</td>\n",
       "                        <td id=\"T_59684_row10_col5\" class=\"data row10 col5\" >0.5563</td>\n",
       "                        <td id=\"T_59684_row10_col6\" class=\"data row10 col6\" >0.4048</td>\n",
       "                        <td id=\"T_59684_row10_col7\" class=\"data row10 col7\" >0.4283</td>\n",
       "                        <td id=\"T_59684_row10_col8\" class=\"data row10 col8\" >0.8640</td>\n",
       "            </tr>\n",
       "            <tr>\n",
       "                        <th id=\"T_59684_level0_row11\" class=\"row_heading level0 row11\" >ridge</th>\n",
       "                        <td id=\"T_59684_row11_col0\" class=\"data row11 col0\" >Ridge Classifier</td>\n",
       "                        <td id=\"T_59684_row11_col1\" class=\"data row11 col1\" >0.7570</td>\n",
       "                        <td id=\"T_59684_row11_col2\" class=\"data row11 col2\" >0.0000</td>\n",
       "                        <td id=\"T_59684_row11_col3\" class=\"data row11 col3\" >0.7416</td>\n",
       "                        <td id=\"T_59684_row11_col4\" class=\"data row11 col4\" >0.4441</td>\n",
       "                        <td id=\"T_59684_row11_col5\" class=\"data row11 col5\" >0.5554</td>\n",
       "                        <td id=\"T_59684_row11_col6\" class=\"data row11 col6\" >0.4024</td>\n",
       "                        <td id=\"T_59684_row11_col7\" class=\"data row11 col7\" >0.4276</td>\n",
       "                        <td id=\"T_59684_row11_col8\" class=\"data row11 col8\" >0.0510</td>\n",
       "            </tr>\n",
       "            <tr>\n",
       "                        <th id=\"T_59684_level0_row12\" class=\"row_heading level0 row12\" >lda</th>\n",
       "                        <td id=\"T_59684_row12_col0\" class=\"data row12 col0\" >Linear Discriminant Analysis</td>\n",
       "                        <td id=\"T_59684_row12_col1\" class=\"data row12 col1\" >0.7570</td>\n",
       "                        <td id=\"T_59684_row12_col2\" class=\"data row12 col2\" >0.8240</td>\n",
       "                        <td id=\"T_59684_row12_col3\" class=\"data row12 col3\" >0.7416</td>\n",
       "                        <td id=\"T_59684_row12_col4\" class=\"data row12 col4\" >0.4441</td>\n",
       "                        <td id=\"T_59684_row12_col5\" class=\"data row12 col5\" >0.5554</td>\n",
       "                        <td id=\"T_59684_row12_col6\" class=\"data row12 col6\" >0.4024</td>\n",
       "                        <td id=\"T_59684_row12_col7\" class=\"data row12 col7\" >0.4276</td>\n",
       "                        <td id=\"T_59684_row12_col8\" class=\"data row12 col8\" >0.0550</td>\n",
       "            </tr>\n",
       "            <tr>\n",
       "                        <th id=\"T_59684_level0_row13\" class=\"row_heading level0 row13\" >svm</th>\n",
       "                        <td id=\"T_59684_row13_col0\" class=\"data row13 col0\" >SVM - Linear Kernel</td>\n",
       "                        <td id=\"T_59684_row13_col1\" class=\"data row13 col1\" >0.7561</td>\n",
       "                        <td id=\"T_59684_row13_col2\" class=\"data row13 col2\" >0.0000</td>\n",
       "                        <td id=\"T_59684_row13_col3\" class=\"data row13 col3\" >0.7129</td>\n",
       "                        <td id=\"T_59684_row13_col4\" class=\"data row13 col4\" >0.4438</td>\n",
       "                        <td id=\"T_59684_row13_col5\" class=\"data row13 col5\" >0.5457</td>\n",
       "                        <td id=\"T_59684_row13_col6\" class=\"data row13 col6\" >0.3920</td>\n",
       "                        <td id=\"T_59684_row13_col7\" class=\"data row13 col7\" >0.4134</td>\n",
       "                        <td id=\"T_59684_row13_col8\" class=\"data row13 col8\" >0.1080</td>\n",
       "            </tr>\n",
       "            <tr>\n",
       "                        <th id=\"T_59684_level0_row14\" class=\"row_heading level0 row14\" >knn</th>\n",
       "                        <td id=\"T_59684_row14_col0\" class=\"data row14 col0\" >K Neighbors Classifier</td>\n",
       "                        <td id=\"T_59684_row14_col1\" class=\"data row14 col1\" >0.7284</td>\n",
       "                        <td id=\"T_59684_row14_col2\" class=\"data row14 col2\" >0.7644</td>\n",
       "                        <td id=\"T_59684_row14_col3\" class=\"data row14 col3\" >0.6571</td>\n",
       "                        <td id=\"T_59684_row14_col4\" class=\"data row14 col4\" >0.4004</td>\n",
       "                        <td id=\"T_59684_row14_col5\" class=\"data row14 col5\" >0.4972</td>\n",
       "                        <td id=\"T_59684_row14_col6\" class=\"data row14 col6\" >0.3259</td>\n",
       "                        <td id=\"T_59684_row14_col7\" class=\"data row14 col7\" >0.3451</td>\n",
       "                        <td id=\"T_59684_row14_col8\" class=\"data row14 col8\" >0.2250</td>\n",
       "            </tr>\n",
       "    </tbody></table>"
      ],
      "text/plain": [
       "<pandas.io.formats.style.Styler at 0x23fc10d7dc0>"
      ]
     },
     "metadata": {},
     "output_type": "display_data"
    }
   ],
   "source": [
    "# Treinamento dos modelos e obtendo o 'melhor modelo'\n",
    "best = compare_models()"
   ]
  },
  {
   "cell_type": "code",
   "execution_count": 70,
   "id": "5d7cb258",
   "metadata": {},
   "outputs": [
    {
     "name": "stdout",
     "output_type": "stream",
     "text": [
      "<catboost.core.CatBoostClassifier object at 0x0000023FC94880D0>\n"
     ]
    }
   ],
   "source": [
    "print(best_model)"
   ]
  },
  {
   "cell_type": "code",
   "execution_count": 80,
   "id": "44bdf4e9",
   "metadata": {},
   "outputs": [
    {
     "data": {
      "image/png": "[encoded data removed]",
      "text/plain": [
       "<Figure size 800x500 with 1 Axes>"
      ]
     },
     "metadata": {},
     "output_type": "display_data"
    }
   ],
   "source": [
    "# Avaliando as váriaveis mais importantes para o modelo\n",
    "plot_model(best_tuned, plot='feature')"
   ]
  },
  {
   "cell_type": "markdown",
   "id": "31d8e507",
   "metadata": {},
   "source": [
    "Para o modelo treinado acima, no caso o CatBoost, que apresentou melhor acurácia, o que mais impactou no treinamento foi o tempo de permanência do cliente no banco e se o membro é ativo ou não."
   ]
  },
  {
   "cell_type": "code",
   "execution_count": 79,
   "id": "db03aea7",
   "metadata": {},
   "outputs": [
    {
     "data": {
      "image/png": "[encoded data removed]",
      "text/plain": [
       "<Figure size 576x396 with 1 Axes>"
      ]
     },
     "metadata": {},
     "output_type": "display_data"
    }
   ],
   "source": [
    "# Matriz de confusão\n",
    "plot_model(best_tuned, plot = 'confusion_matrix')"
   ]
  },
  {
   "cell_type": "markdown",
   "id": "1e904dfb",
   "metadata": {},
   "source": [
    "Na matriz de confusão surge outro fator a ser analisar. Lembrando do problema de negócio, queremos predizer se o cliente vai entrar em Churn. Dessa forma, o modelo deve acertar o máximo possível de clientes que entraram em churn nos dados históricos, para que possa ser pensado algumas soluções para oferecer aos clientes.\n",
    "\n",
    "Então, é mais importante eu acertar os clientes que entraram em Churn, do que eu classificar como Churn os que não entraram em Churn antes.\n",
    "\n",
    "Sendo assim, o melhor obtido não tem tanto sucesso em classificar os clientes em Churn. A métrica que vai dizer realmente se o modelo está melhorando ou não a eficiência é a métrica recall."
   ]
  },
  {
   "cell_type": "markdown",
   "id": "92c084e8",
   "metadata": {},
   "source": [
    "Olhando novamente a lista com modelos treinados, o modelo que apresenta o maior recall é o modelo de LDA, Linear Discriminant Analysis. Então, vou selecionar o modelo e verificar como está a confusion matrix, se apresenta uma melhora significativa dos casos com churn."
   ]
  },
  {
   "cell_type": "code",
   "execution_count": 91,
   "id": "fb835c2b",
   "metadata": {},
   "outputs": [
    {
     "data": {
      "text/html": [
       "<style  type=\"text/css\" >\n",
       "#T_dc637_row10_col0,#T_dc637_row10_col1,#T_dc637_row10_col2,#T_dc637_row10_col3,#T_dc637_row10_col4,#T_dc637_row10_col5,#T_dc637_row10_col6{\n",
       "            background:  yellow;\n",
       "        }</style><table id=\"T_dc637_\" ><thead>    <tr>        <th class=\"blank level0\" ></th>        <th class=\"col_heading level0 col0\" >Accuracy</th>        <th class=\"col_heading level0 col1\" >AUC</th>        <th class=\"col_heading level0 col2\" >Recall</th>        <th class=\"col_heading level0 col3\" >Prec.</th>        <th class=\"col_heading level0 col4\" >F1</th>        <th class=\"col_heading level0 col5\" >Kappa</th>        <th class=\"col_heading level0 col6\" >MCC</th>    </tr></thead><tbody>\n",
       "                <tr>\n",
       "                        <th id=\"T_dc637_level0_row0\" class=\"row_heading level0 row0\" >0</th>\n",
       "                        <td id=\"T_dc637_row0_col0\" class=\"data row0 col0\" >0.7614</td>\n",
       "                        <td id=\"T_dc637_row0_col1\" class=\"data row0 col1\" >0.8411</td>\n",
       "                        <td id=\"T_dc637_row0_col2\" class=\"data row0 col2\" >0.7902</td>\n",
       "                        <td id=\"T_dc637_row0_col3\" class=\"data row0 col3\" >0.4520</td>\n",
       "                        <td id=\"T_dc637_row0_col4\" class=\"data row0 col4\" >0.5751</td>\n",
       "                        <td id=\"T_dc637_row0_col5\" class=\"data row0 col5\" >0.4258</td>\n",
       "                        <td id=\"T_dc637_row0_col6\" class=\"data row0 col6\" >0.4579</td>\n",
       "            </tr>\n",
       "            <tr>\n",
       "                        <th id=\"T_dc637_level0_row1\" class=\"row_heading level0 row1\" >1</th>\n",
       "                        <td id=\"T_dc637_row1_col0\" class=\"data row1 col0\" >0.7671</td>\n",
       "                        <td id=\"T_dc637_row1_col1\" class=\"data row1 col1\" >0.8180</td>\n",
       "                        <td id=\"T_dc637_row1_col2\" class=\"data row1 col2\" >0.7273</td>\n",
       "                        <td id=\"T_dc637_row1_col3\" class=\"data row1 col3\" >0.4561</td>\n",
       "                        <td id=\"T_dc637_row1_col4\" class=\"data row1 col4\" >0.5606</td>\n",
       "                        <td id=\"T_dc637_row1_col5\" class=\"data row1 col5\" >0.4133</td>\n",
       "                        <td id=\"T_dc637_row1_col6\" class=\"data row1 col6\" >0.4342</td>\n",
       "            </tr>\n",
       "            <tr>\n",
       "                        <th id=\"T_dc637_level0_row2\" class=\"row_heading level0 row2\" >2</th>\n",
       "                        <td id=\"T_dc637_row2_col0\" class=\"data row2 col0\" >0.7743</td>\n",
       "                        <td id=\"T_dc637_row2_col1\" class=\"data row2 col1\" >0.8122</td>\n",
       "                        <td id=\"T_dc637_row2_col2\" class=\"data row2 col2\" >0.7343</td>\n",
       "                        <td id=\"T_dc637_row2_col3\" class=\"data row2 col3\" >0.4667</td>\n",
       "                        <td id=\"T_dc637_row2_col4\" class=\"data row2 col4\" >0.5707</td>\n",
       "                        <td id=\"T_dc637_row2_col5\" class=\"data row2 col5\" >0.4277</td>\n",
       "                        <td id=\"T_dc637_row2_col6\" class=\"data row2 col6\" >0.4479</td>\n",
       "            </tr>\n",
       "            <tr>\n",
       "                        <th id=\"T_dc637_level0_row3\" class=\"row_heading level0 row3\" >3</th>\n",
       "                        <td id=\"T_dc637_row3_col0\" class=\"data row3 col0\" >0.7643</td>\n",
       "                        <td id=\"T_dc637_row3_col1\" class=\"data row3 col1\" >0.8303</td>\n",
       "                        <td id=\"T_dc637_row3_col2\" class=\"data row3 col2\" >0.7622</td>\n",
       "                        <td id=\"T_dc637_row3_col3\" class=\"data row3 col3\" >0.4542</td>\n",
       "                        <td id=\"T_dc637_row3_col4\" class=\"data row3 col4\" >0.5692</td>\n",
       "                        <td id=\"T_dc637_row3_col5\" class=\"data row3 col5\" >0.4209</td>\n",
       "                        <td id=\"T_dc637_row3_col6\" class=\"data row3 col6\" >0.4477</td>\n",
       "            </tr>\n",
       "            <tr>\n",
       "                        <th id=\"T_dc637_level0_row4\" class=\"row_heading level0 row4\" >4</th>\n",
       "                        <td id=\"T_dc637_row4_col0\" class=\"data row4 col0\" >0.7814</td>\n",
       "                        <td id=\"T_dc637_row4_col1\" class=\"data row4 col1\" >0.8597</td>\n",
       "                        <td id=\"T_dc637_row4_col2\" class=\"data row4 col2\" >0.7902</td>\n",
       "                        <td id=\"T_dc637_row4_col3\" class=\"data row4 col3\" >0.4788</td>\n",
       "                        <td id=\"T_dc637_row4_col4\" class=\"data row4 col4\" >0.5963</td>\n",
       "                        <td id=\"T_dc637_row4_col5\" class=\"data row4 col5\" >0.4586</td>\n",
       "                        <td id=\"T_dc637_row4_col6\" class=\"data row4 col6\" >0.4856</td>\n",
       "            </tr>\n",
       "            <tr>\n",
       "                        <th id=\"T_dc637_level0_row5\" class=\"row_heading level0 row5\" >5</th>\n",
       "                        <td id=\"T_dc637_row5_col0\" class=\"data row5 col0\" >0.7314</td>\n",
       "                        <td id=\"T_dc637_row5_col1\" class=\"data row5 col1\" >0.7784</td>\n",
       "                        <td id=\"T_dc637_row5_col2\" class=\"data row5 col2\" >0.6434</td>\n",
       "                        <td id=\"T_dc637_row5_col3\" class=\"data row5 col3\" >0.4017</td>\n",
       "                        <td id=\"T_dc637_row5_col4\" class=\"data row5 col4\" >0.4946</td>\n",
       "                        <td id=\"T_dc637_row5_col5\" class=\"data row5 col5\" >0.3248</td>\n",
       "                        <td id=\"T_dc637_row5_col6\" class=\"data row5 col6\" >0.3415</td>\n",
       "            </tr>\n",
       "            <tr>\n",
       "                        <th id=\"T_dc637_level0_row6\" class=\"row_heading level0 row6\" >6</th>\n",
       "                        <td id=\"T_dc637_row6_col0\" class=\"data row6 col0\" >0.7629</td>\n",
       "                        <td id=\"T_dc637_row6_col1\" class=\"data row6 col1\" >0.8564</td>\n",
       "                        <td id=\"T_dc637_row6_col2\" class=\"data row6 col2\" >0.7622</td>\n",
       "                        <td id=\"T_dc637_row6_col3\" class=\"data row6 col3\" >0.4523</td>\n",
       "                        <td id=\"T_dc637_row6_col4\" class=\"data row6 col4\" >0.5677</td>\n",
       "                        <td id=\"T_dc637_row6_col5\" class=\"data row6 col5\" >0.4186</td>\n",
       "                        <td id=\"T_dc637_row6_col6\" class=\"data row6 col6\" >0.4457</td>\n",
       "            </tr>\n",
       "            <tr>\n",
       "                        <th id=\"T_dc637_level0_row7\" class=\"row_heading level0 row7\" >7</th>\n",
       "                        <td id=\"T_dc637_row7_col0\" class=\"data row7 col0\" >0.7457</td>\n",
       "                        <td id=\"T_dc637_row7_col1\" class=\"data row7 col1\" >0.8273</td>\n",
       "                        <td id=\"T_dc637_row7_col2\" class=\"data row7 col2\" >0.7413</td>\n",
       "                        <td id=\"T_dc637_row7_col3\" class=\"data row7 col3\" >0.4291</td>\n",
       "                        <td id=\"T_dc637_row7_col4\" class=\"data row7 col4\" >0.5436</td>\n",
       "                        <td id=\"T_dc637_row7_col5\" class=\"data row7 col5\" >0.3843</td>\n",
       "                        <td id=\"T_dc637_row7_col6\" class=\"data row7 col6\" >0.4118</td>\n",
       "            </tr>\n",
       "            <tr>\n",
       "                        <th id=\"T_dc637_level0_row8\" class=\"row_heading level0 row8\" >8</th>\n",
       "                        <td id=\"T_dc637_row8_col0\" class=\"data row8 col0\" >0.7643</td>\n",
       "                        <td id=\"T_dc637_row8_col1\" class=\"data row8 col1\" >0.8546</td>\n",
       "                        <td id=\"T_dc637_row8_col2\" class=\"data row8 col2\" >0.7902</td>\n",
       "                        <td id=\"T_dc637_row8_col3\" class=\"data row8 col3\" >0.4556</td>\n",
       "                        <td id=\"T_dc637_row8_col4\" class=\"data row8 col4\" >0.5780</td>\n",
       "                        <td id=\"T_dc637_row8_col5\" class=\"data row8 col5\" >0.4304</td>\n",
       "                        <td id=\"T_dc637_row8_col6\" class=\"data row8 col6\" >0.4618</td>\n",
       "            </tr>\n",
       "            <tr>\n",
       "                        <th id=\"T_dc637_level0_row9\" class=\"row_heading level0 row9\" >9</th>\n",
       "                        <td id=\"T_dc637_row9_col0\" class=\"data row9 col0\" >0.7525</td>\n",
       "                        <td id=\"T_dc637_row9_col1\" class=\"data row9 col1\" >0.8405</td>\n",
       "                        <td id=\"T_dc637_row9_col2\" class=\"data row9 col2\" >0.7762</td>\n",
       "                        <td id=\"T_dc637_row9_col3\" class=\"data row9 col3\" >0.4405</td>\n",
       "                        <td id=\"T_dc637_row9_col4\" class=\"data row9 col4\" >0.5620</td>\n",
       "                        <td id=\"T_dc637_row9_col5\" class=\"data row9 col5\" >0.4073</td>\n",
       "                        <td id=\"T_dc637_row9_col6\" class=\"data row9 col6\" >0.4391</td>\n",
       "            </tr>\n",
       "            <tr>\n",
       "                        <th id=\"T_dc637_level0_row10\" class=\"row_heading level0 row10\" >Mean</th>\n",
       "                        <td id=\"T_dc637_row10_col0\" class=\"data row10 col0\" >0.7605</td>\n",
       "                        <td id=\"T_dc637_row10_col1\" class=\"data row10 col1\" >0.8318</td>\n",
       "                        <td id=\"T_dc637_row10_col2\" class=\"data row10 col2\" >0.7517</td>\n",
       "                        <td id=\"T_dc637_row10_col3\" class=\"data row10 col3\" >0.4487</td>\n",
       "                        <td id=\"T_dc637_row10_col4\" class=\"data row10 col4\" >0.5618</td>\n",
       "                        <td id=\"T_dc637_row10_col5\" class=\"data row10 col5\" >0.4112</td>\n",
       "                        <td id=\"T_dc637_row10_col6\" class=\"data row10 col6\" >0.4373</td>\n",
       "            </tr>\n",
       "            <tr>\n",
       "                        <th id=\"T_dc637_level0_row11\" class=\"row_heading level0 row11\" >SD</th>\n",
       "                        <td id=\"T_dc637_row11_col0\" class=\"data row11 col0\" >0.0135</td>\n",
       "                        <td id=\"T_dc637_row11_col1\" class=\"data row11 col1\" >0.0235</td>\n",
       "                        <td id=\"T_dc637_row11_col2\" class=\"data row11 col2\" >0.0425</td>\n",
       "                        <td id=\"T_dc637_row11_col3\" class=\"data row11 col3\" >0.0201</td>\n",
       "                        <td id=\"T_dc637_row11_col4\" class=\"data row11 col4\" >0.0258</td>\n",
       "                        <td id=\"T_dc637_row11_col5\" class=\"data row11 col5\" >0.0338</td>\n",
       "                        <td id=\"T_dc637_row11_col6\" class=\"data row11 col6\" >0.0367</td>\n",
       "            </tr>\n",
       "    </tbody></table>"
      ],
      "text/plain": [
       "<pandas.io.formats.style.Styler at 0x23fcbad5520>"
      ]
     },
     "metadata": {},
     "output_type": "display_data"
    }
   ],
   "source": [
    "# Criando o modelo de LDA\n",
    "dt = create_model('lda', fold = 10)"
   ]
  },
  {
   "cell_type": "code",
   "execution_count": 92,
   "id": "1e2ec819",
   "metadata": {},
   "outputs": [
    {
     "data": {
      "image/png": "[encoded data removed]",
      "text/plain": [
       "<Figure size 576x396 with 1 Axes>"
      ]
     },
     "metadata": {},
     "output_type": "display_data"
    }
   ],
   "source": [
    "# Confusion Matrix LDA\n",
    "plot_model(dt, plot = 'confusion_matrix')"
   ]
  },
  {
   "cell_type": "markdown",
   "id": "cfd5b90d",
   "metadata": {},
   "source": [
    "Agora sim, podemos ver um aumento significativo do número de clientes que entraram em Churn e foram identificado pelo modelo.\n",
    "Temos um percentual de 76%.\n",
    "\n",
    "Nesse ponto é necessário tem uma conversa com a área de negócio para entender a real necessidade da área para avaliar um trade-off dos modelos, se é mais interessante termos um modelo com uma acurácia alta, mas que acerta menos os casos com Churn, ou se um modelo com acurácia menor mas com maior quantidade de acertos de Churn atende ao negócio. \n",
    "\n",
    "Irei adotar o modelo de LDA, pois acerta mais os casos com Churn e na minha visão é mais interessante ao negócio."
   ]
  },
  {
   "cell_type": "markdown",
   "id": "57ad9acb",
   "metadata": {},
   "source": [
    "Outra otimização que podemos fazer no modelo é a calibração do mesmo. É útil quando estamos trabalhando com um modelo de classificação e queremos obter a probabilidade de uma classe ou outra."
   ]
  },
  {
   "cell_type": "code",
   "execution_count": 100,
   "id": "549002d6",
   "metadata": {},
   "outputs": [
    {
     "data": {
      "image/png": "[encoded data removed]",
      "text/plain": [
       "<Figure size 700x600 with 1 Axes>"
      ]
     },
     "metadata": {},
     "output_type": "display_data"
    }
   ],
   "source": [
    "# Plot da calibração do modelo\n",
    "plot_model(dt, plot = 'calibration')"
   ]
  },
  {
   "cell_type": "code",
   "execution_count": 101,
   "id": "cb94710b",
   "metadata": {},
   "outputs": [
    {
     "data": {
      "text/html": [
       "<style  type=\"text/css\" >\n",
       "#T_bff09_row10_col0,#T_bff09_row10_col1,#T_bff09_row10_col2,#T_bff09_row10_col3,#T_bff09_row10_col4,#T_bff09_row10_col5,#T_bff09_row10_col6{\n",
       "            background:  yellow;\n",
       "        }</style><table id=\"T_bff09_\" ><thead>    <tr>        <th class=\"blank level0\" ></th>        <th class=\"col_heading level0 col0\" >Accuracy</th>        <th class=\"col_heading level0 col1\" >AUC</th>        <th class=\"col_heading level0 col2\" >Recall</th>        <th class=\"col_heading level0 col3\" >Prec.</th>        <th class=\"col_heading level0 col4\" >F1</th>        <th class=\"col_heading level0 col5\" >Kappa</th>        <th class=\"col_heading level0 col6\" >MCC</th>    </tr></thead><tbody>\n",
       "                <tr>\n",
       "                        <th id=\"T_bff09_level0_row0\" class=\"row_heading level0 row0\" >0</th>\n",
       "                        <td id=\"T_bff09_row0_col0\" class=\"data row0 col0\" >0.7614</td>\n",
       "                        <td id=\"T_bff09_row0_col1\" class=\"data row0 col1\" >0.8411</td>\n",
       "                        <td id=\"T_bff09_row0_col2\" class=\"data row0 col2\" >0.7902</td>\n",
       "                        <td id=\"T_bff09_row0_col3\" class=\"data row0 col3\" >0.4520</td>\n",
       "                        <td id=\"T_bff09_row0_col4\" class=\"data row0 col4\" >0.5751</td>\n",
       "                        <td id=\"T_bff09_row0_col5\" class=\"data row0 col5\" >0.4258</td>\n",
       "                        <td id=\"T_bff09_row0_col6\" class=\"data row0 col6\" >0.4579</td>\n",
       "            </tr>\n",
       "            <tr>\n",
       "                        <th id=\"T_bff09_level0_row1\" class=\"row_heading level0 row1\" >1</th>\n",
       "                        <td id=\"T_bff09_row1_col0\" class=\"data row1 col0\" >0.7686</td>\n",
       "                        <td id=\"T_bff09_row1_col1\" class=\"data row1 col1\" >0.8180</td>\n",
       "                        <td id=\"T_bff09_row1_col2\" class=\"data row1 col2\" >0.7273</td>\n",
       "                        <td id=\"T_bff09_row1_col3\" class=\"data row1 col3\" >0.4581</td>\n",
       "                        <td id=\"T_bff09_row1_col4\" class=\"data row1 col4\" >0.5622</td>\n",
       "                        <td id=\"T_bff09_row1_col5\" class=\"data row1 col5\" >0.4157</td>\n",
       "                        <td id=\"T_bff09_row1_col6\" class=\"data row1 col6\" >0.4362</td>\n",
       "            </tr>\n",
       "            <tr>\n",
       "                        <th id=\"T_bff09_level0_row2\" class=\"row_heading level0 row2\" >2</th>\n",
       "                        <td id=\"T_bff09_row2_col0\" class=\"data row2 col0\" >0.7743</td>\n",
       "                        <td id=\"T_bff09_row2_col1\" class=\"data row2 col1\" >0.8122</td>\n",
       "                        <td id=\"T_bff09_row2_col2\" class=\"data row2 col2\" >0.7343</td>\n",
       "                        <td id=\"T_bff09_row2_col3\" class=\"data row2 col3\" >0.4667</td>\n",
       "                        <td id=\"T_bff09_row2_col4\" class=\"data row2 col4\" >0.5707</td>\n",
       "                        <td id=\"T_bff09_row2_col5\" class=\"data row2 col5\" >0.4277</td>\n",
       "                        <td id=\"T_bff09_row2_col6\" class=\"data row2 col6\" >0.4479</td>\n",
       "            </tr>\n",
       "            <tr>\n",
       "                        <th id=\"T_bff09_level0_row3\" class=\"row_heading level0 row3\" >3</th>\n",
       "                        <td id=\"T_bff09_row3_col0\" class=\"data row3 col0\" >0.7643</td>\n",
       "                        <td id=\"T_bff09_row3_col1\" class=\"data row3 col1\" >0.8302</td>\n",
       "                        <td id=\"T_bff09_row3_col2\" class=\"data row3 col2\" >0.7622</td>\n",
       "                        <td id=\"T_bff09_row3_col3\" class=\"data row3 col3\" >0.4542</td>\n",
       "                        <td id=\"T_bff09_row3_col4\" class=\"data row3 col4\" >0.5692</td>\n",
       "                        <td id=\"T_bff09_row3_col5\" class=\"data row3 col5\" >0.4209</td>\n",
       "                        <td id=\"T_bff09_row3_col6\" class=\"data row3 col6\" >0.4477</td>\n",
       "            </tr>\n",
       "            <tr>\n",
       "                        <th id=\"T_bff09_level0_row4\" class=\"row_heading level0 row4\" >4</th>\n",
       "                        <td id=\"T_bff09_row4_col0\" class=\"data row4 col0\" >0.7814</td>\n",
       "                        <td id=\"T_bff09_row4_col1\" class=\"data row4 col1\" >0.8596</td>\n",
       "                        <td id=\"T_bff09_row4_col2\" class=\"data row4 col2\" >0.7902</td>\n",
       "                        <td id=\"T_bff09_row4_col3\" class=\"data row4 col3\" >0.4788</td>\n",
       "                        <td id=\"T_bff09_row4_col4\" class=\"data row4 col4\" >0.5963</td>\n",
       "                        <td id=\"T_bff09_row4_col5\" class=\"data row4 col5\" >0.4586</td>\n",
       "                        <td id=\"T_bff09_row4_col6\" class=\"data row4 col6\" >0.4856</td>\n",
       "            </tr>\n",
       "            <tr>\n",
       "                        <th id=\"T_bff09_level0_row5\" class=\"row_heading level0 row5\" >5</th>\n",
       "                        <td id=\"T_bff09_row5_col0\" class=\"data row5 col0\" >0.7314</td>\n",
       "                        <td id=\"T_bff09_row5_col1\" class=\"data row5 col1\" >0.7784</td>\n",
       "                        <td id=\"T_bff09_row5_col2\" class=\"data row5 col2\" >0.6434</td>\n",
       "                        <td id=\"T_bff09_row5_col3\" class=\"data row5 col3\" >0.4017</td>\n",
       "                        <td id=\"T_bff09_row5_col4\" class=\"data row5 col4\" >0.4946</td>\n",
       "                        <td id=\"T_bff09_row5_col5\" class=\"data row5 col5\" >0.3248</td>\n",
       "                        <td id=\"T_bff09_row5_col6\" class=\"data row5 col6\" >0.3415</td>\n",
       "            </tr>\n",
       "            <tr>\n",
       "                        <th id=\"T_bff09_level0_row6\" class=\"row_heading level0 row6\" >6</th>\n",
       "                        <td id=\"T_bff09_row6_col0\" class=\"data row6 col0\" >0.7629</td>\n",
       "                        <td id=\"T_bff09_row6_col1\" class=\"data row6 col1\" >0.8564</td>\n",
       "                        <td id=\"T_bff09_row6_col2\" class=\"data row6 col2\" >0.7622</td>\n",
       "                        <td id=\"T_bff09_row6_col3\" class=\"data row6 col3\" >0.4523</td>\n",
       "                        <td id=\"T_bff09_row6_col4\" class=\"data row6 col4\" >0.5677</td>\n",
       "                        <td id=\"T_bff09_row6_col5\" class=\"data row6 col5\" >0.4186</td>\n",
       "                        <td id=\"T_bff09_row6_col6\" class=\"data row6 col6\" >0.4457</td>\n",
       "            </tr>\n",
       "            <tr>\n",
       "                        <th id=\"T_bff09_level0_row7\" class=\"row_heading level0 row7\" >7</th>\n",
       "                        <td id=\"T_bff09_row7_col0\" class=\"data row7 col0\" >0.7457</td>\n",
       "                        <td id=\"T_bff09_row7_col1\" class=\"data row7 col1\" >0.8273</td>\n",
       "                        <td id=\"T_bff09_row7_col2\" class=\"data row7 col2\" >0.7413</td>\n",
       "                        <td id=\"T_bff09_row7_col3\" class=\"data row7 col3\" >0.4291</td>\n",
       "                        <td id=\"T_bff09_row7_col4\" class=\"data row7 col4\" >0.5436</td>\n",
       "                        <td id=\"T_bff09_row7_col5\" class=\"data row7 col5\" >0.3843</td>\n",
       "                        <td id=\"T_bff09_row7_col6\" class=\"data row7 col6\" >0.4118</td>\n",
       "            </tr>\n",
       "            <tr>\n",
       "                        <th id=\"T_bff09_level0_row8\" class=\"row_heading level0 row8\" >8</th>\n",
       "                        <td id=\"T_bff09_row8_col0\" class=\"data row8 col0\" >0.7643</td>\n",
       "                        <td id=\"T_bff09_row8_col1\" class=\"data row8 col1\" >0.8545</td>\n",
       "                        <td id=\"T_bff09_row8_col2\" class=\"data row8 col2\" >0.7902</td>\n",
       "                        <td id=\"T_bff09_row8_col3\" class=\"data row8 col3\" >0.4556</td>\n",
       "                        <td id=\"T_bff09_row8_col4\" class=\"data row8 col4\" >0.5780</td>\n",
       "                        <td id=\"T_bff09_row8_col5\" class=\"data row8 col5\" >0.4304</td>\n",
       "                        <td id=\"T_bff09_row8_col6\" class=\"data row8 col6\" >0.4618</td>\n",
       "            </tr>\n",
       "            <tr>\n",
       "                        <th id=\"T_bff09_level0_row9\" class=\"row_heading level0 row9\" >9</th>\n",
       "                        <td id=\"T_bff09_row9_col0\" class=\"data row9 col0\" >0.7539</td>\n",
       "                        <td id=\"T_bff09_row9_col1\" class=\"data row9 col1\" >0.8406</td>\n",
       "                        <td id=\"T_bff09_row9_col2\" class=\"data row9 col2\" >0.7762</td>\n",
       "                        <td id=\"T_bff09_row9_col3\" class=\"data row9 col3\" >0.4422</td>\n",
       "                        <td id=\"T_bff09_row9_col4\" class=\"data row9 col4\" >0.5635</td>\n",
       "                        <td id=\"T_bff09_row9_col5\" class=\"data row9 col5\" >0.4095</td>\n",
       "                        <td id=\"T_bff09_row9_col6\" class=\"data row9 col6\" >0.4410</td>\n",
       "            </tr>\n",
       "            <tr>\n",
       "                        <th id=\"T_bff09_level0_row10\" class=\"row_heading level0 row10\" >Mean</th>\n",
       "                        <td id=\"T_bff09_row10_col0\" class=\"data row10 col0\" >0.7608</td>\n",
       "                        <td id=\"T_bff09_row10_col1\" class=\"data row10 col1\" >0.8318</td>\n",
       "                        <td id=\"T_bff09_row10_col2\" class=\"data row10 col2\" >0.7517</td>\n",
       "                        <td id=\"T_bff09_row10_col3\" class=\"data row10 col3\" >0.4491</td>\n",
       "                        <td id=\"T_bff09_row10_col4\" class=\"data row10 col4\" >0.5621</td>\n",
       "                        <td id=\"T_bff09_row10_col5\" class=\"data row10 col5\" >0.4116</td>\n",
       "                        <td id=\"T_bff09_row10_col6\" class=\"data row10 col6\" >0.4377</td>\n",
       "            </tr>\n",
       "            <tr>\n",
       "                        <th id=\"T_bff09_level0_row11\" class=\"row_heading level0 row11\" >SD</th>\n",
       "                        <td id=\"T_bff09_row11_col0\" class=\"data row11 col0\" >0.0135</td>\n",
       "                        <td id=\"T_bff09_row11_col1\" class=\"data row11 col1\" >0.0235</td>\n",
       "                        <td id=\"T_bff09_row11_col2\" class=\"data row11 col2\" >0.0425</td>\n",
       "                        <td id=\"T_bff09_row11_col3\" class=\"data row11 col3\" >0.0201</td>\n",
       "                        <td id=\"T_bff09_row11_col4\" class=\"data row11 col4\" >0.0258</td>\n",
       "                        <td id=\"T_bff09_row11_col5\" class=\"data row11 col5\" >0.0339</td>\n",
       "                        <td id=\"T_bff09_row11_col6\" class=\"data row11 col6\" >0.0367</td>\n",
       "            </tr>\n",
       "    </tbody></table>"
      ],
      "text/plain": [
       "<pandas.io.formats.style.Styler at 0x23fcac94ca0>"
      ]
     },
     "metadata": {},
     "output_type": "display_data"
    }
   ],
   "source": [
    "# Calibrando o modelo\n",
    "dt_calibrated = calibrate_model(dt)"
   ]
  },
  {
   "cell_type": "code",
   "execution_count": 102,
   "id": "e35371e0",
   "metadata": {},
   "outputs": [
    {
     "data": {
      "image/png": "[encoded data removed]",
      "text/plain": [
       "<Figure size 700x600 with 1 Axes>"
      ]
     },
     "metadata": {},
     "output_type": "display_data"
    }
   ],
   "source": [
    "# Após a calibração\n",
    "plot_model(dt_calibrated, plot = 'calibration')"
   ]
  },
  {
   "cell_type": "code",
   "execution_count": 107,
   "id": "0b06ecc6",
   "metadata": {},
   "outputs": [],
   "source": [
    "# Finalizando o modelo\n",
    "lda_final = finalize_model(dt_calibrated)"
   ]
  },
  {
   "cell_type": "code",
   "execution_count": 108,
   "id": "39e02ebf",
   "metadata": {},
   "outputs": [
    {
     "name": "stdout",
     "output_type": "stream",
     "text": [
      "Transformation Pipeline and Model Successfully Saved\n"
     ]
    },
    {
     "data": {
      "text/plain": [
       "(Pipeline(memory=None,\n",
       "          steps=[('dtypes',\n",
       "                  DataTypes_Auto_infer(categorical_features=['Geography',\n",
       "                                                             'NumOfProducts'],\n",
       "                                       display_types=True, features_todrop=[],\n",
       "                                       id_columns=[],\n",
       "                                       ml_usecase='classification',\n",
       "                                       numerical_features=['CreditScore',\n",
       "                                                           'EstimatedSalary',\n",
       "                                                           'Age', 'Tenure',\n",
       "                                                           'Balance', 'Gender',\n",
       "                                                           'HasCrCard',\n",
       "                                                           'IsActiveMember'],\n",
       "                                       target='Exited', time_features=[])),\n",
       "                 ('imputer...\n",
       "                 ('dummy', Dummify(target='Exited')),\n",
       "                 ('fix_perfect', Remove_100(target='Exited')),\n",
       "                 ('clean_names', Clean_Colum_Names()),\n",
       "                 ('feature_select', 'passthrough'), ('fix_multi', 'passthrough'),\n",
       "                 ('dfs', 'passthrough'), ('pca', 'passthrough'),\n",
       "                 ['trained_model',\n",
       "                  LinearDiscriminantAnalysis(n_components=None, priors=None,\n",
       "                                             shrinkage=None, solver='svd',\n",
       "                                             store_covariance=False,\n",
       "                                             tol=0.0001)]],\n",
       "          verbose=False),\n",
       " 'lda_model_churn.pkl')"
      ]
     },
     "execution_count": 108,
     "metadata": {},
     "output_type": "execute_result"
    }
   ],
   "source": [
    "# Salvando o mdelo\n",
    "save_model(dt, 'lda_model_churn')"
   ]
  },
  {
   "cell_type": "code",
   "execution_count": 109,
   "id": "43edbc6b",
   "metadata": {},
   "outputs": [
    {
     "name": "stdout",
     "output_type": "stream",
     "text": [
      "Transformation Pipeline and Model Successfully Loaded\n"
     ]
    }
   ],
   "source": [
    "# Load Model\n",
    "lda = load_model('lda_model_churn')"
   ]
  },
  {
   "cell_type": "code",
   "execution_count": 147,
   "id": "f3751ab7",
   "metadata": {},
   "outputs": [
    {
     "data": {
      "text/html": [
       "<div>\n",
       "<style scoped>\n",
       "    .dataframe tbody tr th:only-of-type {\n",
       "        vertical-align: middle;\n",
       "    }\n",
       "\n",
       "    .dataframe tbody tr th {\n",
       "        vertical-align: top;\n",
       "    }\n",
       "\n",
       "    .dataframe thead th {\n",
       "        text-align: right;\n",
       "    }\n",
       "</style>\n",
       "<table border=\"1\" class=\"dataframe\">\n",
       "  <thead>\n",
       "    <tr style=\"text-align: right;\">\n",
       "      <th></th>\n",
       "      <th>CreditScore</th>\n",
       "      <th>Geography</th>\n",
       "      <th>Gender</th>\n",
       "      <th>Age</th>\n",
       "      <th>Tenure</th>\n",
       "      <th>Balance</th>\n",
       "      <th>NumOfProducts</th>\n",
       "      <th>HasCrCard</th>\n",
       "      <th>IsActiveMember</th>\n",
       "      <th>EstimatedSalary</th>\n",
       "      <th>Exited</th>\n",
       "      <th>Label</th>\n",
       "      <th>Score</th>\n",
       "    </tr>\n",
       "  </thead>\n",
       "  <tbody>\n",
       "    <tr>\n",
       "      <th>0</th>\n",
       "      <td>619</td>\n",
       "      <td>0</td>\n",
       "      <td>0</td>\n",
       "      <td>42</td>\n",
       "      <td>2</td>\n",
       "      <td>0.00</td>\n",
       "      <td>1</td>\n",
       "      <td>1</td>\n",
       "      <td>1</td>\n",
       "      <td>101348.88</td>\n",
       "      <td>1</td>\n",
       "      <td>1</td>\n",
       "      <td>0.5649</td>\n",
       "    </tr>\n",
       "    <tr>\n",
       "      <th>1</th>\n",
       "      <td>608</td>\n",
       "      <td>2</td>\n",
       "      <td>0</td>\n",
       "      <td>41</td>\n",
       "      <td>1</td>\n",
       "      <td>83807.86</td>\n",
       "      <td>1</td>\n",
       "      <td>0</td>\n",
       "      <td>1</td>\n",
       "      <td>112542.58</td>\n",
       "      <td>0</td>\n",
       "      <td>1</td>\n",
       "      <td>0.5558</td>\n",
       "    </tr>\n",
       "    <tr>\n",
       "      <th>2</th>\n",
       "      <td>502</td>\n",
       "      <td>0</td>\n",
       "      <td>0</td>\n",
       "      <td>42</td>\n",
       "      <td>8</td>\n",
       "      <td>159660.80</td>\n",
       "      <td>3</td>\n",
       "      <td>1</td>\n",
       "      <td>0</td>\n",
       "      <td>113931.57</td>\n",
       "      <td>1</td>\n",
       "      <td>1</td>\n",
       "      <td>0.9462</td>\n",
       "    </tr>\n",
       "    <tr>\n",
       "      <th>3</th>\n",
       "      <td>699</td>\n",
       "      <td>0</td>\n",
       "      <td>0</td>\n",
       "      <td>39</td>\n",
       "      <td>1</td>\n",
       "      <td>0.00</td>\n",
       "      <td>2</td>\n",
       "      <td>0</td>\n",
       "      <td>0</td>\n",
       "      <td>93826.63</td>\n",
       "      <td>0</td>\n",
       "      <td>0</td>\n",
       "      <td>0.7276</td>\n",
       "    </tr>\n",
       "    <tr>\n",
       "      <th>4</th>\n",
       "      <td>850</td>\n",
       "      <td>2</td>\n",
       "      <td>0</td>\n",
       "      <td>43</td>\n",
       "      <td>2</td>\n",
       "      <td>125510.82</td>\n",
       "      <td>1</td>\n",
       "      <td>1</td>\n",
       "      <td>1</td>\n",
       "      <td>79084.10</td>\n",
       "      <td>0</td>\n",
       "      <td>0</td>\n",
       "      <td>0.5279</td>\n",
       "    </tr>\n",
       "    <tr>\n",
       "      <th>...</th>\n",
       "      <td>...</td>\n",
       "      <td>...</td>\n",
       "      <td>...</td>\n",
       "      <td>...</td>\n",
       "      <td>...</td>\n",
       "      <td>...</td>\n",
       "      <td>...</td>\n",
       "      <td>...</td>\n",
       "      <td>...</td>\n",
       "      <td>...</td>\n",
       "      <td>...</td>\n",
       "      <td>...</td>\n",
       "      <td>...</td>\n",
       "    </tr>\n",
       "    <tr>\n",
       "      <th>9995</th>\n",
       "      <td>771</td>\n",
       "      <td>0</td>\n",
       "      <td>1</td>\n",
       "      <td>39</td>\n",
       "      <td>5</td>\n",
       "      <td>0.00</td>\n",
       "      <td>2</td>\n",
       "      <td>1</td>\n",
       "      <td>0</td>\n",
       "      <td>96270.64</td>\n",
       "      <td>0</td>\n",
       "      <td>0</td>\n",
       "      <td>0.8649</td>\n",
       "    </tr>\n",
       "    <tr>\n",
       "      <th>9996</th>\n",
       "      <td>516</td>\n",
       "      <td>0</td>\n",
       "      <td>1</td>\n",
       "      <td>35</td>\n",
       "      <td>10</td>\n",
       "      <td>57369.61</td>\n",
       "      <td>1</td>\n",
       "      <td>1</td>\n",
       "      <td>1</td>\n",
       "      <td>101699.77</td>\n",
       "      <td>0</td>\n",
       "      <td>0</td>\n",
       "      <td>0.7441</td>\n",
       "    </tr>\n",
       "    <tr>\n",
       "      <th>9997</th>\n",
       "      <td>709</td>\n",
       "      <td>0</td>\n",
       "      <td>0</td>\n",
       "      <td>36</td>\n",
       "      <td>7</td>\n",
       "      <td>0.00</td>\n",
       "      <td>1</td>\n",
       "      <td>0</td>\n",
       "      <td>1</td>\n",
       "      <td>42085.58</td>\n",
       "      <td>1</td>\n",
       "      <td>0</td>\n",
       "      <td>0.5862</td>\n",
       "    </tr>\n",
       "    <tr>\n",
       "      <th>9998</th>\n",
       "      <td>772</td>\n",
       "      <td>1</td>\n",
       "      <td>1</td>\n",
       "      <td>42</td>\n",
       "      <td>3</td>\n",
       "      <td>75075.31</td>\n",
       "      <td>2</td>\n",
       "      <td>1</td>\n",
       "      <td>0</td>\n",
       "      <td>92888.52</td>\n",
       "      <td>1</td>\n",
       "      <td>0</td>\n",
       "      <td>0.6523</td>\n",
       "    </tr>\n",
       "    <tr>\n",
       "      <th>9999</th>\n",
       "      <td>792</td>\n",
       "      <td>0</td>\n",
       "      <td>0</td>\n",
       "      <td>28</td>\n",
       "      <td>4</td>\n",
       "      <td>130142.79</td>\n",
       "      <td>1</td>\n",
       "      <td>1</td>\n",
       "      <td>0</td>\n",
       "      <td>38190.78</td>\n",
       "      <td>0</td>\n",
       "      <td>0</td>\n",
       "      <td>0.6068</td>\n",
       "    </tr>\n",
       "  </tbody>\n",
       "</table>\n",
       "<p>10000 rows × 13 columns</p>\n",
       "</div>"
      ],
      "text/plain": [
       "      CreditScore  Geography  Gender  Age  Tenure    Balance  NumOfProducts  \\\n",
       "0             619          0       0   42       2       0.00              1   \n",
       "1             608          2       0   41       1   83807.86              1   \n",
       "2             502          0       0   42       8  159660.80              3   \n",
       "3             699          0       0   39       1       0.00              2   \n",
       "4             850          2       0   43       2  125510.82              1   \n",
       "...           ...        ...     ...  ...     ...        ...            ...   \n",
       "9995          771          0       1   39       5       0.00              2   \n",
       "9996          516          0       1   35      10   57369.61              1   \n",
       "9997          709          0       0   36       7       0.00              1   \n",
       "9998          772          1       1   42       3   75075.31              2   \n",
       "9999          792          0       0   28       4  130142.79              1   \n",
       "\n",
       "      HasCrCard  IsActiveMember  EstimatedSalary  Exited  Label   Score  \n",
       "0             1               1        101348.88       1      1  0.5649  \n",
       "1             0               1        112542.58       0      1  0.5558  \n",
       "2             1               0        113931.57       1      1  0.9462  \n",
       "3             0               0         93826.63       0      0  0.7276  \n",
       "4             1               1         79084.10       0      0  0.5279  \n",
       "...         ...             ...              ...     ...    ...     ...  \n",
       "9995          1               0         96270.64       0      0  0.8649  \n",
       "9996          1               1        101699.77       0      0  0.7441  \n",
       "9997          0               1         42085.58       1      0  0.5862  \n",
       "9998          1               0         92888.52       1      0  0.6523  \n",
       "9999          1               0         38190.78       0      0  0.6068  \n",
       "\n",
       "[10000 rows x 13 columns]"
      ]
     },
     "execution_count": 147,
     "metadata": {},
     "output_type": "execute_result"
    }
   ],
   "source": [
    "prev"
   ]
  },
  {
   "cell_type": "code",
   "execution_count": 136,
   "id": "5ae5dd26",
   "metadata": {},
   "outputs": [
    {
     "data": {
      "text/html": [
       "<div>\n",
       "<style scoped>\n",
       "    .dataframe tbody tr th:only-of-type {\n",
       "        vertical-align: middle;\n",
       "    }\n",
       "\n",
       "    .dataframe tbody tr th {\n",
       "        vertical-align: top;\n",
       "    }\n",
       "\n",
       "    .dataframe thead th {\n",
       "        text-align: right;\n",
       "    }\n",
       "</style>\n",
       "<table border=\"1\" class=\"dataframe\">\n",
       "  <thead>\n",
       "    <tr style=\"text-align: right;\">\n",
       "      <th></th>\n",
       "      <th>CustomerId</th>\n",
       "      <th>Churn</th>\n",
       "    </tr>\n",
       "  </thead>\n",
       "  <tbody>\n",
       "    <tr>\n",
       "      <th>0</th>\n",
       "      <td>15634602</td>\n",
       "      <td>Sim</td>\n",
       "    </tr>\n",
       "    <tr>\n",
       "      <th>1</th>\n",
       "      <td>15647311</td>\n",
       "      <td>Sim</td>\n",
       "    </tr>\n",
       "    <tr>\n",
       "      <th>2</th>\n",
       "      <td>15619304</td>\n",
       "      <td>Sim</td>\n",
       "    </tr>\n",
       "    <tr>\n",
       "      <th>3</th>\n",
       "      <td>15701354</td>\n",
       "      <td>Não</td>\n",
       "    </tr>\n",
       "    <tr>\n",
       "      <th>4</th>\n",
       "      <td>15737888</td>\n",
       "      <td>Não</td>\n",
       "    </tr>\n",
       "    <tr>\n",
       "      <th>...</th>\n",
       "      <td>...</td>\n",
       "      <td>...</td>\n",
       "    </tr>\n",
       "    <tr>\n",
       "      <th>9995</th>\n",
       "      <td>15606229</td>\n",
       "      <td>Não</td>\n",
       "    </tr>\n",
       "    <tr>\n",
       "      <th>9996</th>\n",
       "      <td>15569892</td>\n",
       "      <td>Não</td>\n",
       "    </tr>\n",
       "    <tr>\n",
       "      <th>9997</th>\n",
       "      <td>15584532</td>\n",
       "      <td>Não</td>\n",
       "    </tr>\n",
       "    <tr>\n",
       "      <th>9998</th>\n",
       "      <td>15682355</td>\n",
       "      <td>Não</td>\n",
       "    </tr>\n",
       "    <tr>\n",
       "      <th>9999</th>\n",
       "      <td>15628319</td>\n",
       "      <td>Não</td>\n",
       "    </tr>\n",
       "  </tbody>\n",
       "</table>\n",
       "<p>10000 rows × 2 columns</p>\n",
       "</div>"
      ],
      "text/plain": [
       "      CustomerId Churn\n",
       "0       15634602   Sim\n",
       "1       15647311   Sim\n",
       "2       15619304   Sim\n",
       "3       15701354   Não\n",
       "4       15737888   Não\n",
       "...          ...   ...\n",
       "9995    15606229   Não\n",
       "9996    15569892   Não\n",
       "9997    15584532   Não\n",
       "9998    15682355   Não\n",
       "9999    15628319   Não\n",
       "\n",
       "[10000 rows x 2 columns]"
      ]
     },
     "execution_count": 136,
     "metadata": {},
     "output_type": "execute_result"
    }
   ],
   "source": [
    "# Previsões com o modelo\n",
    "prev = predict_model(lda, data = df1)\n",
    "\n",
    "# Fazendo a junção com os dados iniciais e entregando a solução para o cliente.\n",
    "resultados_finais = pd.DataFrame(df['CustomerId'])\n",
    "resultados_finais['Churn'] = pd.DataFrame(prev['Label'])\n",
    "resultados_finais['Churn'] = resultados_finais['Churn'].replace([0, 1], ['Não', 'Sim'])\n",
    "resultados_finais"
   ]
  },
  {
   "cell_type": "code",
   "execution_count": 145,
   "id": "4f6aad59",
   "metadata": {},
   "outputs": [],
   "source": [
    "# Salvando o resultado do trabalho em um arquivo csv\n",
    "resultados_finais.to_csv('resultados.csv')"
   ]
  },
  {
   "cell_type": "code",
   "execution_count": 184,
   "id": "ca20ab71",
   "metadata": {},
   "outputs": [
    {
     "name": "stdout",
     "output_type": "stream",
     "text": [
      "O banco teria um aumento de receita de $15816985.04, considerando um gasto de 10% do salário com despesas com banco\n"
     ]
    }
   ],
   "source": [
    "# Verificando quanto geraria de receita para os clientes\n",
    "\n",
    "# localizando os resultados que o modelo acertou\n",
    "test = prev.loc[lambda prev: prev['Exited'] == prev['Label']]\n",
    "\n",
    "# Dos resultados que o modelo acertou, selecionamos somente aqueles com churn\n",
    "test = test.loc[lambda test: test['Label'] == 1]\n",
    "\n",
    "# Obtendo a renda total desses clientes, e obtendo o 10%\n",
    "receita = test['EstimatedSalary'].sum() * 0.1\n",
    "print(f'O banco teria um aumento de receita de ${round(receita, 2)}, considerando um gasto de 10% do salário com despesas com banco')"
   ]
  },
  {
   "cell_type": "markdown",
   "id": "96231c53",
   "metadata": {},
   "source": [
    "# Fim do projeto!"
   ]
  }
 ],
 "metadata": {
  "kernelspec": {
   "display_name": "Python 3",
   "language": "python",
   "name": "python3"
  },
  "language_info": {
   "codemirror_mode": {
    "name": "ipython",
    "version": 3
   },
   "file_extension": ".py",
   "mimetype": "text/x-python",
   "name": "python",
   "nbconvert_exporter": "python",
   "pygments_lexer": "ipython3",
   "version": "3.8.8"
  }
 },
 "nbformat": 4,
 "nbformat_minor": 5
}
